{
 "cells": [
  {
   "cell_type": "code",
   "execution_count": 66,
   "id": "06aa8235-6f2f-42ee-92d0-89e5cda31789",
   "metadata": {},
   "outputs": [
    {
     "data": {
      "text/plain": [
       "'/Users/yerik/_apple_source/PY/JUPY/py2ms/_ms_git'"
      ]
     },
     "execution_count": 66,
     "metadata": {},
     "output_type": "execute_result"
    }
   ],
   "source": [
    "# EMERGENCy rEsET\n",
    "#FIRST  COMMAND + shift +. to see .git hidden\n",
    "# AFTER DELETING REPO DO THIS   :\n",
    "#!git remote remove origin\n",
    "# THEN THIS HAS TO HAVE NOTHING :\n",
    "#!git remote -v\n",
    "\n",
    "### NOW START OVER \n",
    "\n",
    "# CREATE REPO in GIT\n",
    "# GET URL: then \n",
    "# --------------- # JUST ONCE\n",
    "# !git init\n",
    "# --------------- # THEN stage, commit, push \n",
    "\n",
    "# check where you are and remember to check .git files\n",
    "import os\n",
    "os.getcwd()"
   ]
  },
  {
   "cell_type": "markdown",
   "id": "72b6b671-116b-453c-bb60-eb8b3834cc1c",
   "metadata": {},
   "source": [
    "# AFTER NEW CHANGES -> branch is main \n",
    "### 1) stage them\n",
    "### 2) commit them\n",
    "### 3) push changes"
   ]
  },
  {
   "cell_type": "code",
   "execution_count": 27,
   "id": "140dcfdb-a453-4cc5-a709-22f426cf7101",
   "metadata": {},
   "outputs": [],
   "source": [
    "# 1 # stage them\n",
    "!git add . \n",
    "# 2 # commit them\n",
    "!git commit -m \"Initial commit now\"\n",
    "# 3 # push them \n",
    "!git push -u origin main"
   ]
  },
  {
   "cell_type": "code",
   "execution_count": 29,
   "id": "705930df-a2a3-4567-8e22-d2dfc988be19",
   "metadata": {},
   "outputs": [],
   "source": [
    "#!git remote add origin git@github.com:vargasyeriko/_py2ms_git_AUDIO_EDITING_projects.git\n"
   ]
  },
  {
   "cell_type": "markdown",
   "id": "2ef1c81b-4495-4fdc-960c-488585ad143a",
   "metadata": {},
   "source": [
    "# LOOK FOR NOT-COMMITED changes, check log and branch "
   ]
  },
  {
   "cell_type": "code",
   "execution_count": 64,
   "id": "c988609c-0e9b-40b3-a0ad-ff8b7078eb81",
   "metadata": {},
   "outputs": [
    {
     "name": "stdout",
     "output_type": "stream",
     "text": [
      " \n",
      " <<< **************************************** >>> GIT VERSION :::\n",
      "git version 2.40.0\n",
      " <<<  ^^^ \n",
      "\n",
      " \n",
      " <<< **************************************** >>> GIT BRANCH :::\n",
      "* \u001b[32mmain\u001b[m\n",
      " <<<  ^^^ \n",
      "\n",
      " \n",
      " <<< **************************************** >>> UCOMMITED CHANGES :::\n",
      "On branch main\n",
      "Your branch is up to date with 'origin/main'.\n",
      "\n",
      "Changes not staged for commit:\n",
      "  (use \"git add/rm <file>...\" to update what will be committed)\n",
      "  (use \"git restore <file>...\" to discard changes in working directory)\n",
      "\t\u001b[31mmodified:   GIT_ACTIONS.ipynb\u001b[m\n",
      "\t\u001b[31mdeleted:    ms_5_Automated_content_video_Generator/output_vids/video_10_purple.mp4\u001b[m\n",
      "\t\u001b[31mdeleted:    ms_5_Automated_content_video_Generator/output_vids/video_11_white.mp4\u001b[m\n",
      "\t\u001b[31mdeleted:    ms_5_Automated_content_video_Generator/output_vids/video_12_blue.mp4\u001b[m\n",
      "\t\u001b[31mdeleted:    ms_5_Automated_content_video_Generator/output_vids/video_13_green.mp4\u001b[m\n",
      "\t\u001b[31mdeleted:    ms_5_Automated_content_video_Generator/output_vids/video_14_yellow.mp4\u001b[m\n",
      "\t\u001b[31mdeleted:    ms_5_Automated_content_video_Generator/output_vids/video_15_purple.mp4\u001b[m\n",
      "\t\u001b[31mdeleted:    ms_5_Automated_content_video_Generator/output_vids/video_16_white.mp4\u001b[m\n",
      "\t\u001b[31mdeleted:    ms_5_Automated_content_video_Generator/output_vids/video_17_blue.mp4\u001b[m\n",
      "\t\u001b[31mdeleted:    ms_5_Automated_content_video_Generator/output_vids/video_18_green.mp4\u001b[m\n",
      "\t\u001b[31mdeleted:    ms_5_Automated_content_video_Generator/output_vids/video_19_yellow.mp4\u001b[m\n",
      "\t\u001b[31mdeleted:    ms_5_Automated_content_video_Generator/output_vids/video_1_white.mp4\u001b[m\n",
      "\t\u001b[31mdeleted:    ms_5_Automated_content_video_Generator/output_vids/video_20_purple.mp4\u001b[m\n",
      "\t\u001b[31mdeleted:    ms_5_Automated_content_video_Generator/output_vids/video_2_blue.mp4\u001b[m\n",
      "\t\u001b[31mdeleted:    ms_5_Automated_content_video_Generator/output_vids/video_3_green.mp4\u001b[m\n",
      "\t\u001b[31mdeleted:    ms_5_Automated_content_video_Generator/output_vids/video_4_yellow.mp4\u001b[m\n",
      "\t\u001b[31mdeleted:    ms_5_Automated_content_video_Generator/output_vids/video_5_purple.mp4\u001b[m\n",
      "\t\u001b[31mdeleted:    ms_5_Automated_content_video_Generator/output_vids/video_6_white.mp4\u001b[m\n",
      "\t\u001b[31mdeleted:    ms_5_Automated_content_video_Generator/output_vids/video_7_blue.mp4\u001b[m\n",
      "\t\u001b[31mdeleted:    ms_5_Automated_content_video_Generator/output_vids/video_8_green.mp4\u001b[m\n",
      "\t\u001b[31mdeleted:    ms_5_Automated_content_video_Generator/output_vids/video_9_yellow.mp4\u001b[m\n",
      "\n",
      "no changes added to commit (use \"git add\" and/or \"git commit -a\")\n",
      " <<<  ^^^ \n",
      "\n",
      " \n",
      " <<< **************************************** >>> REMOTE set TO ::: \n",
      "origin\tgit@github.com:vargasyeriko/_py2ms_git_AUDIO_EDITING_projects.git (fetch)\n",
      "origin\tgit@github.com:vargasyeriko/_py2ms_git_AUDIO_EDITING_projects.git (push)\n",
      " <<<  ^^^ \n",
      "\n",
      " \n",
      " <<< **************************************** >>> DISPLAY DETAILS ::: \n",
      "user.name=yerik\n",
      "user.email=ygvargas93@gmail.com\n",
      "credential.helper=store\n",
      "init.defaultbranch=main\n",
      " <<<  ^^^ \n",
      "\n",
      " \n",
      " <<< **************************************** >>> GIT - LOG ::: \n",
      "\u001b[33mcommit 1c070493bee3ebbfaa92754171a79282f09a4807\u001b[m\u001b[33m (\u001b[m\u001b[1;36mHEAD -> \u001b[m\u001b[1;32mmain\u001b[m\u001b[33m, \u001b[m\u001b[1;31morigin/main\u001b[m\u001b[33m)\u001b[m\n",
      "Author: yerik <ygvargas93@gmail.com>\n",
      "Date:   Tue Nov 14 09:38:41 2023 -0500\n",
      "\n",
      "    Initial commit now\n",
      " <<<  ^^^ \n",
      "\n",
      " \n",
      " <<< **************************************** >>> GIT - FETCH latest CHANGES ::: \n",
      " <<<  ^^^ \n",
      "\n"
     ]
    }
   ],
   "source": [
    "print(' \\n <<< **************************************** >>> GIT VERSION :::')\n",
    "!git --version\n",
    "print(' <<<  ^^^ \\n')\n",
    "#\n",
    "print(' \\n <<< **************************************** >>> GIT BRANCH :::')\n",
    "!git branch\n",
    "print(' <<<  ^^^ \\n')\n",
    "#\n",
    "print(' \\n <<< **************************************** >>> UCOMMITED CHANGES :::')\n",
    "!git status \n",
    "print(' <<<  ^^^ \\n')\n",
    "#\n",
    "print(' \\n <<< **************************************** >>> REMOTE set TO ::: ')\n",
    "!git remote -v \n",
    "#This command displays the URLs of the remote repositories your local repository is connected to\n",
    "print(' <<<  ^^^ \\n')\n",
    "#\n",
    "print(' \\n <<< **************************************** >>> DISPLAY DETAILS ::: ')\n",
    "!git config --global --list # !git config --list\n",
    "print(' <<<  ^^^ \\n')\n",
    "#\n",
    "print(' \\n <<< **************************************** >>> GIT - LOG ::: ')\n",
    "!git log\n",
    "print(' <<<  ^^^ \\n')\n",
    "#\n",
    "print(' \\n <<< **************************************** >>> GIT - FETCH latest CHANGES ::: ')\n",
    "!git fetch\n",
    "print(' <<<  ^^^ \\n')\n"
   ]
  },
  {
   "cell_type": "code",
   "execution_count": null,
   "id": "aa28c1b4-a86d-473e-a5e7-de5b166c3cdc",
   "metadata": {},
   "outputs": [],
   "source": []
  }
 ],
 "metadata": {
  "kernelspec": {
   "display_name": "Python 3 (ipykernel)",
   "language": "python",
   "name": "python3"
  },
  "language_info": {
   "codemirror_mode": {
    "name": "ipython",
    "version": 3
   },
   "file_extension": ".py",
   "mimetype": "text/x-python",
   "name": "python",
   "nbconvert_exporter": "python",
   "pygments_lexer": "ipython3",
   "version": "3.8.18"
  }
 },
 "nbformat": 4,
 "nbformat_minor": 5
}
