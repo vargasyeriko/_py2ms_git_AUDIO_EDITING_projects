{
 "cells": [
  {
   "cell_type": "code",
   "execution_count": 1,
   "id": "72d45ad0",
   "metadata": {
    "scrolled": true
   },
   "outputs": [
    {
     "name": "stdout",
     "output_type": "stream",
     "text": [
      "###################################################################################################### - HI\n",
      "######################################################################################################\n",
      "----------------------------------------------------------------------------------------------------->\n",
      "- PY ---------------------------------------------------------------------------- GLOBAL/_1_paths.py >\n",
      "- MOST COMMON :: <desk_path>:<docs_path>:<down_path>::----------------------------------------------->\n",
      "----------------------------------------------------------------------------------------------------->\n",
      "********************************************  > No Extension *\n",
      "\t\t\t\t\t\t\t\t\t -*- [ .DS_Store ]\n",
      "\n",
      "********************************************  > Directory *\n",
      "\t\t\t\t\t\t\t\t\t -*- [ .ipynb_checkpoints ]\n",
      "\t\t\t\t\t\t\t\t\t -*- [ playlists ]\n",
      "\n",
      "********************************************  > .pkl *\n",
      "\t\t\t\t\t\t\t\t\t -*- [ 0_coll-Copy1.pkl ]\n",
      "\t\t\t\t\t\t\t\t\t -*- [ 0_coll.pkl ]\n",
      "\t\t\t\t\t\t\t\t\t -*- [ 0_current_coll-Copy1.pkl ]\n",
      "\t\t\t\t\t\t\t\t\t -*- [ 0_current_coll.pkl ]\n",
      "\n",
      "********************************************  > .ipynb *\n",
      "\t\t\t\t\t\t\t\t\t -*- [ 1_COMPUTE_ALL_FIELDS_.ipynb ]\n",
      "\t\t\t\t\t\t\t\t\t -*- [ 2_Training_Testing.ipynb ]\n",
      "\t\t\t\t\t\t\t\t\t -*- [ Build Playlist.ipynb ]\n",
      "\t\t\t\t\t\t\t\t\t -*- [ Untitled.ipynb ]\n",
      "\n",
      "********************************************  > .py *\n",
      "\t\t\t\t\t\t\t\t\t -*- [ RUN-Copy1.py ]\n",
      "exec(open(\"{direc}/RUN-Copy1.py\", encoding=\"utf-8\").read())\n",
      "\t\t\t\t\t\t\t\t\t -*- [ RUN.py ]\n",
      "exec(open(\"{direc}/RUN.py\", encoding=\"utf-8\").read())\n",
      "\t\t\t\t\t\t\t\t\t -*- [ _ms_EDA_1_numeric_var_graph.py ]\n",
      "exec(open(\"{direc}/_ms_EDA_1_numeric_var_graph.py\", encoding=\"utf-8\").read())\n",
      "\t\t\t\t\t\t\t\t\t -*- [ _ms_fields_1_duration.py ]\n",
      "exec(open(\"{direc}/_ms_fields_1_duration.py\", encoding=\"utf-8\").read())\n",
      "\t\t\t\t\t\t\t\t\t -*- [ _ms_fields_2_bitrate.py ]\n",
      "exec(open(\"{direc}/_ms_fields_2_bitrate.py\", encoding=\"utf-8\").read())\n",
      "\t\t\t\t\t\t\t\t\t -*- [ _ms_pl_info_1_AIF_IDtags.py ]\n",
      "exec(open(\"{direc}/_ms_pl_info_1_AIF_IDtags.py\", encoding=\"utf-8\").read())\n",
      "\t\t\t\t\t\t\t\t\t -*- [ _ms_pl_info_1_FLAC_IDtags.py ]\n",
      "exec(open(\"{direc}/_ms_pl_info_1_FLAC_IDtags.py\", encoding=\"utf-8\").read())\n",
      "\t\t\t\t\t\t\t\t\t -*- [ _ms_pl_info_1_M4A_IDtags.py ]\n",
      "exec(open(\"{direc}/_ms_pl_info_1_M4A_IDtags.py\", encoding=\"utf-8\").read())\n",
      "\t\t\t\t\t\t\t\t\t -*- [ _ms_pl_info_1_MP3_IDtags.py ]\n",
      "exec(open(\"{direc}/_ms_pl_info_1_MP3_IDtags.py\", encoding=\"utf-8\").read())\n",
      "\t\t\t\t\t\t\t\t\t -*- [ _ms_pl_info_1_WAV_IDtags.py ]\n",
      "exec(open(\"{direc}/_ms_pl_info_1_WAV_IDtags.py\", encoding=\"utf-8\").read())\n",
      "\t\t\t\t\t\t\t\t\t -*- [ _ms_pl_info_1a_all-id-tags.py ]\n",
      "exec(open(\"{direc}/_ms_pl_info_1a_all-id-tags.py\", encoding=\"utf-8\").read())\n",
      "\t\t\t\t\t\t\t\t\t -*- [ _ms_pl_info_2_all_LUFS.py ]\n",
      "exec(open(\"{direc}/_ms_pl_info_2_all_LUFS.py\", encoding=\"utf-8\").read())\n",
      "\t\t\t\t\t\t\t\t\t -*- [ _ms_pl_info_3_BPM.py ]\n",
      "exec(open(\"{direc}/_ms_pl_info_3_BPM.py\", encoding=\"utf-8\").read())\n",
      "\t\t\t\t\t\t\t\t\t -*- [ ms_1_music_files.py ]\n",
      "exec(open(\"{direc}/ms_1_music_files.py\", encoding=\"utf-8\").read())\n",
      "\t\t\t\t\t\t\t\t\t -*- [ ms_2_music_files_export_table.py ]\n",
      "exec(open(\"{direc}/ms_2_music_files_export_table.py\", encoding=\"utf-8\").read())\n",
      "\n",
      "----------------------------------------------------------------------------------------------------->\n",
      "######################################################################################################\n",
      "######################################################################################################\n",
      "*** ATTN * curr_direc = /Users/yerik/_apple_source/PY/JUPY/py2ms/ms_MUSIC_COLLECTION *\n",
      "----------------------------------------------------------------------------------------------------->\n",
      "READ temp ::: exec(open(f\"{direc}/_{py_lib}_topic_sub_#_spec_part.py\",encoding=\"utf-8\").read()) \n",
      "WRITE temp ::: %%writefile _2ms_topic_#_spec_part.py                             \n",
      "----------------------------------------------------------------------------------------------------->\n",
      "\n",
      "-1) py RUN ::: \n",
      "\n",
      "%%writefile RUN.py \n",
      "exec(open(f\"{direc}/*latest*.py\", encoding=\"utf-8\").read()\n",
      "\n",
      "-2) py LIB ::: \n",
      "\n",
      "%%writefile /Users/yerik/_apple_source/PY/libs/_2ms/_2ms_*descriptive_program_name*.py \n",
      "direc = \"/Users/yerik/_apple_source/PY/JUPY/py2ms/ms_MUSIC_COLLECTION\"\n",
      "exec(open(f\"{direc}/RUN.py\", encoding=\"utf-8\").read()# This Program will be added to ALL_LIBS to execute::\n",
      "----------------------------------------------------------------------------------------------------->\n",
      "######################################################################################################\n",
      "###################################################################################################### - BYE\n"
     ]
    }
   ],
   "source": [
    "exec(open(f\"/Users/yerik/_apple_source/PY/GLOBAL/_1_paths.py\",encoding=\"utf-8\").read()) #paths\n",
    "direc= curr_direc"
   ]
  },
  {
   "cell_type": "code",
   "execution_count": 20,
   "id": "70e8e379",
   "metadata": {
    "scrolled": false
   },
   "outputs": [
    {
     "name": "stdout",
     "output_type": "stream",
     "text": [
      "Attempting to access: /Volumes/HD_back_UP/ALL_MUSIC/Music_back_up/_4_STEMS/_2022_STEMS/s_BASS_Music_2022/DJ 5/1429896_Crave You_(Original Mix)/bass.wav\n",
      "Source file for 1429896_Crave You_(Original Mix) in DJ 5 does not exist.\n"
     ]
    }
   ],
   "source": [
    "#exec(open(f\"{direc}/stems/_2ms_1_stems_adjustor.py\", encoding=\"utf-8\").read())"
   ]
  },
  {
   "cell_type": "code",
   "execution_count": null,
   "id": "adc5c061",
   "metadata": {},
   "outputs": [],
   "source": []
  },
  {
   "cell_type": "code",
   "execution_count": null,
   "id": "f22d350e",
   "metadata": {},
   "outputs": [],
   "source": []
  },
  {
   "cell_type": "code",
   "execution_count": 63,
   "id": "d2649a09",
   "metadata": {},
   "outputs": [],
   "source": [
    "base_folder_stem_22 = '_2022_STEMS/s_VOCAL_Music_2022/'\n",
    "sub_folder_list_stem_22 = ['DJ 5', 'DJ 9','DJ 10', 'DJ 14' ,'DJ 23' ,'DJ 31' ,'DJ 33']  # Add your sub-folders here\n",
    "file_name_now = 'vocals.wav'"
   ]
  },
  {
   "cell_type": "code",
   "execution_count": 64,
   "id": "b30f60c9",
   "metadata": {},
   "outputs": [],
   "source": [
    "exec(open(f\"{direc}/stems/_2ms_1_stems_adjustor.py\", encoding=\"utf-8\").read())"
   ]
  },
  {
   "cell_type": "code",
   "execution_count": 65,
   "id": "b9c3458b",
   "metadata": {},
   "outputs": [
    {
     "name": "stdout",
     "output_type": "stream",
     "text": [
      "Attempting to access: /Volumes/HD_back_UP/ALL_MUSIC/Music_back_up/_4_STEMS/_2022_STEMS/s_VOCAL_Music_2022/DJ 5/1429896_Crave You_(Original Mix)/vocals.wav\n",
      "Source file for 1429896_Crave You_(Original Mix) in DJ 5 does not exist.\n",
      "Attempting to access: /Volumes/HD_back_UP/ALL_MUSIC/Music_back_up/_4_STEMS/_2022_STEMS/s_VOCAL_Music_2022/DJ 5/Marc Benjamin, Marcus Santoro, David Pietras, Forbid - Losing Focus (Forbid Extended Remix) (Forbid Extended Remix) myfreemp3.vip /vocals.wav\n",
      "###############################\n",
      "Attempting to access: /Volumes/HD_back_UP/ALL_MUSIC/Music_back_up/_4_STEMS/_2022_STEMS/s_VOCAL_Music_2022/DJ 5/A AP Rocky - L D (LOVE x EX x DREAMS)/vocals.wav\n",
      "###############################\n",
      "Attempting to access: /Volumes/HD_back_UP/ALL_MUSIC/Music_back_up/_4_STEMS/_2022_STEMS/s_VOCAL_Music_2022/DJ 5/Vintage Culture Extended Remix - Let It Go (with Marc E. Bassy) myfreemp3.vip /vocals.wav\n",
      "###############################\n",
      "Attempting to access: /Volumes/HD_back_UP/ALL_MUSIC/Music_back_up/_4_STEMS/_2022_STEMS/s_VOCAL_Music_2022/DJ 5/Burns - Talamanca (Vintage Culture remix) myfreemp3.vip /vocals.wav\n",
      "###############################\n",
      "Attempting to access: /Volumes/HD_back_UP/ALL_MUSIC/Music_back_up/_4_STEMS/_2022_STEMS/s_VOCAL_Music_2022/DJ 5/OMNOM - Fo Free myfreemp3.vip /vocals.wav\n",
      "###############################\n",
      "Attempting to access: /Volumes/HD_back_UP/ALL_MUSIC/Music_back_up/_4_STEMS/_2022_STEMS/s_VOCAL_Music_2022/DJ 5/ZHU, partywithray, J. Worra - Zhudio54 myfreemp3.vip /vocals.wav\n",
      "###############################\n",
      "Attempting to access: /Volumes/HD_back_UP/ALL_MUSIC/Music_back_up/_4_STEMS/_2022_STEMS/s_VOCAL_Music_2022/DJ 5/Mr. Belt & Wezol, Freejak - Somebody To Love myfreemp3.vip /vocals.wav\n",
      "###############################\n",
      "Attempting to access: /Volumes/HD_back_UP/ALL_MUSIC/Music_back_up/_4_STEMS/_2022_STEMS/s_VOCAL_Music_2022/DJ 5/ZHU feat. Herizen - Save Me (Original Mix) myfreemp3.vip /vocals.wav\n",
      "###############################\n",
      "Attempting to access: /Volumes/HD_back_UP/ALL_MUSIC/Music_back_up/_4_STEMS/_2022_STEMS/s_VOCAL_Music_2022/DJ 5/Malaa_-_Notorious_Original_Mix_(djlist.net)/vocals.wav\n",
      "###############################\n",
      "Attempting to access: /Volumes/HD_back_UP/ALL_MUSIC/Music_back_up/_4_STEMS/_2022_STEMS/s_VOCAL_Music_2022/DJ 5/Chris Lake  , Lee Foss - Lies, Deception, And Fantasy myfreemp3.vip /vocals.wav\n",
      "###############################\n",
      "Attempting to access: /Volumes/HD_back_UP/ALL_MUSIC/Music_back_up/_4_STEMS/_2022_STEMS/s_VOCAL_Music_2022/DJ 5/Channel Tres - Acid in My Blood myfreemp3.vip /vocals.wav\n",
      "###############################\n",
      "Attempting to access: /Volumes/HD_back_UP/ALL_MUSIC/Music_back_up/_4_STEMS/_2022_STEMS/s_VOCAL_Music_2022/DJ 5/ZHU - Numb myfreemp3.vip /vocals.wav\n",
      "###############################\n",
      "Attempting to access: /Volumes/HD_back_UP/ALL_MUSIC/Music_back_up/_4_STEMS/_2022_STEMS/s_VOCAL_Music_2022/DJ 5/ZHU, Bob Moses - Desire myfreemp3.vip /vocals.wav\n",
      "###############################\n",
      "Attempting to access: /Volumes/HD_back_UP/ALL_MUSIC/Music_back_up/_4_STEMS/_2022_STEMS/s_VOCAL_Music_2022/DJ 5/Alison Wonderland & Valentino Khan - Anything - Malaa Remix/vocals.wav\n",
      "###############################\n",
      "Attempting to access: /Volumes/HD_back_UP/ALL_MUSIC/Music_back_up/_4_STEMS/_2022_STEMS/s_VOCAL_Music_2022/DJ 5/Mi Hermano/vocals.wav\n",
      "###############################\n",
      "Attempting to access: /Volumes/HD_back_UP/ALL_MUSIC/Music_back_up/_4_STEMS/_2022_STEMS/s_VOCAL_Music_2022/DJ 5/Kaskade - In the Morning myfreemp3.vip /vocals.wav\n",
      "###############################\n",
      "Attempting to access: /Volumes/HD_back_UP/ALL_MUSIC/Music_back_up/_4_STEMS/_2022_STEMS/s_VOCAL_Music_2022/DJ 5/ZHU - Secret Weapon myfreemp3.vip /vocals.wav\n",
      "###############################\n",
      "Attempting to access: /Volumes/HD_back_UP/ALL_MUSIC/Music_back_up/_4_STEMS/_2022_STEMS/s_VOCAL_Music_2022/DJ 5/Bonobo - Rosewood myfreemp3vip/vocals.wav\n",
      "###############################\n",
      "Attempting to access: /Volumes/HD_back_UP/ALL_MUSIC/Music_back_up/_4_STEMS/_2022_STEMS/s_VOCAL_Music_2022/DJ 5/RÜFÜS DU SOL - No Place myfreemp3.vip /vocals.wav\n",
      "###############################\n",
      "Attempting to access: /Volumes/HD_back_UP/ALL_MUSIC/Music_back_up/_4_STEMS/_2022_STEMS/s_VOCAL_Music_2022/DJ 5/Flume feat. Kai - Never Be Like You myfreemp3.vip /vocals.wav\n",
      "###############################\n",
      "Attempting to access: /Volumes/HD_back_UP/ALL_MUSIC/Music_back_up/_4_STEMS/_2022_STEMS/s_VOCAL_Music_2022/DJ 5/Madeaux - Black Magic Woman myfreemp3.vip /vocals.wav\n",
      "###############################\n",
      "Attempting to access: /Volumes/HD_back_UP/ALL_MUSIC/Music_back_up/_4_STEMS/_2022_STEMS/s_VOCAL_Music_2022/DJ 5/Madeaux feat. Dances With White Girls - Club Demons myfreemp3.vip /vocals.wav\n",
      "###############################\n",
      "Attempting to access: /Volumes/HD_back_UP/ALL_MUSIC/Music_back_up/_4_STEMS/_2022_STEMS/s_VOCAL_Music_2022/DJ 5/ZHU, partywithray - Zhudio54 myfreemp3.vip /vocals.wav\n",
      "###############################\n",
      "Attempting to access: /Volumes/HD_back_UP/ALL_MUSIC/Music_back_up/_4_STEMS/_2022_STEMS/s_VOCAL_Music_2022/DJ 5/Channel Tres - Topdown myfreemp3.vip /vocals.wav\n",
      "###############################\n",
      "Attempting to access: /Volumes/HD_back_UP/ALL_MUSIC/Music_back_up/_4_STEMS/_2022_STEMS/s_VOCAL_Music_2022/DJ 5/Vintage Culture, Rooftime - I Will Find myfreemp3.vip /vocals.wav\n",
      "###############################\n",
      "Attempting to access: /Volumes/HD_back_UP/ALL_MUSIC/Music_back_up/_4_STEMS/_2022_STEMS/s_VOCAL_Music_2022/DJ 5/Peggy Gou - I Go (Edit) (Edit) myfreemp3.vip /vocals.wav\n",
      "###############################\n",
      "Attempting to access: /Volumes/HD_back_UP/ALL_MUSIC/Music_back_up/_4_STEMS/_2022_STEMS/s_VOCAL_Music_2022/DJ 5/Diplo feat. Elderbrook & Andhim - One By One (Vintage Culture Remix) myfreemp3.vip /vocals.wav\n",
      "###############################\n",
      "Attempting to access: /Volumes/HD_back_UP/ALL_MUSIC/Music_back_up/_4_STEMS/_2022_STEMS/s_VOCAL_Music_2022/DJ 5/Au_Ra, CamelPhat - Panic Room myfreemp3.vip /vocals.wav\n",
      "###############################\n",
      "Attempting to access: /Volumes/HD_back_UP/ALL_MUSIC/Music_back_up/_4_STEMS/_2022_STEMS/s_VOCAL_Music_2022/DJ 5/Ganja White Night - Tequila myfreemp3.vip /vocals.wav\n",
      "###############################\n",
      "Attempting to access: /Volumes/HD_back_UP/ALL_MUSIC/Music_back_up/_4_STEMS/_2022_STEMS/s_VOCAL_Music_2022/DJ 5/CharlestheFirst feat. Clozee - The Mist myfreemp3.vip /vocals.wav\n",
      "###############################\n",
      "Attempting to access: /Volumes/HD_back_UP/ALL_MUSIC/Music_back_up/_4_STEMS/_2022_STEMS/s_VOCAL_Music_2022/DJ 5/Biscits - Sundown myfreemp3.vip /vocals.wav\n",
      "###############################\n",
      "Attempting to access: /Volumes/HD_back_UP/ALL_MUSIC/Music_back_up/_4_STEMS/_2022_STEMS/s_VOCAL_Music_2022/DJ 5/Malaa - Four Twenty (Dirty)/vocals.wav\n",
      "###############################\n",
      "Attempting to access: /Volumes/HD_back_UP/ALL_MUSIC/Music_back_up/_4_STEMS/_2022_STEMS/s_VOCAL_Music_2022/DJ 5/bbno$ feat. Diplo - pogo myfreemp3.vip /vocals.wav\n",
      "###############################\n",
      "Attempting to access: /Volumes/HD_back_UP/ALL_MUSIC/Music_back_up/_4_STEMS/_2022_STEMS/s_VOCAL_Music_2022/DJ 5/Vintage Culture, Fancy Inc - In The Dark myfreemp3.vip /vocals.wav\n",
      "###############################\n",
      "Attempting to access: /Volumes/HD_back_UP/ALL_MUSIC/Music_back_up/_4_STEMS/_2022_STEMS/s_VOCAL_Music_2022/DJ 5/Diplo, Lil Yachty - Humble myfreemp3.vip /vocals.wav\n",
      "###############################\n",
      "Attempting to access: /Volumes/HD_back_UP/ALL_MUSIC/Music_back_up/_4_STEMS/_2022_STEMS/s_VOCAL_Music_2022/DJ 5/SOFI TUKKER, ZHU - Mi Rumba myfreemp3.vip /vocals.wav\n",
      "###############################\n",
      "Attempting to access: /Volumes/HD_back_UP/ALL_MUSIC/Music_back_up/_4_STEMS/_2022_STEMS/s_VOCAL_Music_2022/DJ 5/Vintage Culture, Adam K feat. MKLA - Save Me (feat. MKLA) myfreemp3.vip /vocals.wav\n",
      "###############################\n",
      "Attempting to access: /Volumes/HD_back_UP/ALL_MUSIC/Music_back_up/_4_STEMS/_2022_STEMS/s_VOCAL_Music_2022/DJ 5/Get Real, Claude VonStroke, Green Velvet - Jolean myfreemp3.vip /vocals.wav\n",
      "###############################\n",
      "Attempting to access: /Volumes/HD_back_UP/ALL_MUSIC/Music_back_up/_4_STEMS/_2022_STEMS/s_VOCAL_Music_2022/DJ 5/Madeaux - Need Somebody myfreemp3.vip /vocals.wav\n",
      "###############################\n",
      "Attempting to access: /Volumes/HD_back_UP/ALL_MUSIC/Music_back_up/_4_STEMS/_2022_STEMS/s_VOCAL_Music_2022/DJ 5/V (rough 3:5)/vocals.wav\n"
     ]
    },
    {
     "name": "stdout",
     "output_type": "stream",
     "text": [
      "###############################\n",
      "Attempting to access: /Volumes/HD_back_UP/ALL_MUSIC/Music_back_up/_4_STEMS/_2022_STEMS/s_VOCAL_Music_2022/DJ 9/Kled Mone - Misirlou/vocals.wav\n",
      "###############################\n",
      "Attempting to access: /Volumes/HD_back_UP/ALL_MUSIC/Music_back_up/_4_STEMS/_2022_STEMS/s_VOCAL_Music_2022/DJ 10/Damian Lazarus, The Ancient Moons - Fly Away (Dennis Ferrer Vs DJ Shu-ma Booty) Free DL/vocals.wav\n",
      "###############################\n",
      "Attempting to access: /Volumes/HD_back_UP/ALL_MUSIC/Music_back_up/_4_STEMS/_2022_STEMS/s_VOCAL_Music_2022/DJ 14/Grizzly Beatz - Authentic (Happy Classic 90's Rap Beat Hip Hip Instrumental 2015)/vocals.wav\n",
      "###############################\n",
      "Attempting to access: /Volumes/HD_back_UP/ALL_MUSIC/Music_back_up/_4_STEMS/_2022_STEMS/s_VOCAL_Music_2022/DJ 23/Ry & Frank Wiedemann - Howling (Mick Benjamins' Edit)/vocals.wav\n",
      "###############################\n",
      "Attempting to access: /Volumes/HD_back_UP/ALL_MUSIC/Music_back_up/_4_STEMS/_2022_STEMS/s_VOCAL_Music_2022/DJ 31/Mano Le Tough - Being Yourself/vocals.wav\n",
      "###############################\n",
      "Attempting to access: /Volumes/HD_back_UP/ALL_MUSIC/Music_back_up/_4_STEMS/_2022_STEMS/s_VOCAL_Music_2022/DJ 33/Cheryl Lynn - Got To Be Real (jxck. rework) [HZRX]/vocals.wav\n",
      "###############################\n"
     ]
    }
   ],
   "source": [
    "# Define your base folder and sub-folder list\n",
    "base_folder = f'/Volumes/HD_back_UP/ALL_MUSIC/Music_back_up/_4_STEMS/{base_folder_stem_22}'\n",
    "sub_folder_list = sub_folder_list_stem_22       # Add your sub-folders here\n",
    "\n",
    "# Get the list of folders (which are song names) for each sub-folder\n",
    "song_folder_list = {sub_folder: [f for f in os.listdir(os.path.join(base_folder, sub_folder)) if os.path.isdir(os.path.join(base_folder, sub_folder, f))] for sub_folder in sub_folder_list}\n",
    "\n",
    "\n",
    "# Call the function for each sub-folder\n",
    "for sub_folder, folder_list in song_folder_list.items():\n",
    "    move_and_delete_files(base_folder, [sub_folder], folder_list)"
   ]
  },
  {
   "cell_type": "code",
   "execution_count": null,
   "id": "2d203726",
   "metadata": {},
   "outputs": [],
   "source": []
  },
  {
   "cell_type": "code",
   "execution_count": null,
   "id": "918e4439",
   "metadata": {},
   "outputs": [],
   "source": []
  },
  {
   "cell_type": "code",
   "execution_count": 74,
   "id": "ef61ece6",
   "metadata": {},
   "outputs": [],
   "source": [
    "base_folder_stem_22 = '_2022_STEMS/s_OTHER_Music_2022/'\n",
    "sub_folder_list_stem_22 = ['DJ 5', 'DJ 9','DJ 10', 'DJ 14' ,'DJ 23' ,'DJ 31' ,'DJ 33']  # Add your sub-folders here\n",
    "file_name_now = 'other.wav'"
   ]
  },
  {
   "cell_type": "code",
   "execution_count": 75,
   "id": "517002e1",
   "metadata": {},
   "outputs": [],
   "source": [
    "exec(open(f\"{direc}/stems/_2ms_1_stems_adjustor.py\", encoding=\"utf-8\").read())"
   ]
  },
  {
   "cell_type": "code",
   "execution_count": 76,
   "id": "91179c72",
   "metadata": {},
   "outputs": [
    {
     "name": "stdout",
     "output_type": "stream",
     "text": [
      "Attempting to access: /Volumes/HD_back_UP/ALL_MUSIC/Music_back_up/_4_STEMS/_2022_STEMS/s_OTHER_Music_2022/DJ 5/4635400_Bigger Than Prince_(Hot Since 82 Remix)/other.wav\n",
      "Source file for 4635400_Bigger Than Prince_(Hot Since 82 Remix) in DJ 5 does not exist.\n",
      "Attempting to access: /Volumes/HD_back_UP/ALL_MUSIC/Music_back_up/_4_STEMS/_2022_STEMS/s_OTHER_Music_2022/DJ 9/Kled Mone - Misirlou/other.wav\n",
      "Source file for Kled Mone - Misirlou in DJ 9 does not exist.\n"
     ]
    }
   ],
   "source": [
    "# Define your base folder and sub-folder list\n",
    "base_folder = f'/Volumes/HD_back_UP/ALL_MUSIC/Music_back_up/_4_STEMS/{base_folder_stem_22}'\n",
    "sub_folder_list = sub_folder_list_stem_22       # Add your sub-folders here\n",
    "\n",
    "# Get the list of folders (which are song names) for each sub-folder\n",
    "song_folder_list = {sub_folder: [f for f in os.listdir(os.path.join(base_folder, sub_folder)) if os.path.isdir(os.path.join(base_folder, sub_folder, f))] for sub_folder in sub_folder_list}\n",
    "\n",
    "# Call the function for each sub-folder\n",
    "for sub_folder, folder_list in song_folder_list.items():\n",
    "    move_and_delete_files(base_folder, [sub_folder], folder_list)"
   ]
  },
  {
   "cell_type": "code",
   "execution_count": null,
   "id": "e08854dc",
   "metadata": {},
   "outputs": [],
   "source": []
  },
  {
   "cell_type": "code",
   "execution_count": null,
   "id": "3832c140",
   "metadata": {},
   "outputs": [],
   "source": []
  },
  {
   "cell_type": "code",
   "execution_count": null,
   "id": "ba056ca9",
   "metadata": {},
   "outputs": [],
   "source": []
  },
  {
   "cell_type": "code",
   "execution_count": 62,
   "id": "003741ff",
   "metadata": {},
   "outputs": [
    {
     "name": "stdout",
     "output_type": "stream",
     "text": [
      "Overwriting stems/_2ms_1_stems_adjustor.py\n"
     ]
    }
   ],
   "source": [
    "%%writefile stems/_2ms_1_stems_adjustor.py\n",
    "\n",
    "import os\n",
    "import shutil\n",
    "\n",
    "def move_and_delete_files(base_folder, sub_folder_list, song_folder_list):\n",
    "    for sub_folder in sub_folder_list:\n",
    "        for song_folder in song_folder_list:\n",
    "            file_name = file_name_now\n",
    "            \n",
    "            if not file_name.lower().endswith('.wav'):\n",
    "                print(f\"Skipped: {file_name} is not a .wav file.\")\n",
    "                continue\n",
    "            # Construct the full path to the source file\n",
    "            source_file_path = os.path.join(base_folder, sub_folder, song_folder, file_name)\n",
    "            \n",
    "            # Print the source file path for debugging\n",
    "            print(f\"Attempting to access: {source_file_path}\")\n",
    "            \n",
    "            # Construct the full path to the destination folder\n",
    "            dest_folder_path = os.path.join(base_folder)\n",
    "            \n",
    "            # Construct the full path to the destination file (with song name)\n",
    "            dest_file_path = os.path.join(base_folder, f\"{sub_folder}_{song_folder}_{file_name}\")\n",
    "\n",
    "            # Check if the source file exists\n",
    "            if os.path.exists(source_file_path):\n",
    "                # Copy and rename the file to the destination folder\n",
    "                shutil.copy(source_file_path, dest_file_path)\n",
    "                print('###############################')\n",
    "                # Remove the original folder with vocals inside of it\n",
    "                shutil.rmtree(os.path.join(base_folder, sub_folder, song_folder))\n",
    "            else:\n",
    "                print(f\"Source file for {song_folder} in {sub_folder} does not exist.\")\n",
    "\n"
   ]
  },
  {
   "cell_type": "code",
   "execution_count": null,
   "id": "e1a9c178",
   "metadata": {},
   "outputs": [],
   "source": []
  },
  {
   "cell_type": "code",
   "execution_count": null,
   "id": "a21a36ed",
   "metadata": {},
   "outputs": [],
   "source": []
  },
  {
   "cell_type": "code",
   "execution_count": null,
   "id": "abe92958",
   "metadata": {},
   "outputs": [],
   "source": []
  },
  {
   "cell_type": "code",
   "execution_count": null,
   "id": "c03424ed",
   "metadata": {},
   "outputs": [],
   "source": []
  },
  {
   "cell_type": "code",
   "execution_count": null,
   "id": "edd72358",
   "metadata": {},
   "outputs": [],
   "source": []
  },
  {
   "cell_type": "code",
   "execution_count": null,
   "id": "a3298c67",
   "metadata": {},
   "outputs": [],
   "source": []
  },
  {
   "cell_type": "code",
   "execution_count": null,
   "id": "c326db27",
   "metadata": {},
   "outputs": [],
   "source": []
  },
  {
   "cell_type": "code",
   "execution_count": null,
   "id": "1c37733f",
   "metadata": {},
   "outputs": [],
   "source": []
  },
  {
   "cell_type": "code",
   "execution_count": null,
   "id": "48bb675b",
   "metadata": {},
   "outputs": [],
   "source": []
  },
  {
   "cell_type": "code",
   "execution_count": null,
   "id": "b90fa762",
   "metadata": {},
   "outputs": [],
   "source": []
  },
  {
   "cell_type": "code",
   "execution_count": null,
   "id": "9c70ee74",
   "metadata": {},
   "outputs": [],
   "source": []
  },
  {
   "cell_type": "code",
   "execution_count": null,
   "id": "d8eb7a22",
   "metadata": {},
   "outputs": [],
   "source": []
  },
  {
   "cell_type": "code",
   "execution_count": null,
   "id": "b9fec778",
   "metadata": {},
   "outputs": [],
   "source": []
  },
  {
   "cell_type": "code",
   "execution_count": null,
   "id": "a9e52972",
   "metadata": {},
   "outputs": [],
   "source": []
  },
  {
   "cell_type": "code",
   "execution_count": 11,
   "id": "5543c02b",
   "metadata": {},
   "outputs": [],
   "source": [
    "import os\n",
    "import shutil\n",
    "\n",
    "def move_and_delete_files(base_folder, sub_folder, song_folder_list):\n",
    "    for song_folder in song_folder_list:\n",
    "        file_name = 'bass.wav'\n",
    "        \n",
    "        # Construct the full path to the source file\n",
    "        source_file_path = os.path.join(base_folder, sub_folder, song_folder, file_name)\n",
    "        \n",
    "        # Construct the full path to the destination folder\n",
    "        dest_folder_path = os.path.join(base_folder)\n",
    "        \n",
    "        # Construct the full path to the destination file (with song name)\n",
    "        dest_file_path = os.path.join(base_folder, f\"{song_folder}_{file_name}\")\n",
    "\n",
    "        # Check if the source file exists\n",
    "        if os.path.exists(source_file_path):\n",
    "            # Copy and rename the file to the destination folder\n",
    "            shutil.copy(source_file_path, dest_file_path)\n",
    "            \n",
    "            # Remove the original folder with vocals inside of it\n",
    "            shutil.rmtree(os.path.join(base_folder, sub_folder, song_folder))\n",
    "        else:\n",
    "            print(f\"Source file for {song_folder} does not exist.\")\n",
    "\n",
    "# Define your base folder and sub-folder\n",
    "base_folder = '/Volumes/HD_back_UP/ALL_MUSIC/Music_back_up/_4_STEMS/_2022_STEMS/s_BASS_Music_2022/'\n",
    "sub_folder = 'DJ 9'\n",
    "\n",
    "# Get the list of folders (which are song names) in the directory\n",
    "song_folder_list = [f for f in os.listdir(os.path.join(base_folder, sub_folder)) if os.path.isdir(os.path.join(base_folder, sub_folder, f))]\n",
    "\n",
    "# Call the function\n",
    "move_and_delete_files(base_folder, sub_folder, song_folder_list)\n"
   ]
  },
  {
   "cell_type": "code",
   "execution_count": 6,
   "id": "c4f32500",
   "metadata": {},
   "outputs": [
    {
     "data": {
      "text/plain": [
       "['Kled Mone - Misirlou']"
      ]
     },
     "execution_count": 6,
     "metadata": {},
     "output_type": "execute_result"
    }
   ],
   "source": [
    "song_folder_list\n"
   ]
  },
  {
   "cell_type": "code",
   "execution_count": null,
   "id": "e3d4dd02",
   "metadata": {},
   "outputs": [],
   "source": []
  },
  {
   "cell_type": "code",
   "execution_count": null,
   "id": "1436851a",
   "metadata": {},
   "outputs": [],
   "source": []
  },
  {
   "cell_type": "code",
   "execution_count": null,
   "id": "c41ebbda",
   "metadata": {},
   "outputs": [],
   "source": []
  },
  {
   "cell_type": "code",
   "execution_count": null,
   "id": "a64918e7",
   "metadata": {},
   "outputs": [],
   "source": []
  },
  {
   "cell_type": "code",
   "execution_count": null,
   "id": "1e955f84",
   "metadata": {},
   "outputs": [],
   "source": []
  },
  {
   "cell_type": "code",
   "execution_count": 8,
   "id": "e3348d62",
   "metadata": {},
   "outputs": [],
   "source": [
    "import wave\n",
    "import pandas as pd\n",
    "import os\n"
   ]
  },
  {
   "cell_type": "code",
   "execution_count": 13,
   "id": "b0418119",
   "metadata": {},
   "outputs": [],
   "source": [
    "def read_wav_file(path):\n",
    "    with wave.open(path, 'rb') as wav_file:\n",
    "        params = wav_file.getparams()\n",
    "    return params\n"
   ]
  },
  {
   "cell_type": "code",
   "execution_count": 14,
   "id": "cdcec0fc",
   "metadata": {},
   "outputs": [],
   "source": [
    "base_dir_bass = \"/Volumes/HD_back_UP/ALL_MUSIC/Music_back_up/_0_source_DJ_ON-DEMAND/s_BASS_Music_2023\"\n",
    "base_dir_drums = \"/Volumes/HD_back_UP/ALL_MUSIC/Music_back_up/_0_source_DJ_ON-DEMAND/s_DRUM_Music_2023\"\n",
    "\n",
    "df = pd.DataFrame(columns=['file_name', 'bass', 'vocals', 'drums', 'other'])\n",
    "\n",
    "for folder in os.listdir(base_dir_bass):\n",
    "    file_path = os.path.join(base_dir_bass, folder, 'bass.wav')\n",
    "    if os.path.exists(file_path):\n",
    "        bass_params = read_wav_file(file_path)\n",
    "        df = df.append({'file_name': folder, 'bass': bass_params}, ignore_index=True)\n",
    "\n",
    "# Do the same for the drums directory\n"
   ]
  },
  {
   "cell_type": "code",
   "execution_count": 12,
   "id": "0f27d5fd",
   "metadata": {},
   "outputs": [
    {
     "data": {
      "text/html": [
       "<div>\n",
       "<style scoped>\n",
       "    .dataframe tbody tr th:only-of-type {\n",
       "        vertical-align: middle;\n",
       "    }\n",
       "\n",
       "    .dataframe tbody tr th {\n",
       "        vertical-align: top;\n",
       "    }\n",
       "\n",
       "    .dataframe thead th {\n",
       "        text-align: right;\n",
       "    }\n",
       "</style>\n",
       "<table border=\"1\" class=\"dataframe\">\n",
       "  <thead>\n",
       "    <tr style=\"text-align: right;\">\n",
       "      <th></th>\n",
       "      <th>file_name</th>\n",
       "      <th>bass</th>\n",
       "      <th>vocals</th>\n",
       "      <th>drums</th>\n",
       "      <th>other</th>\n",
       "    </tr>\n",
       "  </thead>\n",
       "  <tbody>\n",
       "  </tbody>\n",
       "</table>\n",
       "</div>"
      ],
      "text/plain": [
       "Empty DataFrame\n",
       "Columns: [file_name, bass, vocals, drums, other]\n",
       "Index: []"
      ]
     },
     "execution_count": 12,
     "metadata": {},
     "output_type": "execute_result"
    }
   ],
   "source": [
    "df"
   ]
  },
  {
   "cell_type": "code",
   "execution_count": null,
   "id": "a3d8a099",
   "metadata": {},
   "outputs": [],
   "source": []
  },
  {
   "cell_type": "code",
   "execution_count": 2,
   "id": "275d8171",
   "metadata": {},
   "outputs": [
    {
     "data": {
      "text/plain": [
       "'/Users/yerik/_apple_source/PY/JUPY/py2ms/ms_MUSIC_COLLECTION'"
      ]
     },
     "execution_count": 2,
     "metadata": {},
     "output_type": "execute_result"
    }
   ],
   "source": [
    "direc"
   ]
  },
  {
   "cell_type": "code",
   "execution_count": null,
   "id": "94ffc437",
   "metadata": {},
   "outputs": [],
   "source": []
  },
  {
   "cell_type": "code",
   "execution_count": null,
   "id": "4b613892",
   "metadata": {},
   "outputs": [],
   "source": []
  },
  {
   "cell_type": "code",
   "execution_count": null,
   "id": "6faff164",
   "metadata": {},
   "outputs": [],
   "source": []
  }
 ],
 "metadata": {
  "kernelspec": {
   "display_name": "Python 3 (ipykernel)",
   "language": "python",
   "name": "python3"
  },
  "language_info": {
   "codemirror_mode": {
    "name": "ipython",
    "version": 3
   },
   "file_extension": ".py",
   "mimetype": "text/x-python",
   "name": "python",
   "nbconvert_exporter": "python",
   "pygments_lexer": "ipython3",
   "version": "3.10.9"
  }
 },
 "nbformat": 4,
 "nbformat_minor": 5
}
