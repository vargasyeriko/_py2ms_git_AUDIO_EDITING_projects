{
 "cells": [
  {
   "cell_type": "code",
   "execution_count": 2,
   "id": "4ca40108",
   "metadata": {},
   "outputs": [],
   "source": [
    "# PACKAGES and TABLES\n",
    "#collection_table =\"0_coll_direct_extraction.pkl\"\n",
    "direc = '/Users/yerik/_apple_source/PY/JUPY/py2ms/ms_MUSIC_COLLECTION/'\n"
   ]
  },
  {
   "cell_type": "code",
   "execution_count": 3,
   "id": "db59a5bb",
   "metadata": {
    "scrolled": true
   },
   "outputs": [
    {
     "name": "stdout",
     "output_type": "stream",
     "text": [
      "------------------------------------------------------------------------- for On DEMAND = Music_2022\n",
      "###################################################################################################### - HI\n",
      "######################################################################################################\n",
      "----------------------------------------------------------------------------------------------------->\n",
      "- PY ---------------------------------------------------------------------------- GLOBAL/_1_paths.py >\n",
      "- MOST COMMON :: <desk_path>:<docs_path>:<down_path>::----------------------------------------------->\n",
      "----------------------------------------------------------------------------------------------------->\n",
      "********************************************  > No Extension *\n",
      "\t\t\t\t\t\t\t\t\t -*- [ .DS_Store ]\n",
      "\n",
      "********************************************  > Directory *\n",
      "\t\t\t\t\t\t\t\t\t -*- [ .ipynb_checkpoints ]\n",
      "\n",
      "********************************************  > .pkl *\n",
      "\t\t\t\t\t\t\t\t\t -*- [ 0_coll-Copy1.pkl ]\n",
      "\t\t\t\t\t\t\t\t\t -*- [ 0_coll.pkl ]\n",
      "\t\t\t\t\t\t\t\t\t -*- [ 0_current_coll-Copy1.pkl ]\n",
      "\t\t\t\t\t\t\t\t\t -*- [ 0_current_coll.pkl ]\n",
      "\n",
      "********************************************  > .ipynb *\n",
      "\t\t\t\t\t\t\t\t\t -*- [ 1_COMPUTE_ALL_FIELDS_.ipynb ]\n",
      "\t\t\t\t\t\t\t\t\t -*- [ 2_Training_Testing.ipynb ]\n",
      "\t\t\t\t\t\t\t\t\t -*- [ Untitled.ipynb ]\n",
      "\n",
      "********************************************  > .py *\n",
      "\t\t\t\t\t\t\t\t\t -*- [ RUN-Copy1.py ]\n",
      "exec(open(\"{direc}/RUN-Copy1.py\", encoding=\"utf-8\").read())\n",
      "\t\t\t\t\t\t\t\t\t -*- [ RUN.py ]\n",
      "exec(open(\"{direc}/RUN.py\", encoding=\"utf-8\").read())\n",
      "\t\t\t\t\t\t\t\t\t -*- [ _ms_EDA_1_numeric_var_graph.py ]\n",
      "exec(open(\"{direc}/_ms_EDA_1_numeric_var_graph.py\", encoding=\"utf-8\").read())\n",
      "\t\t\t\t\t\t\t\t\t -*- [ _ms_fields_1_duration.py ]\n",
      "exec(open(\"{direc}/_ms_fields_1_duration.py\", encoding=\"utf-8\").read())\n",
      "\t\t\t\t\t\t\t\t\t -*- [ _ms_fields_2_bitrate.py ]\n",
      "exec(open(\"{direc}/_ms_fields_2_bitrate.py\", encoding=\"utf-8\").read())\n",
      "\t\t\t\t\t\t\t\t\t -*- [ _ms_pl_info_1_AIF_IDtags.py ]\n",
      "exec(open(\"{direc}/_ms_pl_info_1_AIF_IDtags.py\", encoding=\"utf-8\").read())\n",
      "\t\t\t\t\t\t\t\t\t -*- [ _ms_pl_info_1_FLAC_IDtags.py ]\n",
      "exec(open(\"{direc}/_ms_pl_info_1_FLAC_IDtags.py\", encoding=\"utf-8\").read())\n",
      "\t\t\t\t\t\t\t\t\t -*- [ _ms_pl_info_1_M4A_IDtags.py ]\n",
      "exec(open(\"{direc}/_ms_pl_info_1_M4A_IDtags.py\", encoding=\"utf-8\").read())\n",
      "\t\t\t\t\t\t\t\t\t -*- [ _ms_pl_info_1_MP3_IDtags.py ]\n",
      "exec(open(\"{direc}/_ms_pl_info_1_MP3_IDtags.py\", encoding=\"utf-8\").read())\n",
      "\t\t\t\t\t\t\t\t\t -*- [ _ms_pl_info_1_WAV_IDtags.py ]\n",
      "exec(open(\"{direc}/_ms_pl_info_1_WAV_IDtags.py\", encoding=\"utf-8\").read())\n",
      "\t\t\t\t\t\t\t\t\t -*- [ _ms_pl_info_1a_all-id-tags.py ]\n",
      "exec(open(\"{direc}/_ms_pl_info_1a_all-id-tags.py\", encoding=\"utf-8\").read())\n",
      "\t\t\t\t\t\t\t\t\t -*- [ _ms_pl_info_2_all_LUFS.py ]\n",
      "exec(open(\"{direc}/_ms_pl_info_2_all_LUFS.py\", encoding=\"utf-8\").read())\n",
      "\t\t\t\t\t\t\t\t\t -*- [ _ms_pl_info_3_BPM.py ]\n",
      "exec(open(\"{direc}/_ms_pl_info_3_BPM.py\", encoding=\"utf-8\").read())\n",
      "\t\t\t\t\t\t\t\t\t -*- [ ms_1_music_files.py ]\n",
      "exec(open(\"{direc}/ms_1_music_files.py\", encoding=\"utf-8\").read())\n",
      "\t\t\t\t\t\t\t\t\t -*- [ ms_2_music_files_export_table.py ]\n",
      "exec(open(\"{direc}/ms_2_music_files_export_table.py\", encoding=\"utf-8\").read())\n",
      "\n",
      "----------------------------------------------------------------------------------------------------->\n",
      "######################################################################################################\n",
      "######################################################################################################\n",
      ":: ATTN * direc = /Users/yerik/_apple_source/PY/JUPY/py2ms/ms_MUSIC_COLLECTION *\n",
      "----------------------------------------------------------------------------------------------------->\n",
      "READ temp ::: exec(open(f\"{direc}/_{py_lib}_topic_sub_#_spec_part.py\",encoding=\"utf-8\").read()) \n",
      "WRITE temp ::: %%writefile _2ms_topic_#_spec_part.py                             \n",
      "----------------------------------------------------------------------------------------------------->\n",
      "\n",
      "-1) py RUN ::: \n",
      "\n",
      "%%writefile RUN.py \n",
      "exec(open(f\"{direc}/latest.py\", encoding=\"utf-8\").read()\n",
      "\n",
      "-2) py LIB ::: \n",
      "\n",
      "%%writefile /Users/yerik/_apple_source/PY/libs/_2ms/_2ms_*descriptive_program_name*.py \n",
      "direc = \"/Users/yerik/_apple_source/PY/JUPY/py2ms/ms_MUSIC_COLLECTION\"\n",
      "exec(open(f\"{direc}/RUN.py\", encoding=\"utf-8\").read()# This Program will be added to ALL_LIBS to execute::\n",
      "----------------------------------------------------------------------------------------------------->\n",
      "######################################################################################################\n",
      "###################################################################################################### - BYE\n",
      "ATTN ::: <E>  AFTER making sure that you have assigned the DIRECTORY PATH to ::: var ::: my_folder_path\n",
      "***df*** will be returned having ::: 101  rows, write df in next cell to see your DATA FRAME\n",
      "\n",
      "second part FREQUENCIES OF df :::\n",
      "\n",
      "Grand Total Size in MB: 1015.712\n",
      "Grand Total Size in Bytes: 1065051454.000\n",
      "Grand Total Size in GB: 0.992\n",
      "\n",
      " FREQUENCY TABLE::: \n",
      "\n",
      "     Extension  frequency  total_size_in_mb\n",
      "0       .mp3         79        950.068744\n",
      "1       .jpg         12          0.221171\n",
      "2                     8          0.005863\n",
      "3       .wav          1         65.412533\n",
      "4  .DS_Store          1          0.003906\n",
      "\n",
      "\n",
      " FREQUENCY TABLE of \n",
      "\n",
      " ['.m4a', '.mp3', '.MP3', '.Mp3', '.wav', '.WAV', '.flac', '.FLAC', '.aac', '.ogg', '.wma', '.au', '.aif', '.aiff'] \n",
      "\n",
      "\n",
      "\n",
      "total music files :  80 \n",
      "\n",
      "   Extension  frequency  total_size_in_mb\n",
      "0      .mp3         79        950.068744\n",
      "1      .wav          1         65.412533\n",
      " \n",
      " ATTN -> \n",
      "DF with ALL files ::: df :101:: & \n",
      "DF with just audio_extensions ::: df_AU ::80:\n",
      "------------------------------------------------------------------------- for On DEMAND = Music_2023\n",
      "###################################################################################################### - HI\n",
      "######################################################################################################\n",
      "----------------------------------------------------------------------------------------------------->\n",
      "- PY ---------------------------------------------------------------------------- GLOBAL/_1_paths.py >\n",
      "- MOST COMMON :: <desk_path>:<docs_path>:<down_path>::----------------------------------------------->\n",
      "----------------------------------------------------------------------------------------------------->\n",
      "********************************************  > No Extension *\n",
      "\t\t\t\t\t\t\t\t\t -*- [ .DS_Store ]\n",
      "\n",
      "********************************************  > Directory *\n",
      "\t\t\t\t\t\t\t\t\t -*- [ .ipynb_checkpoints ]\n",
      "\n",
      "********************************************  > .pkl *\n",
      "\t\t\t\t\t\t\t\t\t -*- [ 0_coll-Copy1.pkl ]\n",
      "\t\t\t\t\t\t\t\t\t -*- [ 0_coll.pkl ]\n",
      "\t\t\t\t\t\t\t\t\t -*- [ 0_current_coll-Copy1.pkl ]\n",
      "\t\t\t\t\t\t\t\t\t -*- [ 0_current_coll.pkl ]\n",
      "\n",
      "********************************************  > .ipynb *\n",
      "\t\t\t\t\t\t\t\t\t -*- [ 1_COMPUTE_ALL_FIELDS_.ipynb ]\n",
      "\t\t\t\t\t\t\t\t\t -*- [ 2_Training_Testing.ipynb ]\n",
      "\t\t\t\t\t\t\t\t\t -*- [ Untitled.ipynb ]\n",
      "\n",
      "********************************************  > .py *\n",
      "\t\t\t\t\t\t\t\t\t -*- [ RUN-Copy1.py ]\n",
      "exec(open(\"{direc}/RUN-Copy1.py\", encoding=\"utf-8\").read())\n",
      "\t\t\t\t\t\t\t\t\t -*- [ RUN.py ]\n",
      "exec(open(\"{direc}/RUN.py\", encoding=\"utf-8\").read())\n",
      "\t\t\t\t\t\t\t\t\t -*- [ _ms_EDA_1_numeric_var_graph.py ]\n",
      "exec(open(\"{direc}/_ms_EDA_1_numeric_var_graph.py\", encoding=\"utf-8\").read())\n",
      "\t\t\t\t\t\t\t\t\t -*- [ _ms_fields_1_duration.py ]\n",
      "exec(open(\"{direc}/_ms_fields_1_duration.py\", encoding=\"utf-8\").read())\n",
      "\t\t\t\t\t\t\t\t\t -*- [ _ms_fields_2_bitrate.py ]\n",
      "exec(open(\"{direc}/_ms_fields_2_bitrate.py\", encoding=\"utf-8\").read())\n",
      "\t\t\t\t\t\t\t\t\t -*- [ _ms_pl_info_1_AIF_IDtags.py ]\n",
      "exec(open(\"{direc}/_ms_pl_info_1_AIF_IDtags.py\", encoding=\"utf-8\").read())\n",
      "\t\t\t\t\t\t\t\t\t -*- [ _ms_pl_info_1_FLAC_IDtags.py ]\n",
      "exec(open(\"{direc}/_ms_pl_info_1_FLAC_IDtags.py\", encoding=\"utf-8\").read())\n",
      "\t\t\t\t\t\t\t\t\t -*- [ _ms_pl_info_1_M4A_IDtags.py ]\n",
      "exec(open(\"{direc}/_ms_pl_info_1_M4A_IDtags.py\", encoding=\"utf-8\").read())\n",
      "\t\t\t\t\t\t\t\t\t -*- [ _ms_pl_info_1_MP3_IDtags.py ]\n",
      "exec(open(\"{direc}/_ms_pl_info_1_MP3_IDtags.py\", encoding=\"utf-8\").read())\n",
      "\t\t\t\t\t\t\t\t\t -*- [ _ms_pl_info_1_WAV_IDtags.py ]\n",
      "exec(open(\"{direc}/_ms_pl_info_1_WAV_IDtags.py\", encoding=\"utf-8\").read())\n",
      "\t\t\t\t\t\t\t\t\t -*- [ _ms_pl_info_1a_all-id-tags.py ]\n",
      "exec(open(\"{direc}/_ms_pl_info_1a_all-id-tags.py\", encoding=\"utf-8\").read())\n",
      "\t\t\t\t\t\t\t\t\t -*- [ _ms_pl_info_2_all_LUFS.py ]\n",
      "exec(open(\"{direc}/_ms_pl_info_2_all_LUFS.py\", encoding=\"utf-8\").read())\n",
      "\t\t\t\t\t\t\t\t\t -*- [ _ms_pl_info_3_BPM.py ]\n",
      "exec(open(\"{direc}/_ms_pl_info_3_BPM.py\", encoding=\"utf-8\").read())\n",
      "\t\t\t\t\t\t\t\t\t -*- [ ms_1_music_files.py ]\n",
      "exec(open(\"{direc}/ms_1_music_files.py\", encoding=\"utf-8\").read())\n",
      "\t\t\t\t\t\t\t\t\t -*- [ ms_2_music_files_export_table.py ]\n",
      "exec(open(\"{direc}/ms_2_music_files_export_table.py\", encoding=\"utf-8\").read())\n",
      "\n",
      "----------------------------------------------------------------------------------------------------->\n",
      "######################################################################################################\n",
      "######################################################################################################\n",
      ":: ATTN * direc = /Users/yerik/_apple_source/PY/JUPY/py2ms/ms_MUSIC_COLLECTION *\n",
      "----------------------------------------------------------------------------------------------------->\n",
      "READ temp ::: exec(open(f\"{direc}/_{py_lib}_topic_sub_#_spec_part.py\",encoding=\"utf-8\").read()) \n",
      "WRITE temp ::: %%writefile _2ms_topic_#_spec_part.py                             \n",
      "----------------------------------------------------------------------------------------------------->\n",
      "\n",
      "-1) py RUN ::: \n",
      "\n",
      "%%writefile RUN.py \n",
      "exec(open(f\"{direc}/latest.py\", encoding=\"utf-8\").read()\n",
      "\n",
      "-2) py LIB ::: \n",
      "\n",
      "%%writefile /Users/yerik/_apple_source/PY/libs/_2ms/_2ms_*descriptive_program_name*.py \n",
      "direc = \"/Users/yerik/_apple_source/PY/JUPY/py2ms/ms_MUSIC_COLLECTION\"\n",
      "exec(open(f\"{direc}/RUN.py\", encoding=\"utf-8\").read()# This Program will be added to ALL_LIBS to execute::\n",
      "----------------------------------------------------------------------------------------------------->\n",
      "######################################################################################################\n",
      "###################################################################################################### - BYE\n"
     ]
    },
    {
     "name": "stdout",
     "output_type": "stream",
     "text": [
      "ATTN ::: <E>  AFTER making sure that you have assigned the DIRECTORY PATH to ::: var ::: my_folder_path\n",
      "***df*** will be returned having ::: 462  rows, write df in next cell to see your DATA FRAME\n",
      "\n",
      "second part FREQUENCIES OF df :::\n",
      "\n",
      "Grand Total Size in MB: 12924.831\n",
      "Grand Total Size in Bytes: 13552667797.000\n",
      "Grand Total Size in GB: 12.622\n",
      "\n",
      " FREQUENCY TABLE::: \n",
      "\n",
      "     Extension  frequency  total_size_in_mb\n",
      "0       .wav        282       8486.860006\n",
      "1      .aiff        144       4275.668518\n",
      "2                    20          0.025398\n",
      "3       .mp3         10        162.202727\n",
      "4       .jpg          4          0.066734\n",
      "5  .DS_Store          2          0.007812\n",
      "\n",
      "\n",
      " FREQUENCY TABLE of \n",
      "\n",
      " ['.m4a', '.mp3', '.MP3', '.Mp3', '.wav', '.WAV', '.flac', '.FLAC', '.aac', '.ogg', '.wma', '.au', '.aif', '.aiff'] \n",
      "\n",
      "\n",
      "\n",
      "total music files :  436 \n",
      "\n",
      "   Extension  frequency  total_size_in_mb\n",
      "0      .wav        282       8486.860006\n",
      "1     .aiff        144       4275.668518\n",
      "2      .mp3         10        162.202727\n",
      " \n",
      " ATTN -> \n",
      "DF with ALL files ::: df :462:: & \n",
      "DF with just audio_extensions ::: df_AU ::436:\n",
      "----------------------------------------------------------------------- for On SOURCE = source\n",
      "###################################################################################################### - HI\n",
      "######################################################################################################\n",
      "----------------------------------------------------------------------------------------------------->\n",
      "- PY ---------------------------------------------------------------------------- GLOBAL/_1_paths.py >\n",
      "- MOST COMMON :: <desk_path>:<docs_path>:<down_path>::----------------------------------------------->\n",
      "----------------------------------------------------------------------------------------------------->\n",
      "********************************************  > No Extension *\n",
      "\t\t\t\t\t\t\t\t\t -*- [ .DS_Store ]\n",
      "\n",
      "********************************************  > Directory *\n",
      "\t\t\t\t\t\t\t\t\t -*- [ .ipynb_checkpoints ]\n",
      "\n",
      "********************************************  > .pkl *\n",
      "\t\t\t\t\t\t\t\t\t -*- [ 0_coll-Copy1.pkl ]\n",
      "\t\t\t\t\t\t\t\t\t -*- [ 0_coll.pkl ]\n",
      "\t\t\t\t\t\t\t\t\t -*- [ 0_current_coll-Copy1.pkl ]\n",
      "\t\t\t\t\t\t\t\t\t -*- [ 0_current_coll.pkl ]\n",
      "\n",
      "********************************************  > .ipynb *\n",
      "\t\t\t\t\t\t\t\t\t -*- [ 1_COMPUTE_ALL_FIELDS_.ipynb ]\n",
      "\t\t\t\t\t\t\t\t\t -*- [ 2_Training_Testing.ipynb ]\n",
      "\t\t\t\t\t\t\t\t\t -*- [ Untitled.ipynb ]\n",
      "\n",
      "********************************************  > .py *\n",
      "\t\t\t\t\t\t\t\t\t -*- [ RUN-Copy1.py ]\n",
      "exec(open(\"{direc}/RUN-Copy1.py\", encoding=\"utf-8\").read())\n",
      "\t\t\t\t\t\t\t\t\t -*- [ RUN.py ]\n",
      "exec(open(\"{direc}/RUN.py\", encoding=\"utf-8\").read())\n",
      "\t\t\t\t\t\t\t\t\t -*- [ _ms_EDA_1_numeric_var_graph.py ]\n",
      "exec(open(\"{direc}/_ms_EDA_1_numeric_var_graph.py\", encoding=\"utf-8\").read())\n",
      "\t\t\t\t\t\t\t\t\t -*- [ _ms_fields_1_duration.py ]\n",
      "exec(open(\"{direc}/_ms_fields_1_duration.py\", encoding=\"utf-8\").read())\n",
      "\t\t\t\t\t\t\t\t\t -*- [ _ms_fields_2_bitrate.py ]\n",
      "exec(open(\"{direc}/_ms_fields_2_bitrate.py\", encoding=\"utf-8\").read())\n",
      "\t\t\t\t\t\t\t\t\t -*- [ _ms_pl_info_1_AIF_IDtags.py ]\n",
      "exec(open(\"{direc}/_ms_pl_info_1_AIF_IDtags.py\", encoding=\"utf-8\").read())\n",
      "\t\t\t\t\t\t\t\t\t -*- [ _ms_pl_info_1_FLAC_IDtags.py ]\n",
      "exec(open(\"{direc}/_ms_pl_info_1_FLAC_IDtags.py\", encoding=\"utf-8\").read())\n",
      "\t\t\t\t\t\t\t\t\t -*- [ _ms_pl_info_1_M4A_IDtags.py ]\n",
      "exec(open(\"{direc}/_ms_pl_info_1_M4A_IDtags.py\", encoding=\"utf-8\").read())\n",
      "\t\t\t\t\t\t\t\t\t -*- [ _ms_pl_info_1_MP3_IDtags.py ]\n",
      "exec(open(\"{direc}/_ms_pl_info_1_MP3_IDtags.py\", encoding=\"utf-8\").read())\n",
      "\t\t\t\t\t\t\t\t\t -*- [ _ms_pl_info_1_WAV_IDtags.py ]\n",
      "exec(open(\"{direc}/_ms_pl_info_1_WAV_IDtags.py\", encoding=\"utf-8\").read())\n",
      "\t\t\t\t\t\t\t\t\t -*- [ _ms_pl_info_1a_all-id-tags.py ]\n",
      "exec(open(\"{direc}/_ms_pl_info_1a_all-id-tags.py\", encoding=\"utf-8\").read())\n",
      "\t\t\t\t\t\t\t\t\t -*- [ _ms_pl_info_2_all_LUFS.py ]\n",
      "exec(open(\"{direc}/_ms_pl_info_2_all_LUFS.py\", encoding=\"utf-8\").read())\n",
      "\t\t\t\t\t\t\t\t\t -*- [ _ms_pl_info_3_BPM.py ]\n",
      "exec(open(\"{direc}/_ms_pl_info_3_BPM.py\", encoding=\"utf-8\").read())\n",
      "\t\t\t\t\t\t\t\t\t -*- [ ms_1_music_files.py ]\n",
      "exec(open(\"{direc}/ms_1_music_files.py\", encoding=\"utf-8\").read())\n",
      "\t\t\t\t\t\t\t\t\t -*- [ ms_2_music_files_export_table.py ]\n",
      "exec(open(\"{direc}/ms_2_music_files_export_table.py\", encoding=\"utf-8\").read())\n",
      "\n",
      "----------------------------------------------------------------------------------------------------->\n",
      "######################################################################################################\n",
      "######################################################################################################\n",
      ":: ATTN * direc = /Users/yerik/_apple_source/PY/JUPY/py2ms/ms_MUSIC_COLLECTION *\n",
      "----------------------------------------------------------------------------------------------------->\n",
      "READ temp ::: exec(open(f\"{direc}/_{py_lib}_topic_sub_#_spec_part.py\",encoding=\"utf-8\").read()) \n",
      "WRITE temp ::: %%writefile _2ms_topic_#_spec_part.py                             \n",
      "----------------------------------------------------------------------------------------------------->\n",
      "\n",
      "-1) py RUN ::: \n",
      "\n",
      "%%writefile RUN.py \n",
      "exec(open(f\"{direc}/latest.py\", encoding=\"utf-8\").read()\n",
      "\n",
      "-2) py LIB ::: \n",
      "\n",
      "%%writefile /Users/yerik/_apple_source/PY/libs/_2ms/_2ms_*descriptive_program_name*.py \n",
      "direc = \"/Users/yerik/_apple_source/PY/JUPY/py2ms/ms_MUSIC_COLLECTION\"\n",
      "exec(open(f\"{direc}/RUN.py\", encoding=\"utf-8\").read()# This Program will be added to ALL_LIBS to execute::\n",
      "----------------------------------------------------------------------------------------------------->\n",
      "######################################################################################################\n",
      "###################################################################################################### - BYE\n",
      "ATTN ::: <E>  AFTER making sure that you have assigned the DIRECTORY PATH to ::: var ::: my_folder_path\n",
      "***df*** will be returned having ::: 6642  rows, write df in next cell to see your DATA FRAME\n",
      "\n",
      "second part FREQUENCIES OF df :::\n",
      "\n",
      "Grand Total Size in MB: 115958.471\n",
      "Grand Total Size in Bytes: 121591269623.000\n",
      "Grand Total Size in GB: 113.241\n",
      "\n",
      " FREQUENCY TABLE::: \n",
      "\n",
      "    Extension  frequency  total_size_in_mb\n",
      "0      .mp3       5640      58985.559785\n",
      "1      .wav        600      35728.414760\n",
      "2     .aiff        288      19322.015064\n",
      "3                   41          0.000000\n",
      "4      .m4a         31        666.839018\n",
      "5      .MP3         23        247.690260\n",
      "6      .aif         11        747.824545\n",
      "7     .flac          8        260.127507\n",
      "\n",
      "\n",
      " FREQUENCY TABLE of \n",
      "\n",
      " ['.m4a', '.mp3', '.MP3', '.Mp3', '.wav', '.WAV', '.flac', '.FLAC', '.aac', '.ogg', '.wma', '.au', '.aif', '.aiff'] \n",
      "\n",
      "\n",
      "\n",
      "total music files :  6601 \n",
      "\n",
      "   Extension  frequency  total_size_in_mb\n",
      "0      .mp3       5640      58985.559785\n",
      "1      .wav        600      35728.414760\n",
      "2     .aiff        288      19322.015064\n",
      "3      .m4a         31        666.839018\n",
      "4      .MP3         23        247.690260\n",
      "5      .aif         11        747.824545\n",
      "6     .flac          8        260.127507\n",
      " \n",
      " ATTN -> \n",
      "DF with ALL files ::: df :6642:: & \n",
      "DF with just audio_extensions ::: df_AU ::6601:\n",
      "----------------------------------------------------------------------- MERGED ALL df_AU_(1-3) together\n",
      "\n",
      "ATTN ::::: df_AU_ALL :::::: M22 M23 and SOURCE in one df\n",
      "\n",
      "ALL MUSIC FILES in HD_bu :: total BYTES  129898.68346691132   total music Files  7117\n"
     ]
    }
   ],
   "source": [
    "exec(open(f\"ms_2_music_files_export_table.py\",encoding=\"utf-8\").read())"
   ]
  },
  {
   "cell_type": "markdown",
   "id": "3e1409ac",
   "metadata": {},
   "source": [
    "# OTHER DIRECTORY"
   ]
  },
  {
   "cell_type": "code",
   "execution_count": 4,
   "id": "38cbd948",
   "metadata": {
    "scrolled": true
   },
   "outputs": [],
   "source": [
    "## ATTN FOR OTHER DIRECTORIES - just uncomment this *******************\n",
    "\n",
    "# path_songs = f'/Volumes/HD_back_UP/ALL_MUSIC/Music_back_up/_1_source_DJ' \n",
    "# exec(open(f\"{direc}/ms_1_music_files.py\",encoding=\"utf-8\").read()) #paths\n",
    "# df_AU_ALL =df_AU.copy()\n",
    "# df_AU_ALL.head()"
   ]
  },
  {
   "cell_type": "code",
   "execution_count": 5,
   "id": "9ab56865",
   "metadata": {},
   "outputs": [
    {
     "data": {
      "text/html": [
       "<div>\n",
       "<style scoped>\n",
       "    .dataframe tbody tr th:only-of-type {\n",
       "        vertical-align: middle;\n",
       "    }\n",
       "\n",
       "    .dataframe tbody tr th {\n",
       "        vertical-align: top;\n",
       "    }\n",
       "\n",
       "    .dataframe thead th {\n",
       "        text-align: right;\n",
       "    }\n",
       "</style>\n",
       "<table border=\"1\" class=\"dataframe\">\n",
       "  <thead>\n",
       "    <tr style=\"text-align: right;\">\n",
       "      <th></th>\n",
       "      <th>Name</th>\n",
       "      <th>Type</th>\n",
       "      <th>Path</th>\n",
       "      <th>Extension</th>\n",
       "      <th>Size (MB)</th>\n",
       "    </tr>\n",
       "  </thead>\n",
       "  <tbody>\n",
       "    <tr>\n",
       "      <th>0</th>\n",
       "      <td>LA MAMA GORDOXR</td>\n",
       "      <td>File</td>\n",
       "      <td>/Volumes/HD_back_UP/ALL_MUSIC/Music_back_up/_0...</td>\n",
       "      <td>.wav</td>\n",
       "      <td>65.412533</td>\n",
       "    </tr>\n",
       "    <tr>\n",
       "      <th>1</th>\n",
       "      <td>Boris Brejcha -</td>\n",
       "      <td>File</td>\n",
       "      <td>/Volumes/HD_back_UP/ALL_MUSIC/Music_back_up/_0...</td>\n",
       "      <td>.mp3</td>\n",
       "      <td>19.894636</td>\n",
       "    </tr>\n",
       "    <tr>\n",
       "      <th>2</th>\n",
       "      <td>Massano - The F</td>\n",
       "      <td>File</td>\n",
       "      <td>/Volumes/HD_back_UP/ALL_MUSIC/Music_back_up/_0...</td>\n",
       "      <td>.mp3</td>\n",
       "      <td>19.577145</td>\n",
       "    </tr>\n",
       "    <tr>\n",
       "      <th>3</th>\n",
       "      <td>WhoMadeWho - Ev</td>\n",
       "      <td>File</td>\n",
       "      <td>/Volumes/HD_back_UP/ALL_MUSIC/Music_back_up/_0...</td>\n",
       "      <td>.mp3</td>\n",
       "      <td>18.569843</td>\n",
       "    </tr>\n",
       "    <tr>\n",
       "      <th>4</th>\n",
       "      <td>Claude VonStrok</td>\n",
       "      <td>File</td>\n",
       "      <td>/Volumes/HD_back_UP/ALL_MUSIC/Music_back_up/_0...</td>\n",
       "      <td>.mp3</td>\n",
       "      <td>18.524839</td>\n",
       "    </tr>\n",
       "    <tr>\n",
       "      <th>...</th>\n",
       "      <td>...</td>\n",
       "      <td>...</td>\n",
       "      <td>...</td>\n",
       "      <td>...</td>\n",
       "      <td>...</td>\n",
       "    </tr>\n",
       "    <tr>\n",
       "      <th>7111</th>\n",
       "      <td>Hanz, Makzo - T</td>\n",
       "      <td>File</td>\n",
       "      <td>/Volumes/HD_back_UP/ALL_MUSIC/Music_back_up/_1...</td>\n",
       "      <td>.mp3</td>\n",
       "      <td>4.625304</td>\n",
       "    </tr>\n",
       "    <tr>\n",
       "      <th>7112</th>\n",
       "      <td>fr_pieg-14_03_2</td>\n",
       "      <td>File</td>\n",
       "      <td>/Volumes/HD_back_UP/ALL_MUSIC/Music_back_up/_1...</td>\n",
       "      <td>.mp3</td>\n",
       "      <td>4.618976</td>\n",
       "    </tr>\n",
       "    <tr>\n",
       "      <th>7113</th>\n",
       "      <td>01 Intro En sou</td>\n",
       "      <td>File</td>\n",
       "      <td>/Volumes/HD_back_UP/ALL_MUSIC/Music_back_up/_1...</td>\n",
       "      <td>.mp3</td>\n",
       "      <td>4.618972</td>\n",
       "    </tr>\n",
       "    <tr>\n",
       "      <th>7114</th>\n",
       "      <td>[P] Walker &amp; Ro</td>\n",
       "      <td>File</td>\n",
       "      <td>/Volumes/HD_back_UP/ALL_MUSIC/Music_back_up/_1...</td>\n",
       "      <td>.mp3</td>\n",
       "      <td>4.594223</td>\n",
       "    </tr>\n",
       "    <tr>\n",
       "      <th>7115</th>\n",
       "      <td>[P] John Summit</td>\n",
       "      <td>File</td>\n",
       "      <td>/Volumes/HD_back_UP/ALL_MUSIC/Music_back_up/_1...</td>\n",
       "      <td>.mp3</td>\n",
       "      <td>4.589869</td>\n",
       "    </tr>\n",
       "  </tbody>\n",
       "</table>\n",
       "<p>6898 rows × 5 columns</p>\n",
       "</div>"
      ],
      "text/plain": [
       "                 Name  Type  \\\n",
       "0     LA MAMA GORDOXR  File   \n",
       "1     Boris Brejcha -  File   \n",
       "2     Massano - The F  File   \n",
       "3     WhoMadeWho - Ev  File   \n",
       "4     Claude VonStrok  File   \n",
       "...               ...   ...   \n",
       "7111  Hanz, Makzo - T  File   \n",
       "7112  fr_pieg-14_03_2  File   \n",
       "7113  01 Intro En sou  File   \n",
       "7114  [P] Walker & Ro  File   \n",
       "7115  [P] John Summit  File   \n",
       "\n",
       "                                                   Path Extension  Size (MB)  \n",
       "0     /Volumes/HD_back_UP/ALL_MUSIC/Music_back_up/_0...      .wav  65.412533  \n",
       "1     /Volumes/HD_back_UP/ALL_MUSIC/Music_back_up/_0...      .mp3  19.894636  \n",
       "2     /Volumes/HD_back_UP/ALL_MUSIC/Music_back_up/_0...      .mp3  19.577145  \n",
       "3     /Volumes/HD_back_UP/ALL_MUSIC/Music_back_up/_0...      .mp3  18.569843  \n",
       "4     /Volumes/HD_back_UP/ALL_MUSIC/Music_back_up/_0...      .mp3  18.524839  \n",
       "...                                                 ...       ...        ...  \n",
       "7111  /Volumes/HD_back_UP/ALL_MUSIC/Music_back_up/_1...      .mp3   4.625304  \n",
       "7112  /Volumes/HD_back_UP/ALL_MUSIC/Music_back_up/_1...      .mp3   4.618976  \n",
       "7113  /Volumes/HD_back_UP/ALL_MUSIC/Music_back_up/_1...      .mp3   4.618972  \n",
       "7114  /Volumes/HD_back_UP/ALL_MUSIC/Music_back_up/_1...      .mp3   4.594223  \n",
       "7115  /Volumes/HD_back_UP/ALL_MUSIC/Music_back_up/_1...      .mp3   4.589869  \n",
       "\n",
       "[6898 rows x 5 columns]"
      ]
     },
     "execution_count": 5,
     "metadata": {},
     "output_type": "execute_result"
    }
   ],
   "source": [
    "# CLEAN\n",
    "df = df_AU_ALL[~df_AU_ALL['Name'].str.startswith('._')].copy()\n",
    "df = df[df['Type'] != 'Directory']\n",
    "\n",
    "len(df)#.head()\n",
    "df"
   ]
  },
  {
   "cell_type": "code",
   "execution_count": 6,
   "id": "88eca54f",
   "metadata": {},
   "outputs": [],
   "source": [
    "df = df.head(10).copy()"
   ]
  },
  {
   "cell_type": "markdown",
   "id": "b29b9046",
   "metadata": {},
   "source": [
    "# MAIN FUNCTIONS"
   ]
  },
  {
   "cell_type": "markdown",
   "id": "f778c08a",
   "metadata": {},
   "source": [
    "### QUALITATIVE"
   ]
  },
  {
   "cell_type": "code",
   "execution_count": 7,
   "id": "74ce97de",
   "metadata": {},
   "outputs": [
    {
     "name": "stderr",
     "output_type": "stream",
     "text": [
      "DURATION:::Processing files: 100%|██████████████| 10/10 [00:01<00:00,  7.78it/s]"
     ]
    },
    {
     "name": "stdout",
     "output_type": "stream",
     "text": [
      "BITRATE :::Processing files : DONE\n"
     ]
    },
    {
     "name": "stderr",
     "output_type": "stream",
     "text": [
      "\n"
     ]
    }
   ],
   "source": [
    "\n",
    "#1# COMPPUTE ---------------------- DURATION\n",
    "exec(open(f\"_ms_fields_1_duration.py\",encoding=\"utf-8\").read())\n",
    "df['Duration'] = [get_duration(path) for path in tqdm(df['Path'], desc=\"DURATION:::Processing files\")]\n",
    "\n",
    "#2# COMPPUTE ---------------------- BITRATE\n",
    "exec(open(f\"_ms_fields_2_bitrate.py\",encoding=\"utf-8\").read());print('BITRATE :::Processing files : DONE')\n",
    "df['bitrate'] = df.apply(lambda row: compute_bitrate(row['Path'], row['Duration']), axis=1)\n",
    "\n"
   ]
  },
  {
   "cell_type": "markdown",
   "id": "ba495c77",
   "metadata": {},
   "source": [
    "### duration check"
   ]
  },
  {
   "cell_type": "code",
   "execution_count": 8,
   "id": "5fa3ac77",
   "metadata": {},
   "outputs": [],
   "source": [
    "# Convert 'duration' column to numeric, coercing errors to NaN\n",
    "df['Duration'] = pd.to_numeric(df['Duration'], errors='coerce')\n"
   ]
  },
  {
   "cell_type": "code",
   "execution_count": 9,
   "id": "15da94c2",
   "metadata": {
    "scrolled": true
   },
   "outputs": [],
   "source": [
    "# make a new variable\n",
    "df['duration_minutes'] = df['Duration'] / 60\n",
    "#filter songs below 2 min long\n",
    "df_short_erase = df[df['duration_minutes'] < 2].copy()\n",
    "#filter songs over 12 min long\n",
    "df_long_erase = df[df['duration_minutes'] > 12].copy()\n",
    "#filter songs within range (2,12)\n",
    "df = df[(df['duration_minutes'] > 2) & (df['duration_minutes'] < 12)].copy()\n"
   ]
  },
  {
   "cell_type": "markdown",
   "id": "b89639f9",
   "metadata": {},
   "source": [
    "### bitrate check"
   ]
  },
  {
   "cell_type": "code",
   "execution_count": 10,
   "id": "ef01c36f",
   "metadata": {},
   "outputs": [
    {
     "name": "stdout",
     "output_type": "stream",
     "text": [
      "\n",
      "\n",
      "will be ERASE from BITRATE :: 0\n"
     ]
    }
   ],
   "source": [
    "df = df[df['bitrate'] >= 320].copy()\n",
    "# erase \n",
    "df_bitrate_erase = df[df['bitrate'] < 320].copy()\n",
    "print('\\n\\nwill be ERASE from BITRATE ::',len(df_bitrate_erase))"
   ]
  },
  {
   "cell_type": "code",
   "execution_count": 11,
   "id": "cc900cfa",
   "metadata": {},
   "outputs": [
    {
     "name": "stdout",
     "output_type": "stream",
     "text": [
      "Series([], Name: bitrate, dtype: int64)\n",
      "\n",
      " !!! Following will be adding after found duplicates NEXT ::  10\n"
     ]
    }
   ],
   "source": [
    "# taking 320 bitrate as the lowest quality accepted, we move forward and export the table for futher investigation\n",
    "# remember the goal of this project is to filter songs for ultimate collection where we can play without so much \n",
    "# worrying of what is the quality and DO INVESTIGATE in case you have 319 through DF_FILETERED first\n",
    "print(df_bitrate_erase['bitrate'].value_counts().sort_index(ascending=True))\n",
    "\n",
    "print('\\n !!! Following will be adding after found duplicates NEXT :: ',len(df))\n"
   ]
  },
  {
   "cell_type": "code",
   "execution_count": 12,
   "id": "00575792",
   "metadata": {
    "scrolled": true
   },
   "outputs": [
    {
     "data": {
      "text/html": [
       "<div>\n",
       "<style scoped>\n",
       "    .dataframe tbody tr th:only-of-type {\n",
       "        vertical-align: middle;\n",
       "    }\n",
       "\n",
       "    .dataframe tbody tr th {\n",
       "        vertical-align: top;\n",
       "    }\n",
       "\n",
       "    .dataframe thead th {\n",
       "        text-align: right;\n",
       "    }\n",
       "</style>\n",
       "<table border=\"1\" class=\"dataframe\">\n",
       "  <thead>\n",
       "    <tr style=\"text-align: right;\">\n",
       "      <th></th>\n",
       "      <th>Name</th>\n",
       "      <th>Type</th>\n",
       "      <th>Path</th>\n",
       "      <th>Extension</th>\n",
       "      <th>Size (MB)</th>\n",
       "      <th>Duration</th>\n",
       "      <th>bitrate</th>\n",
       "      <th>duration_minutes</th>\n",
       "    </tr>\n",
       "  </thead>\n",
       "  <tbody>\n",
       "    <tr>\n",
       "      <th>0</th>\n",
       "      <td>LA MAMA GORDOXR</td>\n",
       "      <td>File</td>\n",
       "      <td>/Volumes/HD_back_UP/ALL_MUSIC/Music_back_up/_0...</td>\n",
       "      <td>.wav</td>\n",
       "      <td>65.412533</td>\n",
       "      <td>388.800000</td>\n",
       "      <td>1411.317119</td>\n",
       "      <td>6.480000</td>\n",
       "    </tr>\n",
       "    <tr>\n",
       "      <th>1</th>\n",
       "      <td>Boris Brejcha -</td>\n",
       "      <td>File</td>\n",
       "      <td>/Volumes/HD_back_UP/ALL_MUSIC/Music_back_up/_0...</td>\n",
       "      <td>.mp3</td>\n",
       "      <td>19.894636</td>\n",
       "      <td>520.359184</td>\n",
       "      <td>320.717514</td>\n",
       "      <td>8.672653</td>\n",
       "    </tr>\n",
       "    <tr>\n",
       "      <th>2</th>\n",
       "      <td>Massano - The F</td>\n",
       "      <td>File</td>\n",
       "      <td>/Volumes/HD_back_UP/ALL_MUSIC/Music_back_up/_0...</td>\n",
       "      <td>.mp3</td>\n",
       "      <td>19.577145</td>\n",
       "      <td>512.052245</td>\n",
       "      <td>320.719211</td>\n",
       "      <td>8.534204</td>\n",
       "    </tr>\n",
       "    <tr>\n",
       "      <th>3</th>\n",
       "      <td>WhoMadeWho - Ev</td>\n",
       "      <td>File</td>\n",
       "      <td>/Volumes/HD_back_UP/ALL_MUSIC/Music_back_up/_0...</td>\n",
       "      <td>.mp3</td>\n",
       "      <td>18.569843</td>\n",
       "      <td>485.694694</td>\n",
       "      <td>320.726452</td>\n",
       "      <td>8.094912</td>\n",
       "    </tr>\n",
       "    <tr>\n",
       "      <th>4</th>\n",
       "      <td>Claude VonStrok</td>\n",
       "      <td>File</td>\n",
       "      <td>/Volumes/HD_back_UP/ALL_MUSIC/Music_back_up/_0...</td>\n",
       "      <td>.mp3</td>\n",
       "      <td>18.524839</td>\n",
       "      <td>484.519184</td>\n",
       "      <td>320.725414</td>\n",
       "      <td>8.075320</td>\n",
       "    </tr>\n",
       "  </tbody>\n",
       "</table>\n",
       "</div>"
      ],
      "text/plain": [
       "              Name  Type                                               Path  \\\n",
       "0  LA MAMA GORDOXR  File  /Volumes/HD_back_UP/ALL_MUSIC/Music_back_up/_0...   \n",
       "1  Boris Brejcha -  File  /Volumes/HD_back_UP/ALL_MUSIC/Music_back_up/_0...   \n",
       "2  Massano - The F  File  /Volumes/HD_back_UP/ALL_MUSIC/Music_back_up/_0...   \n",
       "3  WhoMadeWho - Ev  File  /Volumes/HD_back_UP/ALL_MUSIC/Music_back_up/_0...   \n",
       "4  Claude VonStrok  File  /Volumes/HD_back_UP/ALL_MUSIC/Music_back_up/_0...   \n",
       "\n",
       "  Extension  Size (MB)    Duration      bitrate  duration_minutes  \n",
       "0      .wav  65.412533  388.800000  1411.317119          6.480000  \n",
       "1      .mp3  19.894636  520.359184   320.717514          8.672653  \n",
       "2      .mp3  19.577145  512.052245   320.719211          8.534204  \n",
       "3      .mp3  18.569843  485.694694   320.726452          8.094912  \n",
       "4      .mp3  18.524839  484.519184   320.725414          8.075320  "
      ]
     },
     "execution_count": 12,
     "metadata": {},
     "output_type": "execute_result"
    }
   ],
   "source": [
    "df.head()"
   ]
  },
  {
   "cell_type": "markdown",
   "id": "f7ba280b",
   "metadata": {},
   "source": [
    "### QUANTITATIVE"
   ]
  },
  {
   "cell_type": "code",
   "execution_count": 13,
   "id": "addf3d26",
   "metadata": {
    "scrolled": true
   },
   "outputs": [
    {
     "name": "stderr",
     "output_type": "stream",
     "text": [
      "Processing WAV Files: 100%|███████████████████████| 1/1 [00:00<00:00,  7.02it/s]\n"
     ]
    },
    {
     "name": "stdout",
     "output_type": "stream",
     "text": [
      "Error at index 0: object of type 'TIT2' has no len()\n"
     ]
    },
    {
     "name": "stderr",
     "output_type": "stream",
     "text": [
      "Processing MP3 Files: 100%|███████████████████████| 9/9 [00:01<00:00,  6.42it/s]\n"
     ]
    },
    {
     "name": "stdout",
     "output_type": "stream",
     "text": [
      "ID tags registered\n"
     ]
    },
    {
     "name": "stderr",
     "output_type": "stream",
     "text": [
      "Computing LUFS: 100%|█████████████████████████| 10/10 [00:22<00:00,  2.21s/file]\n",
      "Computing BPM: 100%|████████████████████████████| 10/10 [00:11<00:00,  1.11s/it]\n"
     ]
    }
   ],
   "source": [
    "################################################                                       1) id TAGS\n",
    "exec(open(f\"{direc}/_ms_pl_info_1a_all-id-tags.py\", encoding=\"utf-8\").read())\n",
    "    ################################################                                       2)  LUFS\n",
    "exec(open(f\"{direc}/_ms_pl_info_2_all_LUFS.py\",encoding=\"utf-8\").read())\n",
    "df['lufs'] = compute_lufs_for_paths(df['Path'])\n",
    "    ################################################                                       3)  BPM\n",
    "exec(open(f\"{direc}/_ms_pl_info_3_BPM.py\",encoding=\"utf-8\").read())\n",
    "df['BPM'] = [compute_bpm(x) if x.endswith(tuple(audio_extensions)) else None for x in tqdm(df['Path'], desc=\"Computing BPM\")]"
   ]
  },
  {
   "cell_type": "code",
   "execution_count": 14,
   "id": "3dfd5b0b",
   "metadata": {},
   "outputs": [
    {
     "data": {
      "text/html": [
       "<div>\n",
       "<style scoped>\n",
       "    .dataframe tbody tr th:only-of-type {\n",
       "        vertical-align: middle;\n",
       "    }\n",
       "\n",
       "    .dataframe tbody tr th {\n",
       "        vertical-align: top;\n",
       "    }\n",
       "\n",
       "    .dataframe thead th {\n",
       "        text-align: right;\n",
       "    }\n",
       "</style>\n",
       "<table border=\"1\" class=\"dataframe\">\n",
       "  <thead>\n",
       "    <tr style=\"text-align: right;\">\n",
       "      <th></th>\n",
       "      <th>Name</th>\n",
       "      <th>Type</th>\n",
       "      <th>Extension</th>\n",
       "      <th>Size (MB)</th>\n",
       "      <th>bitrate</th>\n",
       "      <th>Duration</th>\n",
       "      <th>duration_minutes</th>\n",
       "      <th>Path</th>\n",
       "      <th>idt_title</th>\n",
       "      <th>idt_artist</th>\n",
       "      <th>idt_album</th>\n",
       "      <th>idt_year</th>\n",
       "      <th>idt_track</th>\n",
       "      <th>idt_genre</th>\n",
       "      <th>idt_comment</th>\n",
       "      <th>idt_audio_offset</th>\n",
       "      <th>lufs</th>\n",
       "      <th>BPM</th>\n",
       "    </tr>\n",
       "  </thead>\n",
       "  <tbody>\n",
       "    <tr>\n",
       "      <th>0</th>\n",
       "      <td>LA MAMA GORDOXR</td>\n",
       "      <td>File</td>\n",
       "      <td>.wav</td>\n",
       "      <td>65.412533</td>\n",
       "      <td>1411.317119</td>\n",
       "      <td>388.800000</td>\n",
       "      <td>6.480000</td>\n",
       "      <td>/Volumes/HD_back_UP/ALL_MUSIC/Music_back_up/_0...</td>\n",
       "      <td>NaN</td>\n",
       "      <td>NaN</td>\n",
       "      <td>NaN</td>\n",
       "      <td>NaN</td>\n",
       "      <td>NaN</td>\n",
       "      <td>NaN</td>\n",
       "      <td>NaN</td>\n",
       "      <td>NaN</td>\n",
       "      <td>-7.749</td>\n",
       "      <td>126.103521</td>\n",
       "    </tr>\n",
       "    <tr>\n",
       "      <th>1</th>\n",
       "      <td>Boris Brejcha -</td>\n",
       "      <td>File</td>\n",
       "      <td>.mp3</td>\n",
       "      <td>19.894636</td>\n",
       "      <td>320.717514</td>\n",
       "      <td>520.359184</td>\n",
       "      <td>8.672653</td>\n",
       "      <td>/Volumes/HD_back_UP/ALL_MUSIC/Music_back_up/_0...</td>\n",
       "      <td>Boris Brejcha - FEAR myfreemp3.vip</td>\n",
       "      <td>NaN</td>\n",
       "      <td>NaN</td>\n",
       "      <td>NaN</td>\n",
       "      <td>NaN</td>\n",
       "      <td>NaN</td>\n",
       "      <td>NaN</td>\n",
       "      <td>45627.0</td>\n",
       "      <td>-10.823</td>\n",
       "      <td>125.950032</td>\n",
       "    </tr>\n",
       "    <tr>\n",
       "      <th>2</th>\n",
       "      <td>Massano - The F</td>\n",
       "      <td>File</td>\n",
       "      <td>.mp3</td>\n",
       "      <td>19.577145</td>\n",
       "      <td>320.719211</td>\n",
       "      <td>512.052245</td>\n",
       "      <td>8.534204</td>\n",
       "      <td>/Volumes/HD_back_UP/ALL_MUSIC/Music_back_up/_0...</td>\n",
       "      <td>Massano - The Feeling myfreemp3.vip</td>\n",
       "      <td>NaN</td>\n",
       "      <td>NaN</td>\n",
       "      <td>NaN</td>\n",
       "      <td>NaN</td>\n",
       "      <td>NaN</td>\n",
       "      <td>NaN</td>\n",
       "      <td>44991.0</td>\n",
       "      <td>-12.092</td>\n",
       "      <td>124.852276</td>\n",
       "    </tr>\n",
       "    <tr>\n",
       "      <th>3</th>\n",
       "      <td>WhoMadeWho - Ev</td>\n",
       "      <td>File</td>\n",
       "      <td>.mp3</td>\n",
       "      <td>18.569843</td>\n",
       "      <td>320.726452</td>\n",
       "      <td>485.694694</td>\n",
       "      <td>8.094912</td>\n",
       "      <td>/Volumes/HD_back_UP/ALL_MUSIC/Music_back_up/_0...</td>\n",
       "      <td>WhoMadeWho - Every Minute Alone (Tale of Us an...</td>\n",
       "      <td>NaN</td>\n",
       "      <td>NaN</td>\n",
       "      <td>NaN</td>\n",
       "      <td>NaN</td>\n",
       "      <td>NaN</td>\n",
       "      <td>NaN</td>\n",
       "      <td>43061.0</td>\n",
       "      <td>-12.551</td>\n",
       "      <td>126.055011</td>\n",
       "    </tr>\n",
       "    <tr>\n",
       "      <th>4</th>\n",
       "      <td>Claude VonStrok</td>\n",
       "      <td>File</td>\n",
       "      <td>.mp3</td>\n",
       "      <td>18.524839</td>\n",
       "      <td>320.725414</td>\n",
       "      <td>484.519184</td>\n",
       "      <td>8.075320</td>\n",
       "      <td>/Volumes/HD_back_UP/ALL_MUSIC/Music_back_up/_0...</td>\n",
       "      <td>Claude VonStroke - Can't Wait myfreemp3.vip</td>\n",
       "      <td>NaN</td>\n",
       "      <td>NaN</td>\n",
       "      <td>NaN</td>\n",
       "      <td>NaN</td>\n",
       "      <td>NaN</td>\n",
       "      <td>NaN</td>\n",
       "      <td>42891.0</td>\n",
       "      <td>-9.679</td>\n",
       "      <td>123.972508</td>\n",
       "    </tr>\n",
       "  </tbody>\n",
       "</table>\n",
       "</div>"
      ],
      "text/plain": [
       "              Name  Type Extension  Size (MB)      bitrate    Duration  \\\n",
       "0  LA MAMA GORDOXR  File      .wav  65.412533  1411.317119  388.800000   \n",
       "1  Boris Brejcha -  File      .mp3  19.894636   320.717514  520.359184   \n",
       "2  Massano - The F  File      .mp3  19.577145   320.719211  512.052245   \n",
       "3  WhoMadeWho - Ev  File      .mp3  18.569843   320.726452  485.694694   \n",
       "4  Claude VonStrok  File      .mp3  18.524839   320.725414  484.519184   \n",
       "\n",
       "   duration_minutes                                               Path  \\\n",
       "0          6.480000  /Volumes/HD_back_UP/ALL_MUSIC/Music_back_up/_0...   \n",
       "1          8.672653  /Volumes/HD_back_UP/ALL_MUSIC/Music_back_up/_0...   \n",
       "2          8.534204  /Volumes/HD_back_UP/ALL_MUSIC/Music_back_up/_0...   \n",
       "3          8.094912  /Volumes/HD_back_UP/ALL_MUSIC/Music_back_up/_0...   \n",
       "4          8.075320  /Volumes/HD_back_UP/ALL_MUSIC/Music_back_up/_0...   \n",
       "\n",
       "                                           idt_title  idt_artist  idt_album  \\\n",
       "0                                                NaN         NaN        NaN   \n",
       "1                Boris Brejcha - FEAR myfreemp3.vip          NaN        NaN   \n",
       "2               Massano - The Feeling myfreemp3.vip          NaN        NaN   \n",
       "3  WhoMadeWho - Every Minute Alone (Tale of Us an...         NaN        NaN   \n",
       "4       Claude VonStroke - Can't Wait myfreemp3.vip          NaN        NaN   \n",
       "\n",
       "   idt_year  idt_track  idt_genre  idt_comment  idt_audio_offset    lufs  \\\n",
       "0       NaN        NaN        NaN          NaN               NaN  -7.749   \n",
       "1       NaN        NaN        NaN          NaN           45627.0 -10.823   \n",
       "2       NaN        NaN        NaN          NaN           44991.0 -12.092   \n",
       "3       NaN        NaN        NaN          NaN           43061.0 -12.551   \n",
       "4       NaN        NaN        NaN          NaN           42891.0  -9.679   \n",
       "\n",
       "          BPM  \n",
       "0  126.103521  \n",
       "1  125.950032  \n",
       "2  124.852276  \n",
       "3  126.055011  \n",
       "4  123.972508  "
      ]
     },
     "execution_count": 14,
     "metadata": {},
     "output_type": "execute_result"
    }
   ],
   "source": [
    "df.head()"
   ]
  },
  {
   "cell_type": "markdown",
   "id": "0ea0ad91",
   "metadata": {},
   "source": [
    "# INVESTIGATE for DUPLICATES"
   ]
  },
  {
   "cell_type": "code",
   "execution_count": 15,
   "id": "c1f31914",
   "metadata": {},
   "outputs": [
    {
     "name": "stdout",
     "output_type": "stream",
     "text": [
      "UNIQUE & DUPLICATES based on New name\n",
      "UNIQUE     ::: 10   \n",
      "DUPLICATES ::: 0\n"
     ]
    }
   ],
   "source": [
    "# Make DF the same for identifier\n",
    "\n",
    "df['Size (MB) id'] = df['Size (MB)'].astype(str)\n",
    "df['file_id'] = df['Name']+ '-MB-' +df['Size (MB) id']+ df['Extension']\n",
    "\n",
    "# CHECK UNIQUE and/repeated\n",
    "# Rows without duplicated SHA256 values (keeping only the first occurrence)\n",
    "df_unique = df[~df['file_id'].duplicated(keep='first')].copy()\n",
    "    \n",
    "    # Rows with duplicated SHA256 values (excluding the first occurrence)\n",
    "df_duplicates = df[df['file_id'].duplicated(keep='first')]\n",
    "\n",
    "print('UNIQUE & DUPLICATES based on New name' )\n",
    "print('UNIQUE     :::',len(df_unique), '  \\nDUPLICATES :::' ,len(df_duplicates))\n",
    "\n"
   ]
  },
  {
   "cell_type": "markdown",
   "id": "3e33379b",
   "metadata": {},
   "source": [
    "# ERASE ( 1) The ones that did not pass quality CHECK (2) DUPLICATES "
   ]
  },
  {
   "cell_type": "markdown",
   "id": "9d1dd06a",
   "metadata": {},
   "source": [
    "### move"
   ]
  },
  {
   "cell_type": "code",
   "execution_count": 16,
   "id": "f5444ded",
   "metadata": {},
   "outputs": [
    {
     "name": "stderr",
     "output_type": "stream",
     "text": [
      "Moving files: 0file [00:00, ?file/s]\n",
      "Moving files: 0file [00:00, ?file/s]\n",
      "Moving files: 0file [00:00, ?file/s]\n",
      "Moving files: 0file [00:00, ?file/s]\n"
     ]
    }
   ],
   "source": [
    "import shutil\n",
    "import pandas as pd\n",
    "\n",
    "def move_files(df, destination):\n",
    "    \"\"\"\n",
    "    Move files from the 'Path' column of the dataframe to the specified destination.\n",
    "    \"\"\"\n",
    "    for file_path in tqdm(df['Path'], desc=\"Moving files\", unit=\"file\"):\n",
    "        try:\n",
    "            shutil.copy(file_path, destination)\n",
    "        except Exception as e:\n",
    "            print(f\"Error moving {file_path} to {destination}: {e}\")\n",
    "\n",
    "\n",
    "# Move files based on the dataframe's intended destination\n",
    "\n",
    "# e_1_a # BITRATE erase to UNWANTED SONGS  \"Music_misc/UNWANTED_songs\"\n",
    "move_files(df_bitrate_erase, \"/Volumes/HD_back_UP/ALL_MUSIC/Music_misc/UNWANTED_songs\")\n",
    "\n",
    "# e_1_b # DURATION erase\n",
    "\n",
    "# send to possible PRODUCTION MATERIAL \"_2_source_PROD/PROD_check\"\n",
    "move_files(df_short_erase, \"/Volumes/HD_back_UP/ALL_MUSIC/Music_back_up/_2_source_PROD/PROD_check\")\n",
    "# send to possible SETS to keep         \"_4_SETS/SETS_check\"\n",
    "move_files(df_long_erase, \"/Volumes/HD_back_UP/ALL_MUSIC/Music_back_up/_4_SETS/SETS_check\")\n",
    "\n",
    "# e_2 # DUPLICATES\n",
    "move_files(df_duplicates, \"/Volumes/HD_back_UP/ALL_MUSIC/Music_misc/UNWANTED_songs/_DUPLICATES\")\n"
   ]
  },
  {
   "cell_type": "markdown",
   "id": "6a9a11f1",
   "metadata": {},
   "source": [
    "## erase"
   ]
  },
  {
   "cell_type": "code",
   "execution_count": 17,
   "id": "03c812da",
   "metadata": {},
   "outputs": [
    {
     "data": {
      "text/html": [
       "<div>\n",
       "<style scoped>\n",
       "    .dataframe tbody tr th:only-of-type {\n",
       "        vertical-align: middle;\n",
       "    }\n",
       "\n",
       "    .dataframe tbody tr th {\n",
       "        vertical-align: top;\n",
       "    }\n",
       "\n",
       "    .dataframe thead th {\n",
       "        text-align: right;\n",
       "    }\n",
       "</style>\n",
       "<table border=\"1\" class=\"dataframe\">\n",
       "  <thead>\n",
       "    <tr style=\"text-align: right;\">\n",
       "      <th></th>\n",
       "      <th>Name</th>\n",
       "      <th>Type</th>\n",
       "      <th>Extension</th>\n",
       "      <th>Size (MB)</th>\n",
       "      <th>bitrate</th>\n",
       "      <th>Duration</th>\n",
       "      <th>duration_minutes</th>\n",
       "      <th>Path</th>\n",
       "      <th>idt_title</th>\n",
       "      <th>idt_artist</th>\n",
       "      <th>idt_album</th>\n",
       "      <th>idt_year</th>\n",
       "      <th>idt_track</th>\n",
       "      <th>idt_genre</th>\n",
       "      <th>idt_comment</th>\n",
       "      <th>idt_audio_offset</th>\n",
       "      <th>lufs</th>\n",
       "      <th>BPM</th>\n",
       "      <th>Size (MB) id</th>\n",
       "      <th>file_id</th>\n",
       "    </tr>\n",
       "  </thead>\n",
       "  <tbody>\n",
       "  </tbody>\n",
       "</table>\n",
       "</div>"
      ],
      "text/plain": [
       "Empty DataFrame\n",
       "Columns: [Name, Type, Extension, Size (MB), bitrate, Duration, duration_minutes, Path, idt_title, idt_artist, idt_album, idt_year, idt_track, idt_genre, idt_comment, idt_audio_offset, lufs, BPM, Size (MB) id, file_id]\n",
       "Index: []"
      ]
     },
     "execution_count": 17,
     "metadata": {},
     "output_type": "execute_result"
    }
   ],
   "source": [
    "df_duplicates"
   ]
  },
  {
   "cell_type": "code",
   "execution_count": 18,
   "id": "e0c6e07b",
   "metadata": {},
   "outputs": [],
   "source": [
    "df_delete = df_duplicates # what data frames to erase"
   ]
  },
  {
   "cell_type": "code",
   "execution_count": 19,
   "id": "2651ff74",
   "metadata": {
    "scrolled": true
   },
   "outputs": [
    {
     "name": "stdout",
     "output_type": "stream",
     "text": [
      "ATTN:: To delete this files [y]   \n"
     ]
    }
   ],
   "source": [
    "\n",
    "import os\n",
    "from tqdm import tqdm\n",
    "import pandas as pd\n",
    "\n",
    "def delete_files_safely(df):\n",
    "    \"\"\"\n",
    "    Safely delete the files listed in the 'Path' column of the dataframe.\n",
    "    Bypass and print any errors encountered.\n",
    "    \"\"\"\n",
    "    for file_path in tqdm(df['Path'], desc=\"Deleting files\", unit=\"file\"):\n",
    "        try:\n",
    "            os.remove(file_path)\n",
    "        except Exception as e:\n",
    "            print(f\"Error deleting {file_path}: {e} : OPPENING FILES\")\n",
    "\n",
    "input_delete = input('ATTN:: To delete this files [y]   ')\n",
    "\n",
    "if input_delete == 'y':\n",
    "    delete_files_safely(df_delete)"
   ]
  },
  {
   "cell_type": "code",
   "execution_count": 20,
   "id": "500866ea",
   "metadata": {},
   "outputs": [],
   "source": [
    "# # if subprocess fails does not delete show in Finder\n",
    "# import subprocess\n",
    "\n",
    "# def open_in_finder(file_paths):\n",
    "#     \"\"\"\n",
    "#     Open the specified file paths in Finder.\n",
    "#     \"\"\"\n",
    "#     for path in file_paths:\n",
    "#         input('ATTN:: ABOUT TO OPEN locked files in FOLDER ')\n",
    "#         subprocess.run(['open', '-R', path])\n",
    "        \n",
    "# open_in_finder(df_delete['Path'])"
   ]
  },
  {
   "cell_type": "code",
   "execution_count": null,
   "id": "601068b7",
   "metadata": {
    "scrolled": true
   },
   "outputs": [],
   "source": [
    "df_unique"
   ]
  },
  {
   "cell_type": "markdown",
   "id": "0512e1b3",
   "metadata": {},
   "source": [
    "# EXPORT"
   ]
  },
  {
   "cell_type": "code",
   "execution_count": 21,
   "id": "4a3f2ffb",
   "metadata": {},
   "outputs": [],
   "source": [
    "#df_unique.to_pickle(f'another_coll.pkl')"
   ]
  },
  {
   "cell_type": "code",
   "execution_count": 22,
   "id": "741d5a3f",
   "metadata": {},
   "outputs": [],
   "source": [
    "#END\n"
   ]
  },
  {
   "cell_type": "markdown",
   "id": "818a4d3a",
   "metadata": {},
   "source": [
    "# CHECK COLLECTION - QUALITATIVE"
   ]
  },
  {
   "cell_type": "code",
   "execution_count": 23,
   "id": "bc3047be",
   "metadata": {},
   "outputs": [],
   "source": [
    "# FILE SIZE , BITRATE and duration_minutes"
   ]
  },
  {
   "cell_type": "code",
   "execution_count": 24,
   "id": "bbaf21c0",
   "metadata": {},
   "outputs": [
    {
     "data": {
      "image/png": "[encoded data removed]",
      "text/plain": [
       "<Figure size 1000x800 with 2 Axes>"
      ]
     },
     "metadata": {},
     "output_type": "display_data"
    }
   ],
   "source": [
    "exec(open(f\"{direc}/_ms_EDA_1_numeric_var_graph.py\",encoding=\"utf-8\").read())\n",
    "visualize_distribution(df, 'Size (MB)')"
   ]
  },
  {
   "cell_type": "code",
   "execution_count": 25,
   "id": "3d990d51",
   "metadata": {},
   "outputs": [],
   "source": [
    "# bitrate"
   ]
  },
  {
   "cell_type": "code",
   "execution_count": 26,
   "id": "cbb4fa92",
   "metadata": {},
   "outputs": [
    {
     "name": "stdout",
     "output_type": "stream",
     "text": [
      "              Name     bitrate\n",
      "1  Boris Brejcha -  320.717514\n",
      "2  Massano - The F  320.719211\n",
      "4  Claude VonStrok  320.725414\n"
     ]
    }
   ],
   "source": [
    "# bitrate\n",
    "\n",
    "sorted_tracks = df.sort_values(by='bitrate', ascending=True)\n",
    "print(sorted_tracks[['Name', 'bitrate']].head(3))  # top 10 loudest tracks"
   ]
  },
  {
   "cell_type": "code",
   "execution_count": 27,
   "id": "2b8789ea",
   "metadata": {},
   "outputs": [
    {
     "data": {
      "image/png": "[encoded data removed]",
      "text/plain": [
       "<Figure size 1000x800 with 2 Axes>"
      ]
     },
     "metadata": {},
     "output_type": "display_data"
    }
   ],
   "source": [
    "visualize_distribution(df, 'bitrate')"
   ]
  },
  {
   "cell_type": "code",
   "execution_count": 28,
   "id": "ff88a9e9",
   "metadata": {},
   "outputs": [],
   "source": [
    "# duration"
   ]
  },
  {
   "cell_type": "code",
   "execution_count": 29,
   "id": "56c92db4",
   "metadata": {},
   "outputs": [
    {
     "name": "stdout",
     "output_type": "stream",
     "text": [
      "              Name  duration_minutes\n",
      "0  LA MAMA GORDOXR          6.480000\n",
      "9  Eddie Le Funk -          7.518912\n",
      "8  EVREN FURTUNA -          7.685660\n"
     ]
    },
    {
     "data": {
      "image/png": "[encoded data removed]",
      "text/plain": [
       "<Figure size 1000x800 with 2 Axes>"
      ]
     },
     "metadata": {},
     "output_type": "display_data"
    }
   ],
   "source": [
    "# DURATION\n",
    "sorted_tracks = df.sort_values(by='duration_minutes', ascending=True)\n",
    "print(sorted_tracks[['Name', 'duration_minutes']].head(3))  # top 10 loudest tracks\n",
    "\n",
    "#\n",
    "visualize_distribution(df, 'duration_minutes')"
   ]
  },
  {
   "cell_type": "code",
   "execution_count": 30,
   "id": "35a268b7",
   "metadata": {},
   "outputs": [],
   "source": [
    "# (EDA)- exploratory data analysis -  COLLECTION - QUALITATIVE"
   ]
  },
  {
   "cell_type": "code",
   "execution_count": 31,
   "id": "1d329c8d",
   "metadata": {},
   "outputs": [],
   "source": [
    "# lufs"
   ]
  },
  {
   "cell_type": "code",
   "execution_count": 32,
   "id": "ea3085a8",
   "metadata": {},
   "outputs": [
    {
     "name": "stdout",
     "output_type": "stream",
     "text": [
      "              Name    lufs\n",
      "0  LA MAMA GORDOXR  -7.749\n",
      "5  RÜFÜS DU SOL   -7.962\n",
      "7  Shadow Child -   -8.474\n",
      "6  ARTBAT - Horizo  -9.514\n",
      "4  Claude VonStrok  -9.679\n",
      "8  EVREN FURTUNA -  -9.728\n",
      "1  Boris Brejcha - -10.823\n",
      "9  Eddie Le Funk - -11.704\n",
      "2  Massano - The F -12.092\n",
      "\n",
      "               Name    lufs\n",
      "3  WhoMadeWho - Ev -12.551\n",
      "2  Massano - The F -12.092\n",
      "9  Eddie Le Funk - -11.704\n"
     ]
    },
    {
     "data": {
      "image/png": "[encoded data removed]",
      "text/plain": [
       "<Figure size 1000x800 with 2 Axes>"
      ]
     },
     "metadata": {},
     "output_type": "display_data"
    }
   ],
   "source": [
    "sorted_tracks = df.sort_values(by='lufs', ascending=False)\n",
    "print(sorted_tracks[['Name', 'lufs']].head(9))  # top 10 loudest tracks\n",
    "\n",
    "\n",
    "sorted_tracks_a = df.sort_values(by='lufs', ascending=True)\n",
    "print('\\n',sorted_tracks_a[['Name', 'lufs']].head(3))  # top 10 loudest tracks\n",
    "\n",
    "visualize_distribution(df, 'lufs')"
   ]
  },
  {
   "cell_type": "code",
   "execution_count": 33,
   "id": "8f61de7f",
   "metadata": {},
   "outputs": [],
   "source": [
    "# genre"
   ]
  },
  {
   "cell_type": "code",
   "execution_count": 34,
   "id": "4460bc67",
   "metadata": {},
   "outputs": [
    {
     "data": {
      "text/plain": [
       "Series([], Name: idt_genre, dtype: int64)"
      ]
     },
     "execution_count": 34,
     "metadata": {},
     "output_type": "execute_result"
    }
   ],
   "source": [
    "dis = df['idt_genre'].value_counts()\n",
    "dis.head(40)"
   ]
  },
  {
   "cell_type": "code",
   "execution_count": 35,
   "id": "2476e401",
   "metadata": {
    "scrolled": true
   },
   "outputs": [
    {
     "ename": "IndexError",
     "evalue": "index 0 is out of bounds for axis 0 with size 0",
     "output_type": "error",
     "traceback": [
      "\u001b[0;31m---------------------------------------------------------------------------\u001b[0m",
      "\u001b[0;31mIndexError\u001b[0m                                Traceback (most recent call last)",
      "Cell \u001b[0;32mIn[35], line 11\u001b[0m\n\u001b[1;32m      9\u001b[0m \u001b[38;5;66;03m# Plot the counts\u001b[39;00m\n\u001b[1;32m     10\u001b[0m plt\u001b[38;5;241m.\u001b[39mfigure(figsize\u001b[38;5;241m=\u001b[39m(\u001b[38;5;241m10\u001b[39m,\u001b[38;5;241m6\u001b[39m))\n\u001b[0;32m---> 11\u001b[0m \u001b[43midt_genre_counts\u001b[49m\u001b[38;5;241;43m.\u001b[39;49m\u001b[43mplot\u001b[49m\u001b[43m(\u001b[49m\u001b[43mkind\u001b[49m\u001b[38;5;241;43m=\u001b[39;49m\u001b[38;5;124;43m'\u001b[39;49m\u001b[38;5;124;43mbar\u001b[39;49m\u001b[38;5;124;43m'\u001b[39;49m\u001b[43m,\u001b[49m\u001b[43m \u001b[49m\u001b[43mcolor\u001b[49m\u001b[38;5;241;43m=\u001b[39;49m\u001b[38;5;124;43m'\u001b[39;49m\u001b[38;5;124;43mskyblue\u001b[39;49m\u001b[38;5;124;43m'\u001b[39;49m\u001b[43m)\u001b[49m\n\u001b[1;32m     13\u001b[0m plt\u001b[38;5;241m.\u001b[39mxlabel(\u001b[38;5;124m'\u001b[39m\u001b[38;5;124mGenres\u001b[39m\u001b[38;5;124m'\u001b[39m)\n\u001b[1;32m     14\u001b[0m plt\u001b[38;5;241m.\u001b[39mylabel(\u001b[38;5;124m'\u001b[39m\u001b[38;5;124mCount\u001b[39m\u001b[38;5;124m'\u001b[39m)\n",
      "File \u001b[0;32m~/anaconda3/lib/python3.10/site-packages/pandas/plotting/_core.py:1000\u001b[0m, in \u001b[0;36mPlotAccessor.__call__\u001b[0;34m(self, *args, **kwargs)\u001b[0m\n\u001b[1;32m    997\u001b[0m             label_name \u001b[38;5;241m=\u001b[39m label_kw \u001b[38;5;129;01mor\u001b[39;00m data\u001b[38;5;241m.\u001b[39mcolumns\n\u001b[1;32m    998\u001b[0m             data\u001b[38;5;241m.\u001b[39mcolumns \u001b[38;5;241m=\u001b[39m label_name\n\u001b[0;32m-> 1000\u001b[0m \u001b[38;5;28;01mreturn\u001b[39;00m \u001b[43mplot_backend\u001b[49m\u001b[38;5;241;43m.\u001b[39;49m\u001b[43mplot\u001b[49m\u001b[43m(\u001b[49m\u001b[43mdata\u001b[49m\u001b[43m,\u001b[49m\u001b[43m \u001b[49m\u001b[43mkind\u001b[49m\u001b[38;5;241;43m=\u001b[39;49m\u001b[43mkind\u001b[49m\u001b[43m,\u001b[49m\u001b[43m \u001b[49m\u001b[38;5;241;43m*\u001b[39;49m\u001b[38;5;241;43m*\u001b[39;49m\u001b[43mkwargs\u001b[49m\u001b[43m)\u001b[49m\n",
      "File \u001b[0;32m~/anaconda3/lib/python3.10/site-packages/pandas/plotting/_matplotlib/__init__.py:71\u001b[0m, in \u001b[0;36mplot\u001b[0;34m(data, kind, **kwargs)\u001b[0m\n\u001b[1;32m     69\u001b[0m         kwargs[\u001b[38;5;124m\"\u001b[39m\u001b[38;5;124max\u001b[39m\u001b[38;5;124m\"\u001b[39m] \u001b[38;5;241m=\u001b[39m \u001b[38;5;28mgetattr\u001b[39m(ax, \u001b[38;5;124m\"\u001b[39m\u001b[38;5;124mleft_ax\u001b[39m\u001b[38;5;124m\"\u001b[39m, ax)\n\u001b[1;32m     70\u001b[0m plot_obj \u001b[38;5;241m=\u001b[39m PLOT_CLASSES[kind](data, \u001b[38;5;241m*\u001b[39m\u001b[38;5;241m*\u001b[39mkwargs)\n\u001b[0;32m---> 71\u001b[0m \u001b[43mplot_obj\u001b[49m\u001b[38;5;241;43m.\u001b[39;49m\u001b[43mgenerate\u001b[49m\u001b[43m(\u001b[49m\u001b[43m)\u001b[49m\n\u001b[1;32m     72\u001b[0m plot_obj\u001b[38;5;241m.\u001b[39mdraw()\n\u001b[1;32m     73\u001b[0m \u001b[38;5;28;01mreturn\u001b[39;00m plot_obj\u001b[38;5;241m.\u001b[39mresult\n",
      "File \u001b[0;32m~/anaconda3/lib/python3.10/site-packages/pandas/plotting/_matplotlib/core.py:459\u001b[0m, in \u001b[0;36mMPLPlot.generate\u001b[0;34m(self)\u001b[0m\n\u001b[1;32m    457\u001b[0m \u001b[38;5;28;01mfor\u001b[39;00m ax \u001b[38;5;129;01min\u001b[39;00m \u001b[38;5;28mself\u001b[39m\u001b[38;5;241m.\u001b[39maxes:\n\u001b[1;32m    458\u001b[0m     \u001b[38;5;28mself\u001b[39m\u001b[38;5;241m.\u001b[39m_post_plot_logic_common(ax, \u001b[38;5;28mself\u001b[39m\u001b[38;5;241m.\u001b[39mdata)\n\u001b[0;32m--> 459\u001b[0m     \u001b[38;5;28;43mself\u001b[39;49m\u001b[38;5;241;43m.\u001b[39;49m\u001b[43m_post_plot_logic\u001b[49m\u001b[43m(\u001b[49m\u001b[43max\u001b[49m\u001b[43m,\u001b[49m\u001b[43m \u001b[49m\u001b[38;5;28;43mself\u001b[39;49m\u001b[38;5;241;43m.\u001b[39;49m\u001b[43mdata\u001b[49m\u001b[43m)\u001b[49m\n",
      "File \u001b[0;32m~/anaconda3/lib/python3.10/site-packages/pandas/plotting/_matplotlib/core.py:1739\u001b[0m, in \u001b[0;36mBarPlot._post_plot_logic\u001b[0;34m(self, ax, data)\u001b[0m\n\u001b[1;32m   1736\u001b[0m \u001b[38;5;28;01melse\u001b[39;00m:\n\u001b[1;32m   1737\u001b[0m     str_index \u001b[38;5;241m=\u001b[39m [pprint_thing(key) \u001b[38;5;28;01mfor\u001b[39;00m key \u001b[38;5;129;01min\u001b[39;00m \u001b[38;5;28mrange\u001b[39m(data\u001b[38;5;241m.\u001b[39mshape[\u001b[38;5;241m0\u001b[39m])]\n\u001b[0;32m-> 1739\u001b[0m s_edge \u001b[38;5;241m=\u001b[39m \u001b[38;5;28;43mself\u001b[39;49m\u001b[38;5;241;43m.\u001b[39;49m\u001b[43max_pos\u001b[49m\u001b[43m[\u001b[49m\u001b[38;5;241;43m0\u001b[39;49m\u001b[43m]\u001b[49m \u001b[38;5;241m-\u001b[39m \u001b[38;5;241m0.25\u001b[39m \u001b[38;5;241m+\u001b[39m \u001b[38;5;28mself\u001b[39m\u001b[38;5;241m.\u001b[39mlim_offset\n\u001b[1;32m   1740\u001b[0m e_edge \u001b[38;5;241m=\u001b[39m \u001b[38;5;28mself\u001b[39m\u001b[38;5;241m.\u001b[39max_pos[\u001b[38;5;241m-\u001b[39m\u001b[38;5;241m1\u001b[39m] \u001b[38;5;241m+\u001b[39m \u001b[38;5;241m0.25\u001b[39m \u001b[38;5;241m+\u001b[39m \u001b[38;5;28mself\u001b[39m\u001b[38;5;241m.\u001b[39mbar_width \u001b[38;5;241m+\u001b[39m \u001b[38;5;28mself\u001b[39m\u001b[38;5;241m.\u001b[39mlim_offset\n\u001b[1;32m   1742\u001b[0m \u001b[38;5;28mself\u001b[39m\u001b[38;5;241m.\u001b[39m_decorate_ticks(ax, \u001b[38;5;28mself\u001b[39m\u001b[38;5;241m.\u001b[39m_get_index_name(), str_index, s_edge, e_edge)\n",
      "\u001b[0;31mIndexError\u001b[0m: index 0 is out of bounds for axis 0 with size 0"
     ]
    },
    {
     "data": {
      "image/png": "[encoded data removed]",
      "text/plain": [
       "<Figure size 1000x600 with 1 Axes>"
      ]
     },
     "metadata": {},
     "output_type": "display_data"
    }
   ],
   "source": [
    "import pandas as pd\n",
    "import matplotlib.pyplot as plt\n",
    "\n",
    "# Assuming you've loaded your df_all from somewhere\n",
    "\n",
    "# Compute the counts\n",
    "idt_genre_counts = dis.head(40)\n",
    "\n",
    "# Plot the counts\n",
    "plt.figure(figsize=(10,6))\n",
    "idt_genre_counts.plot(kind='bar', color='skyblue')\n",
    "\n",
    "plt.xlabel('Genres')\n",
    "plt.ylabel('Count')\n",
    "plt.title('Distribution of idt_genre')\n",
    "plt.tight_layout()\n",
    "plt.show()\n"
   ]
  },
  {
   "cell_type": "code",
   "execution_count": null,
   "id": "2c93abb9",
   "metadata": {},
   "outputs": [],
   "source": [
    "# year"
   ]
  },
  {
   "cell_type": "code",
   "execution_count": null,
   "id": "cbcaf3cd",
   "metadata": {},
   "outputs": [],
   "source": []
  },
  {
   "cell_type": "code",
   "execution_count": null,
   "id": "064e2238",
   "metadata": {},
   "outputs": [],
   "source": [
    "# END - follow by "
   ]
  }
 ],
 "metadata": {
  "kernelspec": {
   "display_name": "Python 3 (ipykernel)",
   "language": "python",
   "name": "python3"
  },
  "language_info": {
   "codemirror_mode": {
    "name": "ipython",
    "version": 3
   },
   "file_extension": ".py",
   "mimetype": "text/x-python",
   "name": "python",
   "nbconvert_exporter": "python",
   "pygments_lexer": "ipython3",
   "version": "3.8.18"
  }
 },
 "nbformat": 4,
 "nbformat_minor": 5
}
