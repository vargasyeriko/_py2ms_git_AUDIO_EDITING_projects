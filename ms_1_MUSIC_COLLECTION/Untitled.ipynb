{
 "cells": [
  {
   "cell_type": "code",
   "execution_count": 1,
   "id": "8d9dd3ba",
   "metadata": {},
   "outputs": [
    {
     "name": "stdout",
     "output_type": "stream",
     "text": [
      "New rows have been added.\n",
      "New rows:\n",
      "   A  B\n",
      "3  4  d\n"
     ]
    }
   ],
   "source": [
    "import pandas as pd\n",
    "\n",
    "# Simulate existing DataFrame (df1) and new DataFrame (df2)\n",
    "df1 = df\n",
    "df2 = df_unique\n",
    "\n",
    "# Function to check if new rows have been added to df2 compared to df1\n",
    "def check_new_rows(df1, df2):\n",
    "    if len(df2) > len(df1):\n",
    "        # Identifying the new rows\n",
    "        new_rows = df2.iloc[len(df1):]\n",
    "        return True, new_rows\n",
    "    else:\n",
    "        return False, None\n",
    "\n",
    "# Check for new rows and get them\n",
    "has_new_rows, new_rows = check_new_rows(df1, df2)\n",
    "\n",
    "if has_new_rows:\n",
    "    print(\"New rows have been added.\")\n",
    "    print(\"New rows:\")\n",
    "    print(new_rows)\n",
    "else:\n",
    "    print(\"No new rows have been added.\")\n"
   ]
  },
  {
   "cell_type": "code",
   "execution_count": 2,
   "id": "f483c679",
   "metadata": {},
   "outputs": [
    {
     "data": {
      "text/html": [
       "<div>\n",
       "<style scoped>\n",
       "    .dataframe tbody tr th:only-of-type {\n",
       "        vertical-align: middle;\n",
       "    }\n",
       "\n",
       "    .dataframe tbody tr th {\n",
       "        vertical-align: top;\n",
       "    }\n",
       "\n",
       "    .dataframe thead th {\n",
       "        text-align: right;\n",
       "    }\n",
       "</style>\n",
       "<table border=\"1\" class=\"dataframe\">\n",
       "  <thead>\n",
       "    <tr style=\"text-align: right;\">\n",
       "      <th></th>\n",
       "      <th>A</th>\n",
       "      <th>B</th>\n",
       "    </tr>\n",
       "  </thead>\n",
       "  <tbody>\n",
       "    <tr>\n",
       "      <th>3</th>\n",
       "      <td>4</td>\n",
       "      <td>d</td>\n",
       "    </tr>\n",
       "  </tbody>\n",
       "</table>\n",
       "</div>"
      ],
      "text/plain": [
       "   A  B\n",
       "3  4  d"
      ]
     },
     "execution_count": 2,
     "metadata": {},
     "output_type": "execute_result"
    }
   ],
   "source": [
    "new_rows-> see loc folders_lowest and take the name to \"folder_name\" of demcus"
   ]
  },
  {
   "cell_type": "code",
   "execution_count": null,
   "id": "67db8d79",
   "metadata": {},
   "outputs": [],
   "source": []
  }
 ],
 "metadata": {
  "kernelspec": {
   "display_name": "Python 3 (ipykernel)",
   "language": "python",
   "name": "python3"
  },
  "language_info": {
   "codemirror_mode": {
    "name": "ipython",
    "version": 3
   },
   "file_extension": ".py",
   "mimetype": "text/x-python",
   "name": "python",
   "nbconvert_exporter": "python",
   "pygments_lexer": "ipython3",
   "version": "3.10.9"
  }
 },
 "nbformat": 4,
 "nbformat_minor": 5
}
