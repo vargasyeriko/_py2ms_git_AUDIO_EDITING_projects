{
 "cells": [
  {
   "cell_type": "code",
   "execution_count": 2,
   "id": "7302f8b8",
   "metadata": {},
   "outputs": [
    {
     "name": "stdout",
     "output_type": "stream",
     "text": [
      "###################################################################################################### - HI\n",
      "######################################################################################################\n",
      "----------------------------------------------------------------------------------------------------->\n",
      "- PY ---------------------------------------------------------------------------- GLOBAL/_1_paths.py >\n",
      "- MOST COMMON :: <desk_path>:<docs_path>:<down_path>::----------------------------------------------->\n",
      "----------------------------------------------------------------------------------------------------->\n",
      "********************************************  > Directory *\n",
      "\t\t\t\t\t\t\t\t\t -*- [ .ipynb_checkpoints ]\n",
      "\n",
      "********************************************  > .ipynb *\n",
      "\t\t\t\t\t\t\t\t\t -*- [ Untitled.ipynb ]\n",
      "\n",
      "********************************************  > .py *\n",
      "\t\t\t\t\t\t\t\t\t -*- [ _2ms_3_check_non_existent_files.py ]\n",
      "exec(open(\"{direc}/_2ms_3_check_non_existent_files.py\", encoding=\"utf-8\").read())\n",
      "\t\t\t\t\t\t\t\t\t -*- [ _2ms_pl_1_read_m3u8.py ]\n",
      "exec(open(\"{direc}/_2ms_pl_1_read_m3u8.py\", encoding=\"utf-8\").read())\n",
      "\t\t\t\t\t\t\t\t\t -*- [ _2ms_pl_2_Get_desired_playlist_table.py ]\n",
      "exec(open(\"{direc}/_2ms_pl_2_Get_desired_playlist_table.py\", encoding=\"utf-8\").read())\n",
      "\t\t\t\t\t\t\t\t\t -*- [ _2ms_pl_4_filtered_playlists_to_m3u8.py ]\n",
      "exec(open(\"{direc}/_2ms_pl_4_filtered_playlists_to_m3u8.py\", encoding=\"utf-8\").read())\n",
      "\n",
      "----------------------------------------------------------------------------------------------------->\n",
      "######################################################################################################\n",
      "######################################################################################################\n",
      "*** ATTN * curr_direc = /Users/yerik/_apple_source/PY/JUPY/py2ms/ms_MUSIC_COLLECTION/playlists *\n",
      "----------------------------------------------------------------------------------------------------->\n",
      "READ temp ::: exec(open(f\"{direc}/_{py_lib}_topic_sub_#_spec_part.py\",encoding=\"utf-8\").read()) \n",
      "WRITE temp ::: %%writefile _2ms_topic_#_spec_part.py                             \n",
      "----------------------------------------------------------------------------------------------------->\n",
      "\n",
      "-1) py RUN ::: \n",
      "\n",
      "%%writefile RUN.py \n",
      "exec(open(f\"{direc}/*latest*.py\", encoding=\"utf-8\").read()\n",
      "\n",
      "-2) py LIB ::: \n",
      "\n",
      "%%writefile /Users/yerik/_apple_source/PY/libs/_2ms/_2ms_*descriptive_program_name*.py \n",
      "direc = \"/Users/yerik/_apple_source/PY/JUPY/py2ms/ms_MUSIC_COLLECTION/playlists\"\n",
      "exec(open(f\"{direc}/RUN.py\", encoding=\"utf-8\").read()# This Program will be added to ALL_LIBS to execute::\n",
      "----------------------------------------------------------------------------------------------------->\n",
      "######################################################################################################\n",
      "###################################################################################################### - BYE\n"
     ]
    }
   ],
   "source": [
    "exec(open(f\"/Users/yerik/_apple_source/PY/GLOBAL/_1_paths.py\",encoding=\"utf-8\").read()) #paths\n",
    "direc= curr_direc"
   ]
  },
  {
   "cell_type": "code",
   "execution_count": null,
   "id": "e66a6c56",
   "metadata": {},
   "outputs": [],
   "source": []
  }
 ],
 "metadata": {
  "kernelspec": {
   "display_name": "Python 3 (ipykernel)",
   "language": "python",
   "name": "python3"
  },
  "language_info": {
   "codemirror_mode": {
    "name": "ipython",
    "version": 3
   },
   "file_extension": ".py",
   "mimetype": "text/x-python",
   "name": "python",
   "nbconvert_exporter": "python",
   "pygments_lexer": "ipython3",
   "version": "3.10.9"
  }
 },
 "nbformat": 4,
 "nbformat_minor": 5
}
