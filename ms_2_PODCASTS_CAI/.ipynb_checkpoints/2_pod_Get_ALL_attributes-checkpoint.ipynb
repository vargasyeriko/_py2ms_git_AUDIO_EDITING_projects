{
 "cells": [
  {
   "cell_type": "code",
   "execution_count": 1,
   "id": "3a55b663-3c43-4e47-b11f-1f8b6f4883b3",
   "metadata": {},
   "outputs": [],
   "source": [
    "# Global \n",
    "\n",
    "\n",
    "# AUDIO MANIPULATION\n",
    "import sounddevice as sd\n",
    "import soundfile as sf\n",
    "\n",
    "# PLAY recording  and Analyze GAIN\n",
    "from _ms_pod_global_functions import wav_play ,wav_analyze_gain\n",
    "# Analyze FREQ distribution\n",
    "from _ms_pod_global_functions import wav_freq_dist_pie_chart, wav_freq_dist_plot,wav_plot_spectrogram\n",
    "\n",
    "# MIXED plots #PLOT amplitud, lufs, spectogram \n",
    "from _ms_pod_global_functions import  wav_plot_3 ,wav_audio_ana_6\n",
    "\n",
    "# COMPARE DIRECTORY  input for wav files IN ONE FOLDER\n",
    "from _ms_pod_global_functions import direc_wav_compare_spct"
   ]
  },
  {
   "cell_type": "code",
   "execution_count": 2,
   "id": "f01b7de5-858c-4529-a916-ddb76b63cee1",
   "metadata": {},
   "outputs": [],
   "source": [
    "# ATTN -> miss fn to get wav 1 channel from any format and client info/tags get info of lenght etc \n",
    "# RAW AUDIO input \n",
    "direc_wav = \"_pod_1_recording\"\n",
    "file_path = f\"{direc_wav}/_0_vr_raw_.wav\"\n",
    "#wav_play(file_path)"
   ]
  },
  {
   "cell_type": "code",
   "execution_count": null,
   "id": "1737a708-3c69-4f83-af17-084178dc6f13",
   "metadata": {},
   "outputs": [],
   "source": [
    "# APPLY ALL FUNCTIONS YOU HAVE TO GET ATTRIBUTES\n",
    "\n",
    "# LUFS\n",
    "# TIME\n",
    "# KEYS\n",
    "# Transcriptions \n",
    "# "
   ]
  },
  {
   "cell_type": "code",
   "execution_count": null,
   "id": "3e337551-4b90-4041-9435-a49c3e2b8026",
   "metadata": {},
   "outputs": [],
   "source": []
  },
  {
   "cell_type": "code",
   "execution_count": null,
   "id": "d1d37e63-fa70-4719-822f-eaf53d1d3c12",
   "metadata": {},
   "outputs": [],
   "source": []
  },
  {
   "cell_type": "code",
   "execution_count": null,
   "id": "5afec90a-4bc6-4d1b-ab9f-88f8c2d2d8a0",
   "metadata": {},
   "outputs": [],
   "source": []
  },
  {
   "cell_type": "code",
   "execution_count": null,
   "id": "ffd95209-4419-4ae1-9460-9aceaaa5457c",
   "metadata": {},
   "outputs": [],
   "source": []
  },
  {
   "cell_type": "code",
   "execution_count": null,
   "id": "a26a4282-55bf-441d-8d65-31b5bb70347b",
   "metadata": {},
   "outputs": [],
   "source": []
  },
  {
   "cell_type": "code",
   "execution_count": null,
   "id": "69f5597d-0bf9-4b18-a020-410ce321e681",
   "metadata": {},
   "outputs": [],
   "source": []
  },
  {
   "cell_type": "code",
   "execution_count": null,
   "id": "df512352-97bf-418c-b1a3-4ba64418b2b2",
   "metadata": {},
   "outputs": [],
   "source": []
  },
  {
   "cell_type": "code",
   "execution_count": null,
   "id": "ba588ca2-d73d-45b4-b593-52ae98d9913f",
   "metadata": {},
   "outputs": [],
   "source": []
  }
 ],
 "metadata": {
  "kernelspec": {
   "display_name": "Python 3 (ipykernel)",
   "language": "python",
   "name": "python3"
  },
  "language_info": {
   "codemirror_mode": {
    "name": "ipython",
    "version": 3
   },
   "file_extension": ".py",
   "mimetype": "text/x-python",
   "name": "python",
   "nbconvert_exporter": "python",
   "pygments_lexer": "ipython3",
   "version": "3.8.18"
  }
 },
 "nbformat": 4,
 "nbformat_minor": 5
}
