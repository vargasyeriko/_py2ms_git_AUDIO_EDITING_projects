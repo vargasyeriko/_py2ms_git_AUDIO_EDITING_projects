{
 "cells": [
  {
   "cell_type": "markdown",
   "id": "fcb7211f",
   "metadata": {},
   "source": [
    "# STEP 1 : RECORD your PODCAST"
   ]
  },
  {
   "cell_type": "code",
   "execution_count": 3,
   "id": "8c938d9a",
   "metadata": {},
   "outputs": [
    {
     "name": "stdout",
     "output_type": "stream",
     "text": [
      "Index: 0, Device Name: DELL U2415\n",
      "Index: 1, Device Name: Yeriko’s iPhone Microphone\n",
      "Index: 2, Device Name: Scarlett 2i2 USB\n",
      "Index: 3, Device Name: MacBook Air Microphone\n",
      "Index: 4, Device Name: MacBook Air Speakers\n",
      "Index: 5, Device Name: rekordbox Aggregate Device\n"
     ]
    }
   ],
   "source": [
    "# FIND DEVICE INDEX FOR RECORDING\n",
    "import sounddevice as sd\n",
    "\n",
    "# Query and print all audio devices\n",
    "devices = sd.query_devices()\n",
    "for idx, device in enumerate(devices):\n",
    "    print(f\"Index: {idx}, Device Name: {device['name']}\")\n",
    "\n",
    "YOUR_FOCUSRITE_DEVICE_INDEX = 2  # Replace with your Focusrite index\n"
   ]
  },
  {
   "cell_type": "markdown",
   "id": "13dad52b",
   "metadata": {},
   "source": [
    "### one channel record"
   ]
  },
  {
   "cell_type": "code",
   "execution_count": 4,
   "id": "1f5eba11",
   "metadata": {},
   "outputs": [],
   "source": [
    "# ------------------------- one channel\n",
    "# import sounddevice as sd\n",
    "# import numpy as np\n",
    "# import wavio\n",
    "\n",
    "# # Parameters\n",
    "# RATE = 44100    # samples per second\n",
    "# CHANNELS = 1    # Changed from 2 to 1\n",
    "# DTYPE = np.int16\n",
    "# FILENAME = \"voice_recording.wav\"\n",
    "# SECONDS = 60*10  # Duration of recording\n",
    "\n",
    "# # Record audio\n",
    "# print(\"Recording...\")\n",
    "# audio_data = sd.rec(int(SECONDS * RATE), samplerate=RATE, channels=CHANNELS, dtype=DTYPE)\n",
    "# sd.wait()  # Wait until recording is finished\n",
    "# print(\"Recording done!\")\n",
    "\n",
    "# # Save as WAV file\n",
    "# wavio.write(FILENAME, audio_data, RATE, sampwidth=2)\n",
    "\n",
    "# # Playback\n",
    "# print(\"Playing back...\")\n",
    "# sd.play(audio_data, RATE)\n",
    "# sd.wait()\n",
    "# print(\"Playback finished!\")\n"
   ]
  },
  {
   "cell_type": "markdown",
   "id": "940ca340",
   "metadata": {},
   "source": [
    "### two channel recording"
   ]
  },
  {
   "cell_type": "code",
   "execution_count": 68,
   "id": "6fb5cba7",
   "metadata": {},
   "outputs": [
    {
     "name": "stdout",
     "output_type": "stream",
     "text": [
      "  0 DELL U2415, Core Audio (0 in, 2 out)\n",
      "  1 Yeriko’s iPhone Microphone, Core Audio (1 in, 0 out)\n",
      "  2 Scarlett 2i2 USB, Core Audio (2 in, 2 out)\n",
      "< 3 External Headphones, Core Audio (0 in, 2 out)\n",
      "> 4 MacBook Air Microphone, Core Audio (1 in, 0 out)\n",
      "  5 MacBook Air Speakers, Core Audio (0 in, 2 out)\n",
      "  6 rekordbox Aggregate Device, Core Audio (0 in, 2 out)\n",
      "Recording...\n",
      "Recording done!\n",
      "Playing back...\n",
      "Playback finished!\n"
     ]
    }
   ],
   "source": [
    "import sounddevice as sd\n",
    "import numpy as np\n",
    "import wavio\n",
    "\n",
    "# List all devices and find your Focusrite index\n",
    "print(sd.query_devices())\n",
    "\n",
    "# Replace this index with your Focusrite device index\n",
    "\n",
    "# Parameters\n",
    "RATE = 44100  # samples per second\n",
    "CHANNELS = 2  # Make sure to use the correct number of channels supported by your device\n",
    "DTYPE = np.int16\n",
    "FILENAME = f\"_pod_1_recording/voice_recording\"  # Ensuring {direc}/name for locations\n",
    "SECONDS = 110  # Duration of recording\n",
    "\n",
    "# Record audio\n",
    "print(\"Recording...\")\n",
    "try:\n",
    "    audio_data = sd.rec(int(SECONDS * RATE), samplerate=RATE, channels=CHANNELS, dtype=DTYPE, device=DEVICE_INDEX)\n",
    "    sd.wait()  # Wait until recording is finished\n",
    "    print(\"Recording done!\")\n",
    "\n",
    "    # Save as WAV file\n",
    "    wavio.write(FILENAME, audio_data, RATE, sampwidth=2)\n",
    "\n",
    "    # Playback\n",
    "    print(\"Playing back...\")\n",
    "    sd.play(audio_data, RATE, device=DEVICE_INDEX)\n",
    "    sd.wait()\n",
    "    print(\"Playback finished!\")\n",
    "except Exception as e:\n",
    "    print(f\"An error occurred: {e}\")\n"
   ]
  },
  {
   "cell_type": "code",
   "execution_count": 9,
   "id": "62d84a38",
   "metadata": {},
   "outputs": [
    {
     "name": "stdout",
     "output_type": "stream",
     "text": [
      "  0 DELL U2415, Core Audio (0 in, 2 out)\n",
      "  1 Yeriko’s iPhone Microphone, Core Audio (1 in, 0 out)\n",
      "  2 Scarlett 2i2 USB, Core Audio (2 in, 2 out)\n",
      "> 3 MacBook Air Microphone, Core Audio (1 in, 0 out)\n",
      "< 4 MacBook Air Speakers, Core Audio (0 in, 2 out)\n",
      "  5 rekordbox Aggregate Device, Core Audio (0 in, 2 out)\n",
      "\n",
      "Recording starts in 5 seconds.\n",
      "\n",
      "Recording starts in 4 seconds.\n",
      "\n",
      "Recording starts in 3 seconds.\n",
      "\n",
      "Recording starts in 2 seconds.\n",
      "\n",
      "Recording starts in 1 seconds.\n",
      "Recording...\n",
      "\n",
      "Progress: [=========] 10/10 seconds\n",
      "Recording done!\n",
      "Playing back...\n",
      "Playback finished!\n"
     ]
    }
   ],
   "source": [
    "import sounddevice as sd\n",
    "import numpy as np\n",
    "import wavio\n",
    "import time\n",
    "import sys  # For the progress bar\n",
    "\n",
    "# List all devices and find your Focusrite index\n",
    "print(sd.query_devices())\n",
    "\n",
    "# Replace this index with your Focusrite device index\n",
    "DEVICE_INDEX = YOUR_FOCUSRITE_DEVICE_INDEX  # Replace this\n",
    "\n",
    "# Parameters\n",
    "RATE = 44100  # samples per second\n",
    "CHANNELS = 2  # Make sure to use the correct number of channels supported by your device\n",
    "DTYPE = np.int16\n",
    "FILENAME = f\"_pod_1_recording/voice_recording.wav\"  # Ensuring {direc}/name for locations\n",
    "SECONDS = 10  # Duration of recording\n",
    "\n",
    "# 5-Second Countdown\n",
    "for i in range(5, 0, -1):\n",
    "    print(f\"\\nRecording starts in {i} seconds.\")\n",
    "    time.sleep(1)\n",
    "\n",
    "# Initialize recording and progress bar\n",
    "print(\"Recording...\\n\")\n",
    "audio_data = sd.rec(int(SECONDS * RATE), samplerate=RATE, channels=CHANNELS, dtype=DTYPE, device=DEVICE_INDEX)\n",
    "\n",
    "# Progress bar for recording duration\n",
    "for i in range(SECONDS):\n",
    "    sys.stdout.write(f\"\\rProgress: [{'=' * i}{' ' * (SECONDS - i - 1)}] {i+1}/{SECONDS} seconds\")\n",
    "    sys.stdout.flush()\n",
    "    time.sleep(1)\n",
    "\n",
    "# Finish recording and progress bar\n",
    "sd.wait()\n",
    "print(\"\\nRecording done!\")\n",
    "\n",
    "# Save as WAV file\n",
    "wavio.write(FILENAME, audio_data, RATE, sampwidth=2)\n",
    "\n",
    "# Playback\n",
    "# print(\"Playing back...\")\n",
    "# sd.play(audio_data, RATE, device=DEVICE_INDEX)\n",
    "# sd.wait()\n",
    "# print(\"Playback finished!\")\n"
   ]
  },
  {
   "cell_type": "code",
   "execution_count": 10,
   "id": "b1226fd3",
   "metadata": {},
   "outputs": [],
   "source": [
    "# # PLAY AUDIO\n",
    "# sd.play(audio_data, RATE, device=DEVICE_INDEX)\n",
    "# sd.wait()"
   ]
  },
  {
   "cell_type": "code",
   "execution_count": 11,
   "id": "05401bd9",
   "metadata": {},
   "outputs": [
    {
     "data": {
      "image/png": "[encoded data removed]",
      "text/plain": [
       "<Figure size 640x480 with 1 Axes>"
      ]
     },
     "metadata": {},
     "output_type": "display_data"
    }
   ],
   "source": [
    "import wavio\n",
    "import matplotlib.pyplot as plt\n",
    "import numpy as np\n",
    "\n",
    "def plot_frequency_from_file(file_path):\n",
    "    # Read WAV file\n",
    "    wav_obj = wavio.read(file_path)\n",
    "    audio_data = wav_obj.data[:, 0]  # Taking one channel\n",
    "    RATE = wav_obj.rate\n",
    "\n",
    "    # Perform FFT and get frequencies and their corresponding power\n",
    "    f, Pxx = np.fft.fftfreq(audio_data.shape[0], 1/RATE), np.abs(np.fft.fft(audio_data))\n",
    "\n",
    "    # Plotting\n",
    "    plt.figure()\n",
    "    plt.semilogy(f[f > 0], Pxx[f > 0])\n",
    "    plt.xlim([f[1], RATE // 2])\n",
    "    plt.ylim([1e-6, 1e-2])\n",
    "    plt.xlabel('Frequency [Hz]')\n",
    "    plt.ylabel('Power/Frequency [dB/Hz]')\n",
    "    plt.show()\n",
    "\n",
    "# Example usage\n",
    "plot_frequency_from_file(\"_pod_1_recording/voice_recording.wav\")\n"
   ]
  },
  {
   "cell_type": "code",
   "execution_count": 24,
   "id": "7df57391",
   "metadata": {},
   "outputs": [],
   "source": [
    "# STEP 2 : AUDIO EDITING - Quality 1a"
   ]
  },
  {
   "cell_type": "code",
   "execution_count": 2,
   "id": "256307b2",
   "metadata": {},
   "outputs": [
    {
     "ename": "PortAudioError",
     "evalue": "Error opening InputStream: Invalid number of channels [PaErrorCode -9998]",
     "output_type": "error",
     "traceback": [
      "\u001b[0;31m---------------------------------------------------------------------------\u001b[0m",
      "\u001b[0;31mPortAudioError\u001b[0m                            Traceback (most recent call last)",
      "Cell \u001b[0;32mIn[2], line 37\u001b[0m\n\u001b[1;32m     34\u001b[0m DEVICE_INDEX \u001b[38;5;241m=\u001b[39m \u001b[38;5;28;01mNone\u001b[39;00m  \u001b[38;5;66;03m# Replace this with your device index if needed\u001b[39;00m\n\u001b[1;32m     36\u001b[0m \u001b[38;5;66;03m# Record and plot\u001b[39;00m\n\u001b[0;32m---> 37\u001b[0m \u001b[43mrecord_and_plot\u001b[49m\u001b[43m(\u001b[49m\u001b[43mSECONDS\u001b[49m\u001b[43m,\u001b[49m\u001b[43m \u001b[49m\u001b[43mRATE\u001b[49m\u001b[43m,\u001b[49m\u001b[43m \u001b[49m\u001b[43mCHANNELS\u001b[49m\u001b[43m,\u001b[49m\u001b[43m \u001b[49m\u001b[43mDTYPE\u001b[49m\u001b[43m,\u001b[49m\u001b[43m \u001b[49m\u001b[43mDEVICE_INDEX\u001b[49m\u001b[43m)\u001b[49m\n",
      "Cell \u001b[0;32mIn[2], line 8\u001b[0m, in \u001b[0;36mrecord_and_plot\u001b[0;34m(SECONDS, RATE, CHANNELS, DTYPE, DEVICE_INDEX)\u001b[0m\n\u001b[1;32m      5\u001b[0m \u001b[38;5;28;01mdef\u001b[39;00m \u001b[38;5;21mrecord_and_plot\u001b[39m(SECONDS, RATE\u001b[38;5;241m=\u001b[39m\u001b[38;5;241m44100\u001b[39m, CHANNELS\u001b[38;5;241m=\u001b[39m\u001b[38;5;241m2\u001b[39m, DTYPE\u001b[38;5;241m=\u001b[39mnp\u001b[38;5;241m.\u001b[39mint16, DEVICE_INDEX\u001b[38;5;241m=\u001b[39m\u001b[38;5;28;01mNone\u001b[39;00m):\n\u001b[1;32m      6\u001b[0m     \u001b[38;5;66;03m# Initialize recording\u001b[39;00m\n\u001b[1;32m      7\u001b[0m     audio_data \u001b[38;5;241m=\u001b[39m np\u001b[38;5;241m.\u001b[39mzeros((SECONDS \u001b[38;5;241m*\u001b[39m RATE, CHANNELS), dtype\u001b[38;5;241m=\u001b[39mDTYPE)\n\u001b[0;32m----> 8\u001b[0m     stream \u001b[38;5;241m=\u001b[39m \u001b[43msd\u001b[49m\u001b[38;5;241;43m.\u001b[39;49m\u001b[43mInputStream\u001b[49m\u001b[43m(\u001b[49m\u001b[43msamplerate\u001b[49m\u001b[38;5;241;43m=\u001b[39;49m\u001b[43mRATE\u001b[49m\u001b[43m,\u001b[49m\u001b[43m \u001b[49m\u001b[43mchannels\u001b[49m\u001b[38;5;241;43m=\u001b[39;49m\u001b[43mCHANNELS\u001b[49m\u001b[43m,\u001b[49m\u001b[43m \u001b[49m\u001b[43mdtype\u001b[49m\u001b[38;5;241;43m=\u001b[39;49m\u001b[43mDTYPE\u001b[49m\u001b[43m,\u001b[49m\u001b[43m \u001b[49m\u001b[43mdevice\u001b[49m\u001b[38;5;241;43m=\u001b[39;49m\u001b[43mDEVICE_INDEX\u001b[49m\u001b[43m)\u001b[49m\n\u001b[1;32m      9\u001b[0m     plt\u001b[38;5;241m.\u001b[39mion()  \u001b[38;5;66;03m# Enable interactive mode\u001b[39;00m\n\u001b[1;32m     10\u001b[0m     fig, ax \u001b[38;5;241m=\u001b[39m plt\u001b[38;5;241m.\u001b[39msubplots()\n",
      "File \u001b[0;32m~/anaconda3/lib/python3.10/site-packages/sounddevice.py:1421\u001b[0m, in \u001b[0;36mInputStream.__init__\u001b[0;34m(self, samplerate, blocksize, device, channels, dtype, latency, extra_settings, callback, finished_callback, clip_off, dither_off, never_drop_input, prime_output_buffers_using_stream_callback)\u001b[0m\n\u001b[1;32m   1391\u001b[0m \u001b[38;5;28;01mdef\u001b[39;00m \u001b[38;5;21m__init__\u001b[39m(\u001b[38;5;28mself\u001b[39m, samplerate\u001b[38;5;241m=\u001b[39m\u001b[38;5;28;01mNone\u001b[39;00m, blocksize\u001b[38;5;241m=\u001b[39m\u001b[38;5;28;01mNone\u001b[39;00m,\n\u001b[1;32m   1392\u001b[0m              device\u001b[38;5;241m=\u001b[39m\u001b[38;5;28;01mNone\u001b[39;00m, channels\u001b[38;5;241m=\u001b[39m\u001b[38;5;28;01mNone\u001b[39;00m, dtype\u001b[38;5;241m=\u001b[39m\u001b[38;5;28;01mNone\u001b[39;00m, latency\u001b[38;5;241m=\u001b[39m\u001b[38;5;28;01mNone\u001b[39;00m,\n\u001b[1;32m   1393\u001b[0m              extra_settings\u001b[38;5;241m=\u001b[39m\u001b[38;5;28;01mNone\u001b[39;00m, callback\u001b[38;5;241m=\u001b[39m\u001b[38;5;28;01mNone\u001b[39;00m, finished_callback\u001b[38;5;241m=\u001b[39m\u001b[38;5;28;01mNone\u001b[39;00m,\n\u001b[1;32m   1394\u001b[0m              clip_off\u001b[38;5;241m=\u001b[39m\u001b[38;5;28;01mNone\u001b[39;00m, dither_off\u001b[38;5;241m=\u001b[39m\u001b[38;5;28;01mNone\u001b[39;00m, never_drop_input\u001b[38;5;241m=\u001b[39m\u001b[38;5;28;01mNone\u001b[39;00m,\n\u001b[1;32m   1395\u001b[0m              prime_output_buffers_using_stream_callback\u001b[38;5;241m=\u001b[39m\u001b[38;5;28;01mNone\u001b[39;00m):\n\u001b[1;32m   1396\u001b[0m \u001b[38;5;250m    \u001b[39m\u001b[38;5;124;03m\"\"\"PortAudio input stream (using NumPy).\u001b[39;00m\n\u001b[1;32m   1397\u001b[0m \n\u001b[1;32m   1398\u001b[0m \u001b[38;5;124;03m    This has the same methods and attributes as `Stream`, except\u001b[39;00m\n\u001b[0;32m   (...)\u001b[0m\n\u001b[1;32m   1419\u001b[0m \n\u001b[1;32m   1420\u001b[0m \u001b[38;5;124;03m    \"\"\"\u001b[39;00m\n\u001b[0;32m-> 1421\u001b[0m     \u001b[43m_StreamBase\u001b[49m\u001b[38;5;241;43m.\u001b[39;49m\u001b[38;5;21;43m__init__\u001b[39;49m\u001b[43m(\u001b[49m\u001b[38;5;28;43mself\u001b[39;49m\u001b[43m,\u001b[49m\u001b[43m \u001b[49m\u001b[43mkind\u001b[49m\u001b[38;5;241;43m=\u001b[39;49m\u001b[38;5;124;43m'\u001b[39;49m\u001b[38;5;124;43minput\u001b[39;49m\u001b[38;5;124;43m'\u001b[39;49m\u001b[43m,\u001b[49m\u001b[43m \u001b[49m\u001b[43mwrap_callback\u001b[49m\u001b[38;5;241;43m=\u001b[39;49m\u001b[38;5;124;43m'\u001b[39;49m\u001b[38;5;124;43marray\u001b[39;49m\u001b[38;5;124;43m'\u001b[39;49m\u001b[43m,\u001b[49m\n\u001b[1;32m   1422\u001b[0m \u001b[43m                         \u001b[49m\u001b[38;5;241;43m*\u001b[39;49m\u001b[38;5;241;43m*\u001b[39;49m\u001b[43m_remove_self\u001b[49m\u001b[43m(\u001b[49m\u001b[38;5;28;43mlocals\u001b[39;49m\u001b[43m(\u001b[49m\u001b[43m)\u001b[49m\u001b[43m)\u001b[49m\u001b[43m)\u001b[49m\n",
      "File \u001b[0;32m~/anaconda3/lib/python3.10/site-packages/sounddevice.py:898\u001b[0m, in \u001b[0;36m_StreamBase.__init__\u001b[0;34m(self, kind, samplerate, blocksize, device, channels, dtype, latency, extra_settings, callback, finished_callback, clip_off, dither_off, never_drop_input, prime_output_buffers_using_stream_callback, userdata, wrap_callback)\u001b[0m\n\u001b[1;32m    896\u001b[0m     userdata \u001b[38;5;241m=\u001b[39m _ffi\u001b[38;5;241m.\u001b[39mNULL\n\u001b[1;32m    897\u001b[0m \u001b[38;5;28mself\u001b[39m\u001b[38;5;241m.\u001b[39m_ptr \u001b[38;5;241m=\u001b[39m _ffi\u001b[38;5;241m.\u001b[39mnew(\u001b[38;5;124m'\u001b[39m\u001b[38;5;124mPaStream**\u001b[39m\u001b[38;5;124m'\u001b[39m)\n\u001b[0;32m--> 898\u001b[0m \u001b[43m_check\u001b[49m\u001b[43m(\u001b[49m\u001b[43m_lib\u001b[49m\u001b[38;5;241;43m.\u001b[39;49m\u001b[43mPa_OpenStream\u001b[49m\u001b[43m(\u001b[49m\u001b[38;5;28;43mself\u001b[39;49m\u001b[38;5;241;43m.\u001b[39;49m\u001b[43m_ptr\u001b[49m\u001b[43m,\u001b[49m\u001b[43m \u001b[49m\u001b[43miparameters\u001b[49m\u001b[43m,\u001b[49m\u001b[43m \u001b[49m\u001b[43moparameters\u001b[49m\u001b[43m,\u001b[49m\n\u001b[1;32m    899\u001b[0m \u001b[43m                          \u001b[49m\u001b[43msamplerate\u001b[49m\u001b[43m,\u001b[49m\u001b[43m \u001b[49m\u001b[43mblocksize\u001b[49m\u001b[43m,\u001b[49m\u001b[43m \u001b[49m\u001b[43mstream_flags\u001b[49m\u001b[43m,\u001b[49m\n\u001b[1;32m    900\u001b[0m \u001b[43m                          \u001b[49m\u001b[43mcallback_ptr\u001b[49m\u001b[43m,\u001b[49m\u001b[43m \u001b[49m\u001b[43muserdata\u001b[49m\u001b[43m)\u001b[49m\u001b[43m,\u001b[49m\n\u001b[1;32m    901\u001b[0m \u001b[43m       \u001b[49m\u001b[38;5;124;43mf\u001b[39;49m\u001b[38;5;124;43m'\u001b[39;49m\u001b[38;5;124;43mError opening \u001b[39;49m\u001b[38;5;132;43;01m{\u001b[39;49;00m\u001b[38;5;28;43mself\u001b[39;49m\u001b[38;5;241;43m.\u001b[39;49m\u001b[38;5;18;43m__class__\u001b[39;49m\u001b[38;5;241;43m.\u001b[39;49m\u001b[38;5;18;43m__name__\u001b[39;49m\u001b[38;5;132;43;01m}\u001b[39;49;00m\u001b[38;5;124;43m'\u001b[39;49m\u001b[43m)\u001b[49m\n\u001b[1;32m    903\u001b[0m \u001b[38;5;66;03m# dereference PaStream** --> PaStream*\u001b[39;00m\n\u001b[1;32m    904\u001b[0m \u001b[38;5;28mself\u001b[39m\u001b[38;5;241m.\u001b[39m_ptr \u001b[38;5;241m=\u001b[39m \u001b[38;5;28mself\u001b[39m\u001b[38;5;241m.\u001b[39m_ptr[\u001b[38;5;241m0\u001b[39m]\n",
      "File \u001b[0;32m~/anaconda3/lib/python3.10/site-packages/sounddevice.py:2747\u001b[0m, in \u001b[0;36m_check\u001b[0;34m(err, msg)\u001b[0m\n\u001b[1;32m   2744\u001b[0m     hosterror_info \u001b[38;5;241m=\u001b[39m host_api, info\u001b[38;5;241m.\u001b[39merrorCode, hosterror_text\n\u001b[1;32m   2745\u001b[0m     \u001b[38;5;28;01mraise\u001b[39;00m PortAudioError(errormsg, err, hosterror_info)\n\u001b[0;32m-> 2747\u001b[0m \u001b[38;5;28;01mraise\u001b[39;00m PortAudioError(errormsg, err)\n",
      "\u001b[0;31mPortAudioError\u001b[0m: Error opening InputStream: Invalid number of channels [PaErrorCode -9998]"
     ]
    }
   ],
   "source": [
    "import sounddevice as sd\n",
    "import numpy as np\n",
    "import matplotlib.pyplot as plt\n",
    "\n",
    "def record_and_plot(SECONDS, RATE=44100, CHANNELS=2, DTYPE=np.int16, DEVICE_INDEX=None):\n",
    "    # Initialize recording\n",
    "    audio_data = np.zeros((SECONDS * RATE, CHANNELS), dtype=DTYPE)\n",
    "    stream = sd.InputStream(samplerate=RATE, channels=CHANNELS, dtype=DTYPE, device=DEVICE_INDEX)\n",
    "    plt.ion()  # Enable interactive mode\n",
    "    fig, ax = plt.subplots()\n",
    "    \n",
    "    with stream:\n",
    "        for i in range(SECONDS):\n",
    "            audio_chunk, overflowed = stream.read(RATE)\n",
    "            audio_data[i * RATE: (i + 1) * RATE] = audio_chunk\n",
    "            \n",
    "            # Calculate and plot the frequency spectrum in real-time\n",
    "            f, Pxx = np.fft.fftfreq(audio_chunk.shape[0], 1/RATE), np.abs(np.fft.fft(audio_chunk[:, 0]))\n",
    "            ax.clear()\n",
    "            ax.semilogy(f[f > 0], Pxx[f > 0])\n",
    "            ax.set_xlim([f[1], RATE // 2])\n",
    "            ax.set_ylim([1e-6, 1e-2])\n",
    "            ax.set_xlabel('Frequency [Hz]')\n",
    "            ax.set_ylabel('Power/Frequency [dB/Hz]')\n",
    "            plt.pause(0.01)\n",
    "            \n",
    "    print(\"Recording done!\")\n",
    "\n",
    "# Parameters\n",
    "SECONDS = 5  # Duration of recording\n",
    "RATE = 44100  # samples per second\n",
    "CHANNELS = 2  # Make sure to use the correct number of channels supported by your device\n",
    "DTYPE = np.int16\n",
    "DEVICE_INDEX = None  # Replace this with your device index if needed\n",
    "\n",
    "# Record and plot\n",
    "record_and_plot(SECONDS, RATE, CHANNELS, DTYPE, DEVICE_INDEX)\n"
   ]
  },
  {
   "cell_type": "code",
   "execution_count": null,
   "id": "7f94d260",
   "metadata": {},
   "outputs": [],
   "source": []
  }
 ],
 "metadata": {
  "kernelspec": {
   "display_name": "Python 3 (ipykernel)",
   "language": "python",
   "name": "python3"
  },
  "language_info": {
   "codemirror_mode": {
    "name": "ipython",
    "version": 3
   },
   "file_extension": ".py",
   "mimetype": "text/x-python",
   "name": "python",
   "nbconvert_exporter": "python",
   "pygments_lexer": "ipython3",
   "version": "3.10.9"
  }
 },
 "nbformat": 4,
 "nbformat_minor": 5
}
