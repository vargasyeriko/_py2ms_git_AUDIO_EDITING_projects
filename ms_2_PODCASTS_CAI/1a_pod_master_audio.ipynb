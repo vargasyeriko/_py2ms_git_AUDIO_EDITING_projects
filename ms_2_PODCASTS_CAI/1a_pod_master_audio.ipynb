{
 "cells": [
  {
   "cell_type": "code",
   "execution_count": null,
   "id": "3b0d2820-46ef-4725-9219-ea337aa1c6ca",
   "metadata": {},
   "outputs": [],
   "source": [
    "# Master BEFORE exporting "
   ]
  },
  {
   "cell_type": "markdown",
   "id": "36466521-6f90-4cc1-95e9-9acb6786a2aa",
   "metadata": {},
   "source": [
    "# EFFECTS"
   ]
  },
  {
   "cell_type": "code",
   "execution_count": 27,
   "id": "34a4939c-7885-4f2d-ad82-b14c70aa3c66",
   "metadata": {},
   "outputs": [],
   "source": [
    "## REVERB\n",
    "\n",
    "## LOAD REVERB FUNCTIONS\n",
    "\n",
    "\n",
    "# AUDIO DATA Transfer DIREC and read any WAV\n",
    "direc_wav = \"_pod_1_recording\"\n",
    "direc_wav_out = f\"{direc_wav}/_edit_phase/\"\n",
    "\n",
    "#file_path = f\"{direc_wav}/_0_vr_raw_.wav\" # RAW\n",
    "file_path = f\"{direc_wav}/_0_EDIT_PHASE.wav\"  # w DEMCUS\n",
    "file_path = f\"{direc_wav}/trial.wav\"  # w TRIAL\n",
    "\n",
    "\n",
    "file_out = f\"{direc_wav}/_edit_phase/_0_vr\"\n",
    "\n",
    "#DEPLOY FN\n",
    "############\n",
    "############\n",
    "edit_type = \"reverb_gral\"\n",
    "#wav_reverb_gral(file_path, f\"{file_out}_{edit_type}.wav\",reverb_strength=0.01)\n",
    "\n",
    "############ REVEBR mid- high\n",
    "edit_type = \"reverb_mid_high\"\n",
    "#wav_reverb_mod_mid_high(file_path, f\"{file_out}_{edit_type}.wav\", reverb_strength=1.9, split_freq=100)\n",
    "\n",
    "############ REVEBR mid- high\n",
    "edit_type = \"reverb_mid_high_mod_2\"\n",
    "wav_reverb_mod_mid_high_mod_2(file_path, f\"{file_out}_{edit_type}.wav\")\n"
   ]
  },
  {
   "cell_type": "code",
   "execution_count": null,
   "id": "590f431b-6f53-4f32-98e6-5802dd6cecb3",
   "metadata": {},
   "outputs": [],
   "source": []
  },
  {
   "cell_type": "code",
   "execution_count": null,
   "id": "85e47e33-5861-470e-99ea-fc328e63bbeb",
   "metadata": {},
   "outputs": [],
   "source": []
  },
  {
   "cell_type": "code",
   "execution_count": 7,
   "id": "bfabf56a-ccfe-4920-b63c-2aca834d96e6",
   "metadata": {},
   "outputs": [],
   "source": [
    "# FN"
   ]
  },
  {
   "cell_type": "code",
   "execution_count": 7,
   "id": "b00004d7-be7a-418c-a396-431ff08684a9",
   "metadata": {},
   "outputs": [],
   "source": [
    "import librosa\n",
    "import soundfile as sf\n",
    "import numpy as np\n",
    "\n",
    "def wav_reverb_gral(filename, output_filename, reverb_strength=0.3):\n",
    "    # Load the audio file\n",
    "    audio, sr = librosa.load(filename, sr=None, mono=True)\n",
    "\n",
    "    # Create a reverb kernel (this is a simplified example of a reverb effect)\n",
    "    kernel_size = int(sr * 0.3)  # 0.3 seconds kernel\n",
    "    kernel = np.zeros(kernel_size)\n",
    "    decay = reverb_strength / kernel_size\n",
    "    for i in range(kernel_size):\n",
    "        kernel[i] = decay * (kernel_size - i)\n",
    "\n",
    "    # Apply the reverb kernel\n",
    "    reverbed_audio = np.convolve(audio, kernel, mode='full')\n",
    "\n",
    "    # Trim or pad the audio to match original length\n",
    "    target_length = len(audio)\n",
    "    reverbed_audio = librosa.util.fix_length(reverbed_audio,size=len(audio))\n",
    "\n",
    "    # Normalize the audio to the peak amplitude of 0.95\n",
    "    max_amp = np.max(np.abs(reverbed_audio))\n",
    "    if max_amp > 0:\n",
    "        reverbed_audio = reverbed_audio / max_amp * 0.95\n",
    "\n",
    "    # Save the processed audio\n",
    "    sf.write(output_filename, reverbed_audio, sr)"
   ]
  },
  {
   "cell_type": "code",
   "execution_count": 18,
   "id": "f5255767-7925-4ac3-88f0-2f62fb0c9088",
   "metadata": {},
   "outputs": [],
   "source": [
    "import librosa\n",
    "import soundfile as sf\n",
    "import numpy as np\n",
    "\n",
    "def wav_reverb_mod_mid_high(filename, output_filename, reverb_strength=0.3, split_freq=500):\n",
    "    # Load the audio file\n",
    "    audio, sr = librosa.load(filename, sr=None, mono=True)\n",
    "\n",
    "    # Apply a high-pass filter to isolate mid-high frequencies\n",
    "    mid_high_audio = librosa.effects.preemphasis(audio, coef=0.97, zi=[split_freq / sr])\n",
    "\n",
    "    # Create a reverb kernel for the mid-high frequencies\n",
    "    kernel_size = int(sr * 0.3)  # 0.3 seconds kernel\n",
    "    kernel = np.zeros(kernel_size)\n",
    "    decay = reverb_strength / kernel_size\n",
    "    for i in range(kernel_size):\n",
    "        kernel[i] = decay * (kernel_size - i)\n",
    "\n",
    "    # Apply the reverb kernel\n",
    "    reverbed_mid_high = np.convolve(mid_high_audio, kernel, mode='full')\n",
    "    reverbed_mid_high = librosa.util.fix_length(reverbed_mid_high, size=len(audio))\n",
    "\n",
    "    # Apply a low-pass filter to isolate low frequencies\n",
    "    low_pass_filter = np.ones(len(audio)) - librosa.effects.preemphasis(audio, coef=0.97, zi=[split_freq / sr])\n",
    "\n",
    "    # Combine the low frequencies with the reverbed mid-high frequencies\n",
    "    combined_audio = (low_pass_filter * audio) + reverbed_mid_high\n",
    "\n",
    "    # Normalize the combined audio to the peak amplitude of 0.95\n",
    "    max_amp = np.max(np.abs(combined_audio))\n",
    "    if max_amp > 0:\n",
    "        combined_audio = combined_audio / max_amp * 0.95\n",
    "\n",
    "    # Save the processed audio\n",
    "    sf.write(output_filename, combined_audio, sr)\n",
    "\n",
    "# Example usage\n"
   ]
  },
  {
   "cell_type": "code",
   "execution_count": 26,
   "id": "6e3e9139-61e7-4da0-83ed-57ff6a4007bd",
   "metadata": {},
   "outputs": [],
   "source": [
    "from pydub import AudioSegment, effects\n",
    "\n",
    "def wav_reverb_mod_mid_high_mod_2(filename, output_filename):\n",
    "    # Load the audio file\n",
    "    audio = AudioSegment.from_file(filename)\n",
    "\n",
    "    # Split the audio into frequency bands\n",
    "    low_freq_band = audio.low_pass_filter(50)  # Adjust the frequency as needed\n",
    "    mid_high_freq_band = audio.high_pass_filter(400)\n",
    "\n",
    "    # Apply a complex reverb to the mid-high frequencies\n",
    "    # This is a simplified example. You may need to use a dedicated DSP library or\n",
    "    # DAW plugin for more sophisticated reverb effects.\n",
    "    reverbed_mid_high = mid_high_freq_band.overlay(mid_high_freq_band, gain_during_overlay=-15)\n",
    "\n",
    "    # Combine the processed and unprocessed bands\n",
    "    combined_audio = low_freq_band.overlay(reverbed_mid_high)\n",
    "\n",
    "    # Normalize the combined audio\n",
    "    normalized_audio = effects.normalize(combined_audio, headroom=-0.7)  # adjust headroom as needed\n",
    "\n",
    "    # Export the processed audio\n",
    "    normalized_audio.export(output_filename, format='wav')\n",
    "\n",
    "# Example usage\n"
   ]
  },
  {
   "cell_type": "code",
   "execution_count": null,
   "id": "71ce8c1b-5865-4a6a-8314-9518aea07c8b",
   "metadata": {},
   "outputs": [],
   "source": []
  },
  {
   "cell_type": "code",
   "execution_count": null,
   "id": "df7b4a5e-62cc-48d8-8fb2-9aed5cb49eee",
   "metadata": {},
   "outputs": [],
   "source": []
  }
 ],
 "metadata": {
  "kernelspec": {
   "display_name": "Python 3 (ipykernel)",
   "language": "python",
   "name": "python3"
  },
  "language_info": {
   "codemirror_mode": {
    "name": "ipython",
    "version": 3
   },
   "file_extension": ".py",
   "mimetype": "text/x-python",
   "name": "python",
   "nbconvert_exporter": "python",
   "pygments_lexer": "ipython3",
   "version": "3.8.18"
  }
 },
 "nbformat": 4,
 "nbformat_minor": 5
}
