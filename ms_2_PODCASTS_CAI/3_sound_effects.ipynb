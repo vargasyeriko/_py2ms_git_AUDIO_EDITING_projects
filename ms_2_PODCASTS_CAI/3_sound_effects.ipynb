{
 "cells": [
  {
   "cell_type": "code",
   "execution_count": 1,
   "id": "e3ce84fb-7230-4033-838b-c06c0c48adc2",
   "metadata": {},
   "outputs": [],
   "source": [
    "# Global \n",
    "\n",
    "\n",
    "# AUDIO MANIPULATION\n",
    "import sounddevice as sd\n",
    "import soundfile as sf\n",
    "\n",
    "# PLAY recording  and Analyze GAIN\n",
    "from _ms_pod_global_functions import wav_play ,wav_analyze_gain\n",
    "# Analyze FREQ distribution\n",
    "from _ms_pod_global_functions import wav_freq_dist_pie_chart, wav_freq_dist_plot,wav_plot_spectrogram\n",
    "\n",
    "# MIXED plots #PLOT amplitud, lufs, spectogram \n",
    "from _ms_pod_global_functions import  wav_plot_3 ,wav_audio_ana_6\n",
    "\n",
    "# COMPARE DIRECTORY  input for wav files IN ONE FOLDER\n",
    "from _ms_pod_global_functions import direc_wav_compare_spct"
   ]
  },
  {
   "cell_type": "code",
   "execution_count": null,
   "id": "f0f2b4aa-f904-4cde-81b5-46bdf52f6700",
   "metadata": {},
   "outputs": [],
   "source": [
    "# after finding the right Intro/Outro/background_music "
   ]
  },
  {
   "cell_type": "code",
   "execution_count": null,
   "id": "a06b492c-f846-49ab-99e5-0ae9f403fc2d",
   "metadata": {},
   "outputs": [],
   "source": [
    "# Gentle Normalization of those 3 \n"
   ]
  },
  {
   "cell_type": "code",
   "execution_count": null,
   "id": "f4075d42-18c6-4753-8815-2f81b1c0f66d",
   "metadata": {},
   "outputs": [],
   "source": [
    "# # along them \n",
    "# from pydub import AudioSegment\n",
    "\n",
    "# # Load WAV files\n",
    "# wav1 = AudioSegment.from_file(\"path_to_first_file.wav\")\n",
    "# wav2 = AudioSegment.from_file(\"path_to_second_file.wav\")\n",
    "\n",
    "# # Ensure same length\n",
    "# if len(wav1) > len(wav2):\n",
    "#     wav2 = wav2 * (len(wav1) // len(wav2) + 1)\n",
    "# elif len(wav2) > len(wav1):\n",
    "#     wav1 = wav1 * (len(wav2) // len(wav1) + 1)\n",
    "\n",
    "# # Trim to the shortest\n",
    "# wav1 = wav1[:min(len(wav1), len(wav2))]\n",
    "# wav2 = wav2[:min(len(wav1), len(wav2))]\n",
    "\n",
    "# # Combine WAV files into one channel (mono)\n",
    "# combined_wav = wav1.overlay(wav2)\n",
    "\n",
    "# # Export the combined file\n",
    "# combined_wav.export(\"combined_file.wav\", format=\"wav\")\n"
   ]
  }
 ],
 "metadata": {
  "kernelspec": {
   "display_name": "Python 3 (ipykernel)",
   "language": "python",
   "name": "python3"
  },
  "language_info": {
   "codemirror_mode": {
    "name": "ipython",
    "version": 3
   },
   "file_extension": ".py",
   "mimetype": "text/x-python",
   "name": "python",
   "nbconvert_exporter": "python",
   "pygments_lexer": "ipython3",
   "version": "3.8.18"
  }
 },
 "nbformat": 4,
 "nbformat_minor": 5
}
