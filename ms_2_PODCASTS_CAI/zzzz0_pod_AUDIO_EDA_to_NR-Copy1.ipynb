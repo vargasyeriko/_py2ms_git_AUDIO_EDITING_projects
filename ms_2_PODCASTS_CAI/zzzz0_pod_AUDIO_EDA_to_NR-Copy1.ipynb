{
 "cells": [
  {
   "cell_type": "markdown",
   "id": "6360b6f5-e3a8-440b-9f35-3c26360ffb1c",
   "metadata": {},
   "source": [
    "# PODCAST ANALYSIS - 0 EDA -- 1 VOL & -- 2 FREQ\n",
    "# 3 # PODCAST EDITING  - (a) HP (b) NR (c) NG"
   ]
  },
  {
   "cell_type": "code",
   "execution_count": 1,
   "id": "55b7c882-5789-4cf1-8ab3-a892d9d0bbef",
   "metadata": {},
   "outputs": [],
   "source": [
    "# Global \n",
    "\n",
    "# PLAY recording  and Analyze GAIN\n",
    "from _ms_pod_global_functions import wav_play ,wav_analyze_gain\n",
    "# Analyze FREQ distribution\n",
    "from _ms_pod_global_functions import wav_freq_dist_pie_chart, wav_freq_dist_plot,wav_plot_spectrogram\n",
    "\n",
    "# MIXED plots #PLOT amplitud, lufs, spectogram \n",
    "from _ms_pod_global_functions import  wav_plot_3 ,wav_audio_ana_6\n",
    "\n",
    "# COMPARE DIRECTORY  input for wav files IN ONE FOLDER\n",
    "from _ms_pod_global_functions import direc_wav_compare_spct"
   ]
  },
  {
   "cell_type": "code",
   "execution_count": null,
   "id": "4a3777ee-6ff4-4244-8f66-70f6398679b0",
   "metadata": {},
   "outputs": [],
   "source": []
  },
  {
   "cell_type": "markdown",
   "id": "d6a786da-6c50-46aa-901d-ad6b74187168",
   "metadata": {},
   "source": [
    "### <<< 0 >>> Audio MANIPULATION"
   ]
  },
  {
   "cell_type": "code",
   "execution_count": 2,
   "id": "2db12e73-2aa4-400b-9f19-5eefce07e9c9",
   "metadata": {},
   "outputs": [
    {
     "data": {
      "text/plain": [
       "  0 DELL U2415, Core Audio (0 in, 2 out)\n",
       "  1 Yeriko’s iPhone Microphone, Core Audio (1 in, 0 out)\n",
       "< 2 Scarlett 2i2 USB, Core Audio (2 in, 2 out)\n",
       "> 3 MacBook Air Microphone, Core Audio (1 in, 0 out)\n",
       "  4 MacBook Air Speakers, Core Audio (0 in, 2 out)\n",
       "  5 rekordbox Aggregate Device, Core Audio (0 in, 2 out)"
      ]
     },
     "execution_count": 2,
     "metadata": {},
     "output_type": "execute_result"
    }
   ],
   "source": [
    "# AUDIO MANIPULATION\n",
    "import sounddevice as sd\n",
    "import soundfile as sf\n",
    "\n",
    "# Query and print all audio devices\n",
    "sd.query_devices()\n",
    "\n",
    "# # PLAY AUDIO without being saved\n",
    "# sd.play(audio_data, RATE, device=2 )\n",
    "# sd.wait()"
   ]
  },
  {
   "cell_type": "code",
   "execution_count": 3,
   "id": "ff162001-166e-48e1-ac88-5d05c3aafb81",
   "metadata": {},
   "outputs": [],
   "source": [
    "# ATTN -> miss fn to get wav 1 channel from any format and client info/tags\n",
    "# get info of lenght etc \n",
    "\n",
    "\n",
    "# RAW AUDIO input \n",
    "direc_wav = \"_pod_1_recording\"\n",
    "file_path = f\"{direc_wav}/_0_vr_raw_.wav\"\n",
    "#wav_play(file_path)"
   ]
  },
  {
   "cell_type": "markdown",
   "id": "b3bf6189-d820-4d3f-a49a-34c1a6f021e5",
   "metadata": {},
   "source": [
    "###  <<< 1 >>> VOLUME ANALYSIS:"
   ]
  },
  {
   "cell_type": "code",
   "execution_count": 4,
   "id": "d0db453a-d940-4e11-97b0-182721d53a1f",
   "metadata": {},
   "outputs": [],
   "source": [
    "#wav_analyze_gain(file_path) # CHECK AMPLITUDE FOR GAIN PURPOSES - ### low GAIN  ### CLIPPING WARNING"
   ]
  },
  {
   "cell_type": "markdown",
   "id": "ea6ca9f6-dd88-4850-80f7-b514c918cb7f",
   "metadata": {},
   "source": [
    "###  <<< 2 >>>  FREQUENCY ANALYSIS:\n",
    "\n",
    "##### 0 to 50 Hz: Purpose: This very low-end range provides the rumble and sub-bass content. --->  < 5% \n",
    "##### 50 to 400 Hz: freq of male voices mostly reside here, giving the voice body/fullness.  --->  ~ 40%\n",
    "##### 400 to 4000 Hz: freq w harmonic content, presence/clarity. vital for intelligibility.  --->  ~ 55%"
   ]
  },
  {
   "cell_type": "code",
   "execution_count": 5,
   "id": "ca8ce0cc-4c44-4426-8840-c42d7de979d1",
   "metadata": {},
   "outputs": [],
   "source": [
    "#wav_freq_dist_pie_chart(file_path) # CHECK FREQ DISTRIUTION\n",
    "#wav_freq_dist_plot(file_path) # check freq distributions PLOTS\n",
    "#wav_plot_spectrogram(file_path)\n",
    "\n",
    "# FURTHER ANALYSIS\n",
    "\n",
    "#wav_plot_3(file_path)\n",
    "#wav_audio_ana_6(file_path)\n",
    "\n",
    "# AFTER MODIFyING COMPARE FOLDER\n",
    "#direc_wav_compare_spct(direc_wav)"
   ]
  },
  {
   "cell_type": "markdown",
   "id": "6a5247d9-dd51-408d-9609-293d19ad4bd6",
   "metadata": {},
   "source": [
    "# <<< 3 >>> AUDIO EDITING"
   ]
  },
  {
   "cell_type": "code",
   "execution_count": 6,
   "id": "c0f2777d-77db-4e44-b2ba-96baef920d9b",
   "metadata": {},
   "outputs": [],
   "source": [
    "# HP functions\n",
    "from _ms_pod_editing_functions import wav_hp_mod_1\n",
    "# NR functions\n",
    "from _ms_pod_editing_functions import wav_nr_mod_1 ,wav_nr_mod_2\n",
    "# NOISE GATE\n",
    "from _ms_pod_editing_functions import wav_ng_mod_1 ,wav_ng_mod_2_pad\n",
    "\n",
    "\n",
    "#from _ms_pod_editing_functions import "
   ]
  },
  {
   "cell_type": "markdown",
   "id": "670260e9-0de5-43a2-b174-76281877bc00",
   "metadata": {},
   "source": [
    "### ::: 3a ::: High Pass"
   ]
  },
  {
   "cell_type": "code",
   "execution_count": 7,
   "id": "d0d15d66-fb8a-41c4-af35-6642049929e6",
   "metadata": {},
   "outputs": [
    {
     "data": {
      "image/png": "[encoded data removed]",
      "text/plain": [
       "<Figure size 640x480 with 1 Axes>"
      ]
     },
     "metadata": {},
     "output_type": "display_data"
    }
   ],
   "source": [
    "# Usage example\n",
    "y_hpf, sr = wav_hp_mod_1(file_path, cutoff_frequency=50, order=6)\n",
    "\n",
    "# Save the high-pass filtered audio\n",
    "out_file_path_hp_m1 = f\"{direc_wav}/_1_vr_raw_iii_HP50_OR6\"\n",
    "# Write\n",
    "sf.write(f'{out_file_path_hp_m1}.wav', y_hpf, sr)"
   ]
  },
  {
   "cell_type": "markdown",
   "id": "5ef617be-665c-4aff-87a2-60a945c0966f",
   "metadata": {},
   "source": [
    "### ::: 3b ::: Noise Reduction (NR) mod_1"
   ]
  },
  {
   "cell_type": "code",
   "execution_count": 8,
   "id": "23bc5494-d143-4c49-9b27-fd7107a5f36a",
   "metadata": {},
   "outputs": [],
   "source": [
    "# Usage\n",
    "# Adjust 'audio_path', 'noise_reduction_level', and 'sensitivity' as needed\n",
    "noise_reduced_output_1 = wav_nr_mod_1(f'{out_file_path_hp_m1}.wav', 0.9, 0.9)\n",
    "\n",
    "# Save the high-pass filtered audio\n",
    "out_file_path_nr_m1 = f\"{direc_wav}/_2_vr_HP50_OR6_iii_NRdot9_SENdot9\"\n",
    "# Write\n",
    "sf.write(f'{out_file_path_nr_m1}.wav', noise_reduced_output_1, sr)\n",
    "# Write to a file\n"
   ]
  },
  {
   "cell_type": "markdown",
   "id": "55983c0d-110a-4b51-b671-94e61e8c17ae",
   "metadata": {},
   "source": [
    "##### Noise Reduction (NR) mod_2"
   ]
  },
  {
   "cell_type": "code",
   "execution_count": 9,
   "id": "11c3f2fb-7e51-4420-9ed8-716d1f2405e1",
   "metadata": {},
   "outputs": [],
   "source": [
    "# Adjust 'audio_file_path', 'noise_reduction_factor', 'frame_length', and hop_length' as needed\n",
    "noise_reduced_output_2, sample_rate = wav_nr_mod_2(f'{out_file_path_nr_m1}.wav', 9.8)\n",
    "\n",
    "\n",
    "# Save the high-pass filtered audio\n",
    "out_file_path_nr_m2 = f\"{direc_wav}/_2b_vr_NRdot9_SENdot9_iii_NR_9dot8\"\n",
    "# Write\n",
    "sf.write(f'{out_file_path_nr_m2}.wav', noise_reduced_output_2, sample_rate)\n",
    "# Write to a file\n"
   ]
  },
  {
   "cell_type": "markdown",
   "id": "2aa7371d-d4ae-48cd-a531-37ba6d3208b5",
   "metadata": {},
   "source": [
    "### ::: 3c ::: NOISE GATE - NOT PADDiNG - for low volumes (-80,-60) -- mod_1"
   ]
  },
  {
   "cell_type": "code",
   "execution_count": 10,
   "id": "3a8abefb-e42b-4c64-a7f8-507207abe091",
   "metadata": {},
   "outputs": [],
   "source": [
    "#So, 0.01 seconds is equivalent to 10 milliseconds. , attack ~ .01 , release~ .3 (300)\n",
    "\n",
    "input_file = f'{out_file_path_nr_m2}.wav'\n",
    "\n",
    "out_file_path_ng_m1 = f\"{direc_wav}/_3_vr_NR_9dot8_iii_NG-70_Adot01_Rdot05\"\n",
    "\n",
    "# SAVE and EXPORT inside the fn \n",
    "wav_ng_mod_1(input_file, f'{out_file_path_ng_m1}.wav', gate_threshold=-70.0, attack=0.01, release=.05)"
   ]
  },
  {
   "cell_type": "markdown",
   "id": "c2a819f5-a144-4106-9182-1da13862b6d5",
   "metadata": {},
   "source": [
    "##### Noise Gate (NG)  with PADDING - for low volumes (-50,-30) -- mod_2"
   ]
  },
  {
   "cell_type": "code",
   "execution_count": null,
   "id": "f5cc7ac0-2ebc-49b6-9f03-8ac9278e4f24",
   "metadata": {},
   "outputs": [],
   "source": [
    "##So, 0.01 seconds is equivalent to 10 milliseconds. , attack ~ .1(100) , release~ .1 (100)\n",
    "\n",
    "input_file = f'{out_file_path_ng_m1}.wav'\n",
    "\n",
    "out_file_path_ng_m2_pad = f\"{direc_wav}/_3b_vr_NG-70_Adot01_Rdot05_iii_NG-50_Adot5_Rdot1_pad\"\n",
    "\n",
    "wav_ng_mod_2_pad(input_file, f'{out_file_path_ng_m2_pad}.wav', gate_threshold=-50.0, attack=0.5, release=.1)\n"
   ]
  },
  {
   "cell_type": "code",
   "execution_count": null,
   "id": "8c6b9c56-15da-47b7-8ecc-842627b1cefd",
   "metadata": {},
   "outputs": [],
   "source": []
  },
  {
   "cell_type": "markdown",
   "id": "23373503",
   "metadata": {},
   "source": [
    "# 1 HP good modified"
   ]
  },
  {
   "cell_type": "code",
   "execution_count": 10,
   "id": "da59350c-0762-4386-afdf-91babf3e1777",
   "metadata": {},
   "outputs": [
    {
     "name": "stdout",
     "output_type": "stream",
     "text": [
      "Overwriting _ms_pod_editing_functions.py\n"
     ]
    }
   ],
   "source": [
    "%%writefile _ms_pod_editing_functions.py\n",
    "\n",
    "#--------------------------------------------------------------- 3a HP_mod_1\n",
    "from scipy.signal import freqz, butter, lfilter\n",
    "import matplotlib.pyplot as plt\n",
    "import numpy as np\n",
    "import librosa\n",
    "import soundfile as sf\n",
    "\n",
    "def wav_hp_mod_1(audio_file_path, cutoff_frequency, order=6):\n",
    "    # Load the audio file\n",
    "    y, sr = librosa.load(audio_file_path, sr=None)\n",
    "\n",
    "    # Apply the high-pass filter using a butterworth filter of higher order\n",
    "    b, a = butter(order, cutoff_frequency / (0.5 * sr), btype='high')\n",
    "    y_hpf = lfilter(b, a, y)\n",
    "\n",
    "    # Frequency response\n",
    "    w, h = freqz(b, a, fs=sr)\n",
    "    plt.plot(0.5 * sr * w / np.pi, np.abs(h), 'b')\n",
    "    plt.axvline(cutoff_frequency, color='r')\n",
    "    plt.xlim(0, 0.5 * sr)\n",
    "    plt.title(\"High-pass filter frequency response (cutoff = %d Hz)\" % cutoff_frequency)\n",
    "    plt.xlabel('Frequency [Hz]')\n",
    "    plt.ylabel('Gain')\n",
    "    plt.grid()\n",
    "    plt.show()\n",
    "\n",
    "    return y_hpf, sr\n",
    "\n",
    "\n",
    "\n",
    "\n",
    "#--------------------------------------------------------------- 3b NR_mod_1\n",
    "# NOISE REDUCTION\n",
    "\n",
    "import librosa\n",
    "import numpy as np\n",
    "import scipy.signal\n",
    "\n",
    "def wav_nr_mod_1(audio_file, noise_reduction_level=0.3, sensitivity=0.5):\n",
    "    \"\"\"\n",
    "    Performs noise reduction on an audio file.\n",
    "    \n",
    "    :param audio_file: path to the audio file\n",
    "    :param noise_reduction_level: float, the level of noise reduction (0-1)\n",
    "    :param sensitivity: float, sensitivity of the noise reduction (0-1)\n",
    "    :return: noise reduced audio array\n",
    "    \"\"\"\n",
    "\n",
    "    # Load the audio file\n",
    "    audio, sr = librosa.load(audio_file, sr=None)\n",
    "\n",
    "    # Estimating noise\n",
    "    noise_portion = audio[:int(0.5 * sr)]  # First half-second for noise profile\n",
    "    noise_energy = np.mean(np.abs(noise_portion))\n",
    "\n",
    "    # Applying noise gate threshold\n",
    "    threshold = noise_energy * sensitivity\n",
    "\n",
    "    # Noise reduction process\n",
    "    noise_reduced_audio = []\n",
    "    for sample in audio:\n",
    "        if np.abs(sample) < threshold:\n",
    "            noise_reduced_audio.append(sample * noise_reduction_level)\n",
    "        else:\n",
    "            noise_reduced_audio.append(sample)\n",
    "\n",
    "    # Convert to numpy array\n",
    "    noise_reduced_audio = np.array(noise_reduced_audio)\n",
    "\n",
    "    return noise_reduced_audio\n",
    "\n",
    "#------------------------------------------------------ 3b NR_mod_2\n",
    "import librosa\n",
    "import numpy as np\n",
    "def wav_nr_mod_2(audio_file, noise_reduction_factor=0.3,frame_length=2048, hop_length=512):\n",
    "    \"\"\"\n",
    "    Performs advanced noise reduction using spectral gating.\n",
    "    :param audio_file: path to the audio file\n",
    "    :param noise_reduction_factor: float, the factor by which noise is reduced :param frame_length: int, the length of each frame for STFT\n",
    "    :param hop_length: int, the number of samples to shift for each frame in␣STFT\n",
    "    :return: noise reduced audio array \"\"\"\n",
    "    # Load the audio file\n",
    "    y, sr = librosa.load(audio_file, sr=None) # Short-time Fourier transform (STFT)\n",
    "    stft_matrix = librosa.stft(y, n_fft=frame_length, hop_length=hop_length) # Compute the magnitude of the STFT\n",
    "    stft_matrix_magnitude, stft_matrix_phase = librosa.magphase(stft_matrix)\n",
    "    # Estimate the noise\n",
    "    noise_profile = np.mean(stft_matrix_magnitude[:, :10], axis=1)\n",
    "    noise_profile = noise_profile * noise_reduction_factor\n",
    "    # Spectral gating\n",
    "    noise_reduced_stft_magnitude = np.subtract(stft_matrix_magnitude,noise_profile[:, np.newaxis])\n",
    "    noise_reduced_stft_magnitude = np.maximum(noise_reduced_stft_magnitude, np.zeros_like(noise_reduced_stft_magnitude))\n",
    "    # Inverse STFT\n",
    "    y_reduced_noise = librosa.istft(noise_reduced_stft_magnitude *stft_matrix_phase, hop_length=hop_length)\n",
    "    return y_reduced_noise, sr\n",
    "    # Usage\n",
    "\n",
    "#-------------------- 3c NOISE GATE mod_1\n",
    "\n",
    "import librosa\n",
    "import numpy as np\n",
    "import soundfile as sf\n",
    "\n",
    "def wav_ng_mod_1(input_file_path, output_file_path, gate_threshold=-40.0, attack=0.01, release=0.1):\n",
    "    \"\"\"\n",
    "    Applies a noise gate to the audio file and saves the output.\n",
    "\n",
    "    :param input_file_path: path to the input audio file\n",
    "    :param output_file_path: path to save the output audio file\n",
    "    :param gate_threshold: dB threshold for noise gate\n",
    "    :param attack: attack time in seconds\n",
    "    :param release: release time in seconds\n",
    "    :return: None\n",
    "    \"\"\"\n",
    "    \n",
    "    def noise_gate(audio, sr):\n",
    "        \"\"\"\n",
    "        Apply a noise gate to the audio signal.\n",
    "        \"\"\"\n",
    "        # Convert threshold from dB to amplitude\n",
    "        threshold_amplitude = 10**(gate_threshold / 20)\n",
    "\n",
    "        # Prepare attack and release coefficients\n",
    "        attack_coeff = np.exp(-1/(sr * attack))\n",
    "        release_coeff = np.exp(-1/(sr * release))\n",
    "\n",
    "        # Envelope detection and gating\n",
    "        envelope = 0\n",
    "        gated_audio = np.zeros_like(audio)\n",
    "        for i, sample in enumerate(audio):\n",
    "            envelope = max(abs(sample), envelope * attack_coeff if abs(sample) < envelope else envelope * release_coeff)\n",
    "            gated_audio[i] = sample if envelope > threshold_amplitude else 0\n",
    "\n",
    "        return gated_audio\n",
    "\n",
    "    # Load the audio file\n",
    "    audio, sr = librosa.load(input_file_path, sr=None)\n",
    "\n",
    "    # Apply noise gate\n",
    "    audio_gated = noise_gate(audio, sr)\n",
    "\n",
    "    # Save the gated audio\n",
    "    sf.write(output_file_path, audio_gated, sr)\n",
    "\n",
    "\n",
    "#------------------------------------- 3c NOISE GATE mod_2 w padding\n",
    "\n",
    "import librosa\n",
    "import numpy as np\n",
    "import soundfile as sf\n",
    "\n",
    "def wav_ng_mod_2_pad(input_file_path, output_file_path, gate_threshold=-40.0, attack=0.01, release=0.1):\n",
    "    \"\"\"\n",
    "    Applies a smooth noise gate to the audio file and saves the output.\n",
    "\n",
    "    :param input_file_path: Path to the input audio file\n",
    "    :param output_file_path: Path to save the output audio file\n",
    "    :param gate_threshold: dB threshold for noise gate\n",
    "    :param attack: Attack time in seconds\n",
    "    :param release: Release time in seconds\n",
    "    :return: None\n",
    "    \"\"\"\n",
    "\n",
    "    def smooth_noise_gate(audio, sr):\n",
    "        \"\"\"\n",
    "        Apply a smooth noise gate to the audio signal with gradual attack and release.\n",
    "        \"\"\"\n",
    "        # Convert threshold from dB to amplitude\n",
    "        threshold_amplitude = 10**(gate_threshold / 20)\n",
    "\n",
    "        # Prepare attack and release coefficients\n",
    "        attack_coeff = np.exp(-1/(sr * attack))\n",
    "        release_coeff = np.exp(-1/(sr * release))\n",
    "\n",
    "        # Envelope detection and smoothing\n",
    "        envelope = 0\n",
    "        smooth_gain = 1\n",
    "        gated_audio = np.zeros_like(audio)\n",
    "        for i, sample in enumerate(audio):\n",
    "            envelope = max(abs(sample), envelope * attack_coeff if abs(sample) < envelope else envelope * release_coeff)\n",
    "\n",
    "            # Smooth gain calculation for gradual attack and release\n",
    "            target_gain = 1 if envelope > threshold_amplitude else 0\n",
    "            smooth_gain = smooth_gain * release_coeff if target_gain < smooth_gain else smooth_gain * attack_coeff\n",
    "\n",
    "            gated_audio[i] = sample * smooth_gain\n",
    "\n",
    "        return gated_audio\n",
    "\n",
    "    # Load the audio file\n",
    "    audio, sr = librosa.load(input_file_path, sr=None)\n",
    "\n",
    "    # Apply smooth noise gate\n",
    "    audio_gated = smooth_noise_gate(audio, sr)\n",
    "\n",
    "    # Save the gated audio\n",
    "    sf.write(output_file_path, audio_gated, sr)\n",
    "\n",
    "# Usage\n",
    "# input_file = \"_pod_1_recording/vr_50_cut_off_HP_NR_Gated.wav\"\n",
    "# output_file = \"_pod_1_recording/vr_50_cut_off_HP_NR_Gated_padded.wav\"\n",
    "\n",
    "# apply_smooth_gate(input_file, output_file, gate_threshold=-50.0, attack=0.5, release=0.1)\n",
    "\n",
    "\n",
    "\n"
   ]
  },
  {
   "cell_type": "markdown",
   "id": "c40a625f-9bf7-4e65-9ec2-395a5d890cb6",
   "metadata": {},
   "source": [
    "# optional \n",
    "\n",
    "# NOISE GATE with PADDING - for low volumes (-50,-30)"
   ]
  },
  {
   "cell_type": "code",
   "execution_count": 104,
   "id": "647019f3-240a-4399-8ce9-19dd658e8dd7",
   "metadata": {},
   "outputs": [],
   "source": [
    "def smooth_noise_gate(audio, sr, threshold=-40.0, attack=0.01, release=0.1):\n",
    "    \"\"\"\n",
    "    Apply a smooth noise gate to the audio signal with gradual attack and release.\n",
    "\n",
    "    :param audio: NumPy array of audio samples\n",
    "    :param sr: Sample rate of the audio\n",
    "    :param threshold: Threshold for gating (dB)\n",
    "    :param attack: Attack time in seconds\n",
    "    :param release: Release time in seconds\n",
    "    :return: Gated audio\n",
    "    \"\"\"\n",
    "    # Convert threshold from dB to amplitude\n",
    "    threshold_amplitude = 10**(threshold / 20)\n",
    "\n",
    "    # Prepare attack and release coefficients\n",
    "    attack_coeff = np.exp(-1/(sr * attack))\n",
    "    release_coeff = np.exp(-1/(sr * release))\n",
    "\n",
    "    # Envelope detection and smoothing\n",
    "    envelope = 0\n",
    "    smooth_gain = 1\n",
    "    gated_audio = np.zeros_like(audio)\n",
    "    for i, sample in enumerate(audio):\n",
    "        envelope = max(abs(sample), envelope * attack_coeff if abs(sample) < envelope else envelope * release_coeff)\n",
    "\n",
    "        # Smooth gain calculation for gradual attack and release\n",
    "        target_gain = 1 if envelope > threshold_amplitude else 0\n",
    "        smooth_gain = smooth_gain * release_coeff if target_gain < smooth_gain else smooth_gain * attack_coeff\n",
    "\n",
    "        gated_audio[i] = sample * smooth_gain\n",
    "\n",
    "    return gated_audio\n",
    "\n",
    "def apply_gate(input_file_path, output_file_path, gate_threshold=-40.0, attack=0.01, release=0.1):\n",
    "    \"\"\"\n",
    "    Applies a noise gate to the audio file and saves the output.\n",
    "\n",
    "    :param input_file_path: path to the input audio file\n",
    "    :param output_file_path: path to save the output audio file\n",
    "    :param gate_threshold: dB threshold for noise gate\n",
    "    :param attack: attack time in seconds\n",
    "    :param release: release time in seconds\n",
    "    :return: None\n",
    "    \"\"\"\n",
    "    \n",
    "    # Load the audio file\n",
    "    audio, sr = librosa.load(input_file_path, sr=None)\n",
    "\n",
    "    # Apply noise gate\n",
    "    audio_gated = noise_gate(audio, sr, threshold=gate_threshold, attack=attack, release=release)\n",
    "\n",
    "    # Save the gated audio\n",
    "    sf.write(output_file_path, audio_gated, sr)\n",
    "\n",
    "\n",
    "\n",
    "\n",
    "#--------------------------------------------\n",
    "\n",
    "input_file = \"_pod_1_recording/vr_50_cut_off_HP_NR_Gated.wav\"\n",
    "output_file = \"_pod_1_recording/vr_50_cut_off_HP_NR_Gated_padded.wav\"\n",
    "##So, 0.01 seconds is equivalent to 10 milliseconds. , attack ~ .1(100) , release~ .1 (100)\n",
    "\n",
    "apply_gate(input_file, output_file, gate_threshold=-50.0, attack=0.5, release=.1)\n",
    "\n",
    "\n",
    "# Rest of your code remains the same\n"
   ]
  },
  {
   "cell_type": "markdown",
   "id": "3687b705-ae66-426e-bd27-7c8132a3377e",
   "metadata": {},
   "source": [
    "# END"
   ]
  },
  {
   "cell_type": "code",
   "execution_count": null,
   "id": "347b7422-bf4d-41cb-b99d-5e8d9cf7f365",
   "metadata": {},
   "outputs": [],
   "source": []
  },
  {
   "cell_type": "code",
   "execution_count": null,
   "id": "eb0ed5f4-5a07-49be-836b-5a8f5e7910e3",
   "metadata": {},
   "outputs": [],
   "source": []
  },
  {
   "cell_type": "code",
   "execution_count": null,
   "id": "92f49f6a",
   "metadata": {},
   "outputs": [],
   "source": []
  }
 ],
 "metadata": {
  "kernelspec": {
   "display_name": "Python 3 (ipykernel)",
   "language": "python",
   "name": "python3"
  },
  "language_info": {
   "codemirror_mode": {
    "name": "ipython",
    "version": 3
   },
   "file_extension": ".py",
   "mimetype": "text/x-python",
   "name": "python",
   "nbconvert_exporter": "python",
   "pygments_lexer": "ipython3",
   "version": "3.8.18"
  }
 },
 "nbformat": 4,
 "nbformat_minor": 5
}
