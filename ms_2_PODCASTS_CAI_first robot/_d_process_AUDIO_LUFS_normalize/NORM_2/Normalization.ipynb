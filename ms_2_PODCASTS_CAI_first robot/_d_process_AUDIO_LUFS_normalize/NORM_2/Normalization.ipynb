{
 "cells": [
  {
   "cell_type": "markdown",
   "id": "46ebde2d",
   "metadata": {},
   "source": [
    "# NORMALIZATION"
   ]
  },
  {
   "cell_type": "markdown",
   "id": "17e52809",
   "metadata": {},
   "source": [
    "# before Normilizing \n",
    "Dynamic Range Compression\n",
    "Applying dynamic range compression before or after normalization can also help. Dynamic range compression reduces the gap between the loudest and the softest parts of the audio, making it less likely that normalization will introduce noise."
   ]
  },
  {
   "cell_type": "markdown",
   "id": "37d51e4f",
   "metadata": {},
   "source": [
    "### High Level of Background Noise:\n",
    "Root Mean Square (RMS) Normalization with with Gain Control  *****\n",
    "\n",
    "In cases of high background noise, RMS normalization can be effective. This method balances the audio based on the square root of the mean square of the audio signal, taking both signal and noise into account. This type of normalization doesn't overly amplify the noise but ensures that the voice in the recording is sufficiently loud."
   ]
  },
  {
   "cell_type": "markdown",
   "id": "37b52de5",
   "metadata": {},
   "source": [
    "### Medium Level of Background Noise:\n",
    "Peak Normalization with Dynamic Range ***\n",
    "\n",
    "Dynamic Range Compression\n",
    "Applying dynamic range compression before or after normalization can also help. Dynamic range compression reduces the gap between the loudest and the softest parts of the audio, making it less likely that normalization will introduce noise.\n",
    "\n",
    "When you have a moderate amount of background noise, peak normalization could be a good option. It adjusts the gain so that the highest amplitude in the audio reaches a specified level. This ensures that you're not losing any information while preparing the audio for further processing."
   ]
  },
  {
   "cell_type": "markdown",
   "id": "2461b2e8",
   "metadata": {},
   "source": [
    "### Low Level of Background Noise or Clean Audio:\n",
    "Z-Score Normalization with Pre-Filtering *\n",
    "\n",
    "For relatively clean audio, Z-score normalization can be effective. It centers the audio signal around zero and scales it based on its standard deviation. This is particularly useful when the audio is part of a larger dataset with varying quality, as it brings everything to a standard range."
   ]
  },
  {
   "cell_type": "markdown",
   "id": "ca46fdc8",
   "metadata": {},
   "source": [
    "# 1_ check Variation level - later on do it by pieces of audio and First NORM"
   ]
  },
  {
   "cell_type": "code",
   "execution_count": 1,
   "id": "cbf5d786",
   "metadata": {},
   "outputs": [
    {
     "name": "stdout",
     "output_type": "stream",
     "text": [
      "Audio variation level: high_variation\n",
      "Summary and Conclusions:\n",
      "The audio file was successfully read and its amplitude variation level was classified.\n",
      "The determined level of variation is: high_variation.\n",
      "The audio data has been normalized using a scaling factor tailored to this level of variation.\n",
      "This approach allows for nuanced normalization, setting the stage for effective further audio processing.\n"
     ]
    }
   ],
   "source": [
    "from scipy.io import wavfile\n",
    "import numpy as np\n",
    "\n",
    "def read_and_classify_wav(file_path):\n",
    "    # ^^^ path ^^^\n",
    "    sample_rate, data = wavfile.read(file_path)\n",
    "    \n",
    "    # Calculate the standard deviation of the audio data\n",
    "    std_dev = np.std(data)\n",
    "    \n",
    "    # Classify the variation based on the standard deviation\n",
    "    if std_dev < 2000:\n",
    "        variation = \"low_variation\"\n",
    "    elif std_dev < 4000:\n",
    "        variation = \"medium_variation\"\n",
    "    else:\n",
    "        variation = \"high_variation\"\n",
    "\n",
    "    return sample_rate, data, variation\n",
    "\n",
    "def normalize_audio(data, variation):\n",
    "    if variation == \"low_variation\":\n",
    "        scaling_factor = 0.5\n",
    "    elif variation == \"medium_variation\":\n",
    "        scaling_factor = 0.7\n",
    "    else: # high_variation\n",
    "        scaling_factor = 1.0\n",
    "    \n",
    "    # Normalize the audio data\n",
    "    normalized_data = np.int16(data / np.max(np.abs(data)) * 32767 * scaling_factor)\n",
    "    \n",
    "    return normalized_data\n",
    "\n",
    "if __name__ == \"__main__\":\n",
    "    file_path = \"0_vr_original.wav\"    # ^^^ path ^^^\n",
    "    sample_rate, data, variation = read_and_classify_wav(file_path)\n",
    "    print(f\"Audio variation level: {variation}\")\n",
    "\n",
    "    normalized_data = normalize_audio(data, variation)\n",
    "    # Save the normalized audio back to a new WAV file\n",
    "    wavfile.write(\"1_variation_based_normalized_audio.wav\", sample_rate, normalized_data)\n",
    "    # ^^^ path ^^^\n",
    "\n",
    "    print(\"Summary and Conclusions:\")\n",
    "    print(\"The audio file was successfully read and its amplitude variation level was classified.\")\n",
    "    print(f\"The determined level of variation is: {variation}.\")\n",
    "    print(\"The audio data has been normalized using a scaling factor tailored to this level of variation.\")\n",
    "    print(\"This approach allows for nuanced normalization, setting the stage for effective further audio processing.\")\n"
   ]
  },
  {
   "cell_type": "markdown",
   "id": "8fcfac91",
   "metadata": {},
   "source": [
    "# 2 _SELECT 2 normalization is dynamic -> try other combinations in the future"
   ]
  },
  {
   "cell_type": "code",
   "execution_count": 4,
   "id": "f5f922cc",
   "metadata": {},
   "outputs": [
    {
     "name": "stdout",
     "output_type": "stream",
     "text": [
      "Choose the type of normalization:\n",
      "1: Z-Score Normalization with Pre-Filtering         _for_  *     LOW Level of Background Noise\n",
      "2: Peak Normalization with Dynamic Range Compression_for_  ***   MID Level of Background Noise\n",
      "3: RMS Normalization with Gain Control              _for_  ***** HIGH Level of Background Noise \n",
      "Enter the number corresponding to your choice: 2\n",
      "Normalization complete. The file has been saved as '2_dynamic_range_normalized_audio.wav'\n"
     ]
    }
   ],
   "source": [
    "import soundfile as sf\n",
    "import numpy as np\n",
    "from scipy.signal import butter, lfilter\n",
    "\n",
    "def rms_normalization(audio_signal, gain=0.9):\n",
    "    rms_value = np.sqrt(np.mean(np.square(audio_signal)))\n",
    "    normalized_audio = gain * (audio_signal / rms_value)\n",
    "    return normalized_audio\n",
    "\n",
    "def peak_normalization(audio_signal):\n",
    "    peak_value = np.max(np.abs(audio_signal))\n",
    "    return audio_signal / peak_value\n",
    "\n",
    "def z_score_normalization(audio_signal):\n",
    "    mean = np.mean(audio_signal)\n",
    "    std = np.std(audio_signal)\n",
    "    return (audio_signal - mean) / std\n",
    "\n",
    "def compress_dynamic_range(audio_signal, threshold=0.015, ratio=.002):\n",
    "    compressed_audio = np.where(np.abs(audio_signal) > threshold,\n",
    "                                threshold + ((np.abs(audio_signal) - threshold) / ratio),\n",
    "                                audio_signal)\n",
    "    return np.sign(audio_signal) * compressed_audio\n",
    "\n",
    "def butter_lowpass_filter(audio_signal, cutoff_freq, sample_rate):\n",
    "    b, a = butter(6, cutoff_freq / (0.5 * sample_rate), btype='low')\n",
    "    return lfilter(b, a, audio_signal)\n",
    "\n",
    "def main():\n",
    "    # ^^^ path ^^^\n",
    "    audio_data, sample_rate = sf.read(\"1_variation_based_normalized_audio.wav\")\n",
    "    \n",
    "    print(\"Choose the type of normalization:\")\n",
    "    print(\"1: Z-Score Normalization with Pre-Filtering         _for_  *     LOW Level of Background Noise\")\n",
    "    print(\"2: Peak Normalization with Dynamic Range Compression_for_  ***   MID Level of Background Noise\")\n",
    "    print(\"3: RMS Normalization with Gain Control              _for_  ***** HIGH Level of Background Noise \")\n",
    "    \n",
    "\n",
    "    \n",
    "    choice = input(\"Enter the number corresponding to your choice: \")\n",
    "\n",
    "    if choice == '1':\n",
    "        filtered_audio = butter_lowpass_filter(audio_data, cutoff_freq=3000, sample_rate=sample_rate)\n",
    "        normalized_audio = z_score_normalization(filtered_audio)\n",
    "    elif choice == '2':\n",
    "        compressed_audio = compress_dynamic_range(audio_data)\n",
    "        normalized_audio = peak_normalization(compressed_audio)\n",
    "    elif choice == '3':\n",
    "        normalized_audio = rms_normalization(audio_data, gain=0.7)\n",
    "    else:\n",
    "        print(\"Invalid choice. Exiting.\")\n",
    "        exit()\n",
    "\n",
    "    # ^^^ path ^^^\n",
    "    sf.write(\"2_dynamic_range_normalized_audio.wav\", normalized_audio, sample_rate)\n",
    "    print(\"Normalization complete. The file has been saved as '2_dynamic_range_normalized_audio.wav'\")\n",
    "\n",
    "if __name__ == '__main__':\n",
    "    main()\n"
   ]
  },
  {
   "cell_type": "code",
   "execution_count": null,
   "id": "ad6e24a8",
   "metadata": {},
   "outputs": [],
   "source": []
  }
 ],
 "metadata": {
  "kernelspec": {
   "display_name": "Python 3 (ipykernel)",
   "language": "python",
   "name": "python3"
  },
  "language_info": {
   "codemirror_mode": {
    "name": "ipython",
    "version": 3
   },
   "file_extension": ".py",
   "mimetype": "text/x-python",
   "name": "python",
   "nbconvert_exporter": "python",
   "pygments_lexer": "ipython3",
   "version": "3.10.9"
  }
 },
 "nbformat": 4,
 "nbformat_minor": 5
}
