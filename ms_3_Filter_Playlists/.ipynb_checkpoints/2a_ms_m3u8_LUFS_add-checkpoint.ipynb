{
 "cells": [
  {
   "cell_type": "markdown",
   "id": "55576d4d",
   "metadata": {},
   "source": [
    "# Global"
   ]
  },
  {
   "cell_type": "code",
   "execution_count": 1,
   "id": "47dc1aab",
   "metadata": {},
   "outputs": [],
   "source": [
    "exec(open(f\"/Users/yerik/_apple_source/PY/GLOBAL/_1_paths.py\",encoding=\"utf-8\").read()) #paths"
   ]
  },
  {
   "cell_type": "markdown",
   "id": "53c10e7d",
   "metadata": {},
   "source": [
    "# Run"
   ]
  },
  {
   "cell_type": "code",
   "execution_count": 2,
   "id": "49149c05",
   "metadata": {
    "scrolled": true
   },
   "outputs": [],
   "source": [
    "import os\n",
    "import pandas as pd\n",
    "\n",
    "\n",
    "df_id = pd.read_pickle(f'{path_ms_tables}/_3_rkb_m3u8_purged_lufs.pkl')\n",
    "df_pl_ALL = df_id[~df_id['Name'].str.startswith('._')].copy()"
   ]
  },
  {
   "cell_type": "code",
   "execution_count": 3,
   "id": "9e3a1c9a",
   "metadata": {},
   "outputs": [
    {
     "data": {
      "text/html": [
       "<div>\n",
       "<style scoped>\n",
       "    .dataframe tbody tr th:only-of-type {\n",
       "        vertical-align: middle;\n",
       "    }\n",
       "\n",
       "    .dataframe tbody tr th {\n",
       "        vertical-align: top;\n",
       "    }\n",
       "\n",
       "    .dataframe thead th {\n",
       "        text-align: right;\n",
       "    }\n",
       "</style>\n",
       "<table border=\"1\" class=\"dataframe\">\n",
       "  <thead>\n",
       "    <tr style=\"text-align: right;\">\n",
       "      <th></th>\n",
       "      <th>track_id_rk</th>\n",
       "      <th>Name</th>\n",
       "      <th>Path</th>\n",
       "      <th>playlist_name</th>\n",
       "      <th>source_dir</th>\n",
       "      <th>vol_lufs</th>\n",
       "    </tr>\n",
       "  </thead>\n",
       "  <tbody>\n",
       "    <tr>\n",
       "      <th>0</th>\n",
       "      <td>354</td>\n",
       "      <td>Jizz - Onyx (Original Mix)</td>\n",
       "      <td>/Volumes/HD_back_UP/ALL_MUSIC/Music_back_up/_1...</td>\n",
       "      <td>10_pastel_BOYZ_dance</td>\n",
       "      <td>TIMELESS_dj_TOOLS_purge</td>\n",
       "      <td>-9.071</td>\n",
       "    </tr>\n",
       "    <tr>\n",
       "      <th>1</th>\n",
       "      <td>254</td>\n",
       "      <td>- Valentino Khan &amp; Alison Wonderland - Anythi...</td>\n",
       "      <td>/Volumes/HD_back_UP/ALL_MUSIC/Music_back_up/_1...</td>\n",
       "      <td>10_pastel_BOYZ_dance</td>\n",
       "      <td>TIMELESS_dj_TOOLS_purge</td>\n",
       "      <td>-8.088</td>\n",
       "    </tr>\n",
       "    <tr>\n",
       "      <th>2</th>\n",
       "      <td>188</td>\n",
       "      <td>Armand Van Helden, ANOTR - Funk Phenomena (Sid...</td>\n",
       "      <td>/Volumes/HD_back_UP/ALL_MUSIC/Music_back_up/_1...</td>\n",
       "      <td>10_pastel_BOYZ_dance</td>\n",
       "      <td>TIMELESS_dj_TOOLS_purge</td>\n",
       "      <td>-8.028</td>\n",
       "    </tr>\n",
       "    <tr>\n",
       "      <th>3</th>\n",
       "      <td>392</td>\n",
       "      <td>Claptone - In The Night (Illyus &amp; Barrinetos R...</td>\n",
       "      <td>/Volumes/HD_back_UP/ALL_MUSIC/Music_back_up/_1...</td>\n",
       "      <td>10_pastel_BOYZ_dance</td>\n",
       "      <td>TIMELESS_dj_TOOLS_purge</td>\n",
       "      <td>-9.637</td>\n",
       "    </tr>\n",
       "    <tr>\n",
       "      <th>4</th>\n",
       "      <td>410</td>\n",
       "      <td>Habischman - Skyward (Original Mix)</td>\n",
       "      <td>/Volumes/HD_back_UP/ALL_MUSIC/Music_back_up/_1...</td>\n",
       "      <td>10_pastel_BOYZ_dance</td>\n",
       "      <td>TIMELESS_dj_TOOLS_purge</td>\n",
       "      <td>-7.866</td>\n",
       "    </tr>\n",
       "    <tr>\n",
       "      <th>...</th>\n",
       "      <td>...</td>\n",
       "      <td>...</td>\n",
       "      <td>...</td>\n",
       "      <td>...</td>\n",
       "      <td>...</td>\n",
       "      <td>...</td>\n",
       "    </tr>\n",
       "    <tr>\n",
       "      <th>4012</th>\n",
       "      <td>424</td>\n",
       "      <td>CLAUDE MONNET - Cevin Fisher - The Message - C...</td>\n",
       "      <td>/Volumes/HD_back_UP/ALL_MUSIC/Music_back_up/_0...</td>\n",
       "      <td>Nate</td>\n",
       "      <td>years_22_purge</td>\n",
       "      <td>-8.442</td>\n",
       "    </tr>\n",
       "    <tr>\n",
       "      <th>4022</th>\n",
       "      <td>245</td>\n",
       "      <td>- Ray Parker, Jr. - Ghostbusters myfreemp3.vip</td>\n",
       "      <td>/Volumes/HD_back_UP/ALL_MUSIC/Music_back_up/_1...</td>\n",
       "      <td>Nate</td>\n",
       "      <td>years_22_purge</td>\n",
       "      <td>-8.514</td>\n",
       "    </tr>\n",
       "    <tr>\n",
       "      <th>4023</th>\n",
       "      <td>270</td>\n",
       "      <td>- deadmau5 feat. Rob Swire - Ghosts N Stuff m...</td>\n",
       "      <td>/Volumes/HD_back_UP/ALL_MUSIC/Music_back_up/_1...</td>\n",
       "      <td>Nate</td>\n",
       "      <td>years_22_purge</td>\n",
       "      <td>-7.811</td>\n",
       "    </tr>\n",
       "    <tr>\n",
       "      <th>4024</th>\n",
       "      <td>206</td>\n",
       "      <td>- John Summit - Afterhours (Radio Edit) (Radi...</td>\n",
       "      <td>/Volumes/HD_back_UP/ALL_MUSIC/Music_back_up/_1...</td>\n",
       "      <td>Nate</td>\n",
       "      <td>years_22_purge</td>\n",
       "      <td>-8.434</td>\n",
       "    </tr>\n",
       "    <tr>\n",
       "      <th>4025</th>\n",
       "      <td>205</td>\n",
       "      <td>Chris Lake - Chris Lake - 400</td>\n",
       "      <td>/Volumes/HD_back_UP/ALL_MUSIC/Music_back_up/_0...</td>\n",
       "      <td>Nate</td>\n",
       "      <td>years_22_purge</td>\n",
       "      <td>-6.882</td>\n",
       "    </tr>\n",
       "  </tbody>\n",
       "</table>\n",
       "<p>1653 rows × 6 columns</p>\n",
       "</div>"
      ],
      "text/plain": [
       "     track_id_rk                                               Name  \\\n",
       "0            354                         Jizz - Onyx (Original Mix)   \n",
       "1            254   - Valentino Khan & Alison Wonderland - Anythi...   \n",
       "2            188  Armand Van Helden, ANOTR - Funk Phenomena (Sid...   \n",
       "3            392  Claptone - In The Night (Illyus & Barrinetos R...   \n",
       "4            410                Habischman - Skyward (Original Mix)   \n",
       "...          ...                                                ...   \n",
       "4012         424  CLAUDE MONNET - Cevin Fisher - The Message - C...   \n",
       "4022         245     - Ray Parker, Jr. - Ghostbusters myfreemp3.vip   \n",
       "4023         270   - deadmau5 feat. Rob Swire - Ghosts N Stuff m...   \n",
       "4024         206   - John Summit - Afterhours (Radio Edit) (Radi...   \n",
       "4025         205                      Chris Lake - Chris Lake - 400   \n",
       "\n",
       "                                                   Path         playlist_name  \\\n",
       "0     /Volumes/HD_back_UP/ALL_MUSIC/Music_back_up/_1...  10_pastel_BOYZ_dance   \n",
       "1     /Volumes/HD_back_UP/ALL_MUSIC/Music_back_up/_1...  10_pastel_BOYZ_dance   \n",
       "2     /Volumes/HD_back_UP/ALL_MUSIC/Music_back_up/_1...  10_pastel_BOYZ_dance   \n",
       "3     /Volumes/HD_back_UP/ALL_MUSIC/Music_back_up/_1...  10_pastel_BOYZ_dance   \n",
       "4     /Volumes/HD_back_UP/ALL_MUSIC/Music_back_up/_1...  10_pastel_BOYZ_dance   \n",
       "...                                                 ...                   ...   \n",
       "4012  /Volumes/HD_back_UP/ALL_MUSIC/Music_back_up/_0...                  Nate   \n",
       "4022  /Volumes/HD_back_UP/ALL_MUSIC/Music_back_up/_1...                  Nate   \n",
       "4023  /Volumes/HD_back_UP/ALL_MUSIC/Music_back_up/_1...                  Nate   \n",
       "4024  /Volumes/HD_back_UP/ALL_MUSIC/Music_back_up/_1...                  Nate   \n",
       "4025  /Volumes/HD_back_UP/ALL_MUSIC/Music_back_up/_0...                  Nate   \n",
       "\n",
       "                   source_dir  vol_lufs  \n",
       "0     TIMELESS_dj_TOOLS_purge    -9.071  \n",
       "1     TIMELESS_dj_TOOLS_purge    -8.088  \n",
       "2     TIMELESS_dj_TOOLS_purge    -8.028  \n",
       "3     TIMELESS_dj_TOOLS_purge    -9.637  \n",
       "4     TIMELESS_dj_TOOLS_purge    -7.866  \n",
       "...                       ...       ...  \n",
       "4012           years_22_purge    -8.442  \n",
       "4022           years_22_purge    -8.514  \n",
       "4023           years_22_purge    -7.811  \n",
       "4024           years_22_purge    -8.434  \n",
       "4025           years_22_purge    -6.882  \n",
       "\n",
       "[1653 rows x 6 columns]"
      ]
     },
     "execution_count": 3,
     "metadata": {},
     "output_type": "execute_result"
    }
   ],
   "source": [
    "df_pl_ALL"
   ]
  },
  {
   "cell_type": "code",
   "execution_count": null,
   "id": "cd6e6880",
   "metadata": {},
   "outputs": [],
   "source": [
    "#Pick playlists"
   ]
  },
  {
   "cell_type": "code",
   "execution_count": null,
   "id": "c80862d5",
   "metadata": {},
   "outputs": [],
   "source": []
  },
  {
   "cell_type": "code",
   "execution_count": null,
   "id": "d070b035",
   "metadata": {},
   "outputs": [],
   "source": []
  },
  {
   "cell_type": "code",
   "execution_count": null,
   "id": "0777988a",
   "metadata": {},
   "outputs": [],
   "source": []
  },
  {
   "cell_type": "code",
   "execution_count": 2,
   "id": "002dff90",
   "metadata": {
    "scrolled": true
   },
   "outputs": [
    {
     "ename": "NameError",
     "evalue": "name 'df_pl_ALL' is not defined",
     "output_type": "error",
     "traceback": [
      "\u001b[0;31m---------------------------------------------------------------------------\u001b[0m",
      "\u001b[0;31mNameError\u001b[0m                                 Traceback (most recent call last)",
      "Cell \u001b[0;32mIn[2], line 1\u001b[0m\n\u001b[0;32m----> 1\u001b[0m \u001b[38;5;28mlen\u001b[39m(\u001b[43mdf_pl_ALL\u001b[49m) \n\u001b[1;32m      2\u001b[0m df_pl_ALL \u001b[38;5;241m=\u001b[39m df_pl_ALL\u001b[38;5;241m.\u001b[39mhead(\u001b[38;5;241m3\u001b[39m)\u001b[38;5;241m.\u001b[39mcopy()\n",
      "\u001b[0;31mNameError\u001b[0m: name 'df_pl_ALL' is not defined"
     ]
    }
   ],
   "source": [
    "len(df_pl_ALL) \n",
    "df_pl_ALL = df_pl_ALL.head(3).copy()"
   ]
  },
  {
   "cell_type": "code",
   "execution_count": null,
   "id": "d33a20f9",
   "metadata": {},
   "outputs": [
    {
     "name": "stderr",
     "output_type": "stream",
     "text": [
      "Computing LUFS:   9%|█▉                    | 145/1653 [05:03<32:52,  1.31s/file]"
     ]
    }
   ],
   "source": [
    "# import function\n",
    "exec(open(f\"_1_d2_c1_ms_charac_vol_loudness.py\",encoding=\"utf-8\").read()) #paths\n",
    "\n",
    "\n",
    "df_pl_ALL['vol_lufs'] = compute_lufs_for_paths(df_pl_ALL['Path'])\n",
    "\n"
   ]
  },
  {
   "cell_type": "code",
   "execution_count": 1,
   "id": "fc24a05c",
   "metadata": {},
   "outputs": [
    {
     "ename": "NameError",
     "evalue": "name 'df_pl_ALL' is not defined",
     "output_type": "error",
     "traceback": [
      "\u001b[0;31m---------------------------------------------------------------------------\u001b[0m",
      "\u001b[0;31mNameError\u001b[0m                                 Traceback (most recent call last)",
      "Cell \u001b[0;32mIn[1], line 1\u001b[0m\n\u001b[0;32m----> 1\u001b[0m \u001b[43mdf_pl_ALL\u001b[49m\n",
      "\u001b[0;31mNameError\u001b[0m: name 'df_pl_ALL' is not defined"
     ]
    }
   ],
   "source": [
    "df_pl_ALL"
   ]
  },
  {
   "cell_type": "code",
   "execution_count": null,
   "id": "dc30c5b3",
   "metadata": {},
   "outputs": [],
   "source": [
    "# merge values with all existing repeated win playlists\n",
    "\n",
    "df_id = pd.read_pickle(f'{path_ms_tables}/_2b_rkb_m3u8_purged_repeated_existing_all.pkl')\n",
    "df_pl_ALL_repeated = df_id[~df_id['Name'].str.startswith('._')].copy()\n",
    "\n",
    "#merge\n",
    "df_pl_ALL_repeated = df_pl_ALL_repeated.merge(df_pl_ALL[['Path', 'vol_lufs']], on='Path', how='left')\n"
   ]
  },
  {
   "cell_type": "code",
   "execution_count": null,
   "id": "ffd4fb4d",
   "metadata": {},
   "outputs": [],
   "source": []
  },
  {
   "cell_type": "code",
   "execution_count": null,
   "id": "61d72647",
   "metadata": {},
   "outputs": [],
   "source": []
  },
  {
   "cell_type": "markdown",
   "id": "f2b5d277",
   "metadata": {},
   "source": [
    "# Functions"
   ]
  },
  {
   "cell_type": "markdown",
   "id": "e4c391a6",
   "metadata": {},
   "source": [
    " # CHECK ALL FILES EXIST"
   ]
  },
  {
   "cell_type": "code",
   "execution_count": 16,
   "id": "88f72c6e",
   "metadata": {},
   "outputs": [
    {
     "name": "stdout",
     "output_type": "stream",
     "text": [
      "Overwriting _1_d2_ms_check_files_in_m3u8_exist.py\n"
     ]
    }
   ],
   "source": [
    "%%writefile _1_d2_ms_check_files_in_m3u8_exist.py\n",
    "\n",
    "# CHECK UNIQUE and/repeated\n",
    "# Rows without duplicated SHA256 values (keeping only the first occurrence)\n",
    "df_unique = df_pl_ALL[~df_pl_ALL['Path'].duplicated(keep='first')]\n",
    "    \n",
    "    # Rows with duplicated SHA256 values (excluding the first occurrence)\n",
    "df_duplicates = df_pl_ALL[df_pl_ALL['Path'].duplicated(keep='first')]\n",
    "\n",
    "print('UNIQUE & DUPLICATES based on New name' )\n",
    "print('UNIQUE     :::',len(df_unique), '  \\nDUPLICATES :::' ,len(df_duplicates))\n",
    "\n",
    "#df_tags\n",
    "\n",
    "file_paths = df_unique['Path'].tolist()\n",
    "\n",
    "#file_path_erase = [path for path in file_paths if path not in file_playlists_keep]\n",
    "\n",
    "non_existent_files = []\n",
    "\n",
    "\n",
    "for path in file_paths:\n",
    "    if not os.path.exists(path):\n",
    "        non_existent_files.append(path)\n",
    "\n",
    "# Print the files that don't exist\n",
    "if non_existent_files:\n",
    "    print(\"The following files do not exist:\")\n",
    "    for file in non_existent_files:\n",
    "        print(file)\n",
    "    print(len(non_existent_files))\n",
    "else:\n",
    "    print(\"All files paths in all playlists purged _ exist.\")\n"
   ]
  },
  {
   "cell_type": "markdown",
   "id": "cff48584",
   "metadata": {},
   "source": [
    "# loudness"
   ]
  },
  {
   "cell_type": "code",
   "execution_count": 9,
   "id": "80d3bdc6",
   "metadata": {},
   "outputs": [
    {
     "name": "stdout",
     "output_type": "stream",
     "text": [
      "Overwriting _1_d2_c1_ms_charac_vol_loudness.py\n"
     ]
    }
   ],
   "source": [
    "%%writefile _1_d2_c1_ms_charac_vol_loudness.py\n",
    "import numpy as np\n",
    "import pandas as pd\n",
    "from pydub import AudioSegment\n",
    "from pyloudnorm import Meter\n",
    "from tqdm import tqdm\n",
    "\n",
    "def compute_lufs_for_paths(paths):\n",
    "    # Create a loudness meter (rate will be updated for each file)\n",
    "    meter = Meter(rate=44100)  # default rate, will be changed for each file\n",
    "\n",
    "    lufs_results = []\n",
    "\n",
    "    # Wrap your loop with tqdm for a progress bar\n",
    "    for file_path in tqdm(paths, desc=\"Computing LUFS\", unit=\"file\"):\n",
    "\n",
    "        try:\n",
    "            # Load the audio file using pydub\n",
    "            audio = AudioSegment.from_file(file_path)\n",
    "\n",
    "            # Convert audio to WAV format and get channels data\n",
    "            samples = np.array(audio.get_array_of_samples())\n",
    "\n",
    "            # Convert integer samples to floating point and normalize\n",
    "            samples = samples / (2**15)\n",
    "\n",
    "            # Check if stereo or mono\n",
    "            if audio.channels == 2:\n",
    "                samples = samples.reshape((-1, 2))\n",
    "            else:\n",
    "                samples = samples.reshape((-1, 1))\n",
    "\n",
    "            # Update the sample rate of the meter\n",
    "            meter.rate = audio.frame_rate\n",
    "\n",
    "            # Compute LUFS\n",
    "            loudness = meter.integrated_loudness(samples)\n",
    "\n",
    "            lufs_results.append(round(loudness, 3))\n",
    "\n",
    "        except Exception as e:\n",
    "            print(f\"Error processing {file_path}: {e}\")\n",
    "            lufs_results.append(None)  # Append None for the failed computation, keeping the list lengths in sync\n",
    "\n",
    "    return lufs_results\n",
    "\n",
    "# Example usage:"
   ]
  },
  {
   "cell_type": "markdown",
   "id": "a3bf5350",
   "metadata": {},
   "source": [
    "# Pick and Choose"
   ]
  },
  {
   "cell_type": "code",
   "execution_count": 7,
   "id": "d6bd878c",
   "metadata": {},
   "outputs": [
    {
     "name": "stdout",
     "output_type": "stream",
     "text": [
      "Overwriting _1_d3_select_4_m3u8_playlists.py\n"
     ]
    }
   ],
   "source": [
    "%%writefile _1_d3_select_4_m3u8_playlists.py\n",
    "import pandas as pd\n",
    "\n",
    "def select_playlist(df):\n",
    "    # Get unique playlist names\n",
    "    unique_playlists = df['playlist_name'].unique().tolist()\n",
    "    \n",
    "    # Print out playlists with a numbering\n",
    "    for idx, playlist in enumerate(unique_playlists, 1):\n",
    "        print(f\"{idx}. {playlist}\")\n",
    "    \n",
    "    # Prompt user for a choice\n",
    "    while True:\n",
    "        try:\n",
    "            choice = int(input(\"Enter the number corresponding to your playlist choice: \"))\n",
    "            if 1 <= choice <= len(unique_playlists):\n",
    "                break\n",
    "            else:\n",
    "                print(\"Number out of range. Please try again.\")\n",
    "        except ValueError:\n",
    "            print(\"Invalid input. Please enter a number.\")\n",
    "    \n",
    "    # Get the selected playlist name\n",
    "    chosen_playlist = unique_playlists[choice-1]\n",
    "    \n",
    "    # Filter the dataframe by the selected playlist\n",
    "    filtered_df = df[df['playlist_name'] == chosen_playlist]\n",
    "    \n",
    "    return filtered_df\n",
    "\n",
    "# Pick 2 - 4 playlists\n",
    "filtered_df_0 = select_playlist(df_pl_ALL)\n",
    "filtered_df_1 = select_playlist(df_pl_ALL)\n",
    "filtered_df_2 = select_playlist(df_pl_ALL)\n",
    "filtered_df_3 = select_playlist(df_pl_ALL)\n",
    "\n",
    "#############\n",
    "df_pl_1 = pd.concat([filtered_df_0, filtered_df_1, filtered_df_2, filtered_df_3], ignore_index=True)\n",
    "df_pl_1['base_name'] = df_pl_1['Path'].apply(os.path.basename)\n",
    "\n",
    "# CHECK UNIQUE and/repeated\n",
    "# Rows without duplicated SHA256 values (keeping only the first occurrence)\n",
    "df_pl_1_unique = df_pl_1[~df_pl_1['base_name'].duplicated(keep='first')]\n",
    "    \n",
    "    # Rows with duplicated SHA256 values (excluding the first occurrence)\n",
    "f_pl_1_dup = df_pl_1[df_pl_1['base_name'].duplicated(keep='first')]\n",
    "\n",
    "print('UNIQUE & DUPLICATES based on New name' )\n",
    "print('UNIQUE     :::',len(df_pl_1_unique), '----------:: total to be the list exported as m3u8: df_pl_1_unique  \\nDUPLICATES :::' ,\n",
    "      len(f_pl_1_dup))\n",
    "\n",
    "#df_tags\n",
    "\n",
    "print('Total in Playlists combined :: ',len(df_pl_1),   'in df_pl_1')"
   ]
  },
  {
   "cell_type": "code",
   "execution_count": null,
   "id": "0634f128",
   "metadata": {},
   "outputs": [],
   "source": [
    "# export"
   ]
  },
  {
   "cell_type": "code",
   "execution_count": 9,
   "id": "9e50e533",
   "metadata": {},
   "outputs": [
    {
     "name": "stdout",
     "output_type": "stream",
     "text": [
      "Overwriting _1_d4_export_m3u8_desktop.py\n"
     ]
    }
   ],
   "source": [
    "%%writefile _1_d4_export_m3u8_desktop.py\n",
    "\n",
    "def dataframe_to_m3u8(df, output_filepath):\n",
    "    \"\"\"\n",
    "    Generate an m3u8 file from the first 10 rows of the DataFrame.\n",
    "    \n",
    "    Args:\n",
    "    - df (DataFrame): The DataFrame containing 'track_id_rk', 'Name', and 'Path' columns.\n",
    "    - output_filepath (str): The desired path for the output m3u8 file.\n",
    "    \"\"\"\n",
    "    # Take the first 10 rows\n",
    "    subset_df = df\n",
    "    \n",
    "    with open(output_filepath, 'w') as file:\n",
    "        # Add header if desired (you can remove this line if not needed)\n",
    "        file.write(\"#EXTM3U\\n\")\n",
    "\n",
    "        for _, row in subset_df.iterrows():\n",
    "            file.write(f\"#EXTINF:{row['track_id_rk']},{row['Name']}\\n\")\n",
    "            file.write(f\"{row['Path']}\\n\")\n",
    "\n",
    "# Example usage\n",
    "output_filepath = f\"{desk_path}/M3U8_playlist_name_CANVAS_keywords.m3u8\"\n",
    "dataframe_to_m3u8(df_pl_1, output_filepath)\n"
   ]
  },
  {
   "cell_type": "code",
   "execution_count": null,
   "id": "a8b29e7e",
   "metadata": {},
   "outputs": [],
   "source": []
  }
 ],
 "metadata": {
  "kernelspec": {
   "display_name": "Python 3 (ipykernel)",
   "language": "python",
   "name": "python3"
  },
  "language_info": {
   "codemirror_mode": {
    "name": "ipython",
    "version": 3
   },
   "file_extension": ".py",
   "mimetype": "text/x-python",
   "name": "python",
   "nbconvert_exporter": "python",
   "pygments_lexer": "ipython3",
   "version": "3.10.9"
  }
 },
 "nbformat": 4,
 "nbformat_minor": 5
}
