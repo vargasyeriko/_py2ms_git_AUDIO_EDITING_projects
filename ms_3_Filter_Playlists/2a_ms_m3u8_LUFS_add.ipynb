{
 "cells": [
  {
   "cell_type": "markdown",
   "id": "55576d4d",
   "metadata": {},
   "source": [
    "# Global"
   ]
  },
  {
   "cell_type": "code",
   "execution_count": 1,
   "id": "47dc1aab",
   "metadata": {},
   "outputs": [],
   "source": [
    "exec(open(f\"/Users/yerik/_apple_source/PY/GLOBAL/_1_paths.py\",encoding=\"utf-8\").read()) #paths"
   ]
  },
  {
   "cell_type": "markdown",
   "id": "53c10e7d",
   "metadata": {},
   "source": [
    "# Run"
   ]
  },
  {
   "cell_type": "code",
   "execution_count": 2,
   "id": "3e4d9b34",
   "metadata": {},
   "outputs": [],
   "source": [
    "import os\n",
    "import pandas as pd"
   ]
  },
  {
   "cell_type": "code",
   "execution_count": 3,
   "id": "747a7e85",
   "metadata": {},
   "outputs": [
    {
     "name": "stdout",
     "output_type": "stream",
     "text": [
      "5159\n"
     ]
    },
    {
     "data": {
      "text/html": [
       "<div>\n",
       "<style scoped>\n",
       "    .dataframe tbody tr th:only-of-type {\n",
       "        vertical-align: middle;\n",
       "    }\n",
       "\n",
       "    .dataframe tbody tr th {\n",
       "        vertical-align: top;\n",
       "    }\n",
       "\n",
       "    .dataframe thead th {\n",
       "        text-align: right;\n",
       "    }\n",
       "</style>\n",
       "<table border=\"1\" class=\"dataframe\">\n",
       "  <thead>\n",
       "    <tr style=\"text-align: right;\">\n",
       "      <th></th>\n",
       "      <th>track_id_rk</th>\n",
       "      <th>Name</th>\n",
       "      <th>Path</th>\n",
       "      <th>playlist_name</th>\n",
       "      <th>source_dir</th>\n",
       "    </tr>\n",
       "  </thead>\n",
       "  <tbody>\n",
       "    <tr>\n",
       "      <th>0</th>\n",
       "      <td>354</td>\n",
       "      <td>Jizz - Onyx (Original Mix)</td>\n",
       "      <td>/Volumes/HD_back_UP/ALL_MUSIC/Music_back_up/_1...</td>\n",
       "      <td>10_pastel_BOYZ_dance</td>\n",
       "      <td>TIMELESS_dj_TOOLS_purge</td>\n",
       "    </tr>\n",
       "    <tr>\n",
       "      <th>1</th>\n",
       "      <td>254</td>\n",
       "      <td>- Valentino Khan &amp; Alison Wonderland - Anythi...</td>\n",
       "      <td>/Volumes/HD_back_UP/ALL_MUSIC/Music_back_up/_1...</td>\n",
       "      <td>10_pastel_BOYZ_dance</td>\n",
       "      <td>TIMELESS_dj_TOOLS_purge</td>\n",
       "    </tr>\n",
       "    <tr>\n",
       "      <th>2</th>\n",
       "      <td>188</td>\n",
       "      <td>Armand Van Helden, ANOTR - Funk Phenomena (Sid...</td>\n",
       "      <td>/Volumes/HD_back_UP/ALL_MUSIC/Music_back_up/_1...</td>\n",
       "      <td>10_pastel_BOYZ_dance</td>\n",
       "      <td>TIMELESS_dj_TOOLS_purge</td>\n",
       "    </tr>\n",
       "  </tbody>\n",
       "</table>\n",
       "</div>"
      ],
      "text/plain": [
       "  track_id_rk                                               Name  \\\n",
       "0         354                         Jizz - Onyx (Original Mix)   \n",
       "1         254   - Valentino Khan & Alison Wonderland - Anythi...   \n",
       "2         188  Armand Van Helden, ANOTR - Funk Phenomena (Sid...   \n",
       "\n",
       "                                                Path         playlist_name  \\\n",
       "0  /Volumes/HD_back_UP/ALL_MUSIC/Music_back_up/_1...  10_pastel_BOYZ_dance   \n",
       "1  /Volumes/HD_back_UP/ALL_MUSIC/Music_back_up/_1...  10_pastel_BOYZ_dance   \n",
       "2  /Volumes/HD_back_UP/ALL_MUSIC/Music_back_up/_1...  10_pastel_BOYZ_dance   \n",
       "\n",
       "                source_dir  \n",
       "0  TIMELESS_dj_TOOLS_purge  \n",
       "1  TIMELESS_dj_TOOLS_purge  \n",
       "2  TIMELESS_dj_TOOLS_purge  "
      ]
     },
     "execution_count": 3,
     "metadata": {},
     "output_type": "execute_result"
    }
   ],
   "source": [
    "# Read all playlists\n",
    "df_id = pd.read_pickle(f'{path_ms_tables}/_2a_rkb_m3u8_purged_repeated_existing_all.pkl')\n",
    "df_pl_ALL = df_id[~df_id['Name'].str.startswith('._')].copy()\n",
    "print(len(df_pl_ALL))\n",
    "df_pl_ALL.head(3)\n"
   ]
  },
  {
   "cell_type": "code",
   "execution_count": 4,
   "id": "49149c05",
   "metadata": {
    "scrolled": true
   },
   "outputs": [
    {
     "name": "stdout",
     "output_type": "stream",
     "text": [
      "1653\n"
     ]
    },
    {
     "data": {
      "text/html": [
       "<div>\n",
       "<style scoped>\n",
       "    .dataframe tbody tr th:only-of-type {\n",
       "        vertical-align: middle;\n",
       "    }\n",
       "\n",
       "    .dataframe tbody tr th {\n",
       "        vertical-align: top;\n",
       "    }\n",
       "\n",
       "    .dataframe thead th {\n",
       "        text-align: right;\n",
       "    }\n",
       "</style>\n",
       "<table border=\"1\" class=\"dataframe\">\n",
       "  <thead>\n",
       "    <tr style=\"text-align: right;\">\n",
       "      <th></th>\n",
       "      <th>track_id_rk</th>\n",
       "      <th>Name</th>\n",
       "      <th>Path</th>\n",
       "      <th>playlist_name</th>\n",
       "      <th>source_dir</th>\n",
       "      <th>vol_lufs</th>\n",
       "    </tr>\n",
       "  </thead>\n",
       "  <tbody>\n",
       "    <tr>\n",
       "      <th>0</th>\n",
       "      <td>354</td>\n",
       "      <td>Jizz - Onyx (Original Mix)</td>\n",
       "      <td>/Volumes/HD_back_UP/ALL_MUSIC/Music_back_up/_1...</td>\n",
       "      <td>10_pastel_BOYZ_dance</td>\n",
       "      <td>TIMELESS_dj_TOOLS_purge</td>\n",
       "      <td>-9.071</td>\n",
       "    </tr>\n",
       "    <tr>\n",
       "      <th>1</th>\n",
       "      <td>254</td>\n",
       "      <td>- Valentino Khan &amp; Alison Wonderland - Anythi...</td>\n",
       "      <td>/Volumes/HD_back_UP/ALL_MUSIC/Music_back_up/_1...</td>\n",
       "      <td>10_pastel_BOYZ_dance</td>\n",
       "      <td>TIMELESS_dj_TOOLS_purge</td>\n",
       "      <td>-8.088</td>\n",
       "    </tr>\n",
       "    <tr>\n",
       "      <th>2</th>\n",
       "      <td>188</td>\n",
       "      <td>Armand Van Helden, ANOTR - Funk Phenomena (Sid...</td>\n",
       "      <td>/Volumes/HD_back_UP/ALL_MUSIC/Music_back_up/_1...</td>\n",
       "      <td>10_pastel_BOYZ_dance</td>\n",
       "      <td>TIMELESS_dj_TOOLS_purge</td>\n",
       "      <td>-8.028</td>\n",
       "    </tr>\n",
       "  </tbody>\n",
       "</table>\n",
       "</div>"
      ],
      "text/plain": [
       "  track_id_rk                                               Name  \\\n",
       "0         354                         Jizz - Onyx (Original Mix)   \n",
       "1         254   - Valentino Khan & Alison Wonderland - Anythi...   \n",
       "2         188  Armand Van Helden, ANOTR - Funk Phenomena (Sid...   \n",
       "\n",
       "                                                Path         playlist_name  \\\n",
       "0  /Volumes/HD_back_UP/ALL_MUSIC/Music_back_up/_1...  10_pastel_BOYZ_dance   \n",
       "1  /Volumes/HD_back_UP/ALL_MUSIC/Music_back_up/_1...  10_pastel_BOYZ_dance   \n",
       "2  /Volumes/HD_back_UP/ALL_MUSIC/Music_back_up/_1...  10_pastel_BOYZ_dance   \n",
       "\n",
       "                source_dir  vol_lufs  \n",
       "0  TIMELESS_dj_TOOLS_purge    -9.071  \n",
       "1  TIMELESS_dj_TOOLS_purge    -8.088  \n",
       "2  TIMELESS_dj_TOOLS_purge    -8.028  "
      ]
     },
     "execution_count": 4,
     "metadata": {},
     "output_type": "execute_result"
    }
   ],
   "source": [
    "# Read LUFS\n",
    "df_id = pd.read_pickle(f'{path_ms_tables}/_3_rkb_m3u8_purged_lufs.pkl')\n",
    "df_pl_lufs_unique = df_id[~df_id['Name'].str.startswith('._')].copy()\n",
    "print(len(df_pl_lufs_unique))\n",
    "df_pl_lufs_unique.head(3)"
   ]
  },
  {
   "cell_type": "markdown",
   "id": "8df03f89",
   "metadata": {},
   "source": [
    "#### MERGE and check all exist"
   ]
  },
  {
   "cell_type": "code",
   "execution_count": 5,
   "id": "9e3a1c9a",
   "metadata": {},
   "outputs": [
    {
     "name": "stdout",
     "output_type": "stream",
     "text": [
      "5159\n"
     ]
    },
    {
     "data": {
      "text/html": [
       "<div>\n",
       "<style scoped>\n",
       "    .dataframe tbody tr th:only-of-type {\n",
       "        vertical-align: middle;\n",
       "    }\n",
       "\n",
       "    .dataframe tbody tr th {\n",
       "        vertical-align: top;\n",
       "    }\n",
       "\n",
       "    .dataframe thead th {\n",
       "        text-align: right;\n",
       "    }\n",
       "</style>\n",
       "<table border=\"1\" class=\"dataframe\">\n",
       "  <thead>\n",
       "    <tr style=\"text-align: right;\">\n",
       "      <th></th>\n",
       "      <th>track_id_rk</th>\n",
       "      <th>Name</th>\n",
       "      <th>Path</th>\n",
       "      <th>playlist_name</th>\n",
       "      <th>source_dir</th>\n",
       "      <th>vol_lufs</th>\n",
       "    </tr>\n",
       "  </thead>\n",
       "  <tbody>\n",
       "    <tr>\n",
       "      <th>0</th>\n",
       "      <td>354</td>\n",
       "      <td>Jizz - Onyx (Original Mix)</td>\n",
       "      <td>/Volumes/HD_back_UP/ALL_MUSIC/Music_back_up/_1...</td>\n",
       "      <td>10_pastel_BOYZ_dance</td>\n",
       "      <td>TIMELESS_dj_TOOLS_purge</td>\n",
       "      <td>-9.071</td>\n",
       "    </tr>\n",
       "    <tr>\n",
       "      <th>1</th>\n",
       "      <td>254</td>\n",
       "      <td>- Valentino Khan &amp; Alison Wonderland - Anythi...</td>\n",
       "      <td>/Volumes/HD_back_UP/ALL_MUSIC/Music_back_up/_1...</td>\n",
       "      <td>10_pastel_BOYZ_dance</td>\n",
       "      <td>TIMELESS_dj_TOOLS_purge</td>\n",
       "      <td>-8.088</td>\n",
       "    </tr>\n",
       "    <tr>\n",
       "      <th>2</th>\n",
       "      <td>188</td>\n",
       "      <td>Armand Van Helden, ANOTR - Funk Phenomena (Sid...</td>\n",
       "      <td>/Volumes/HD_back_UP/ALL_MUSIC/Music_back_up/_1...</td>\n",
       "      <td>10_pastel_BOYZ_dance</td>\n",
       "      <td>TIMELESS_dj_TOOLS_purge</td>\n",
       "      <td>-8.028</td>\n",
       "    </tr>\n",
       "  </tbody>\n",
       "</table>\n",
       "</div>"
      ],
      "text/plain": [
       "  track_id_rk                                               Name  \\\n",
       "0         354                         Jizz - Onyx (Original Mix)   \n",
       "1         254   - Valentino Khan & Alison Wonderland - Anythi...   \n",
       "2         188  Armand Van Helden, ANOTR - Funk Phenomena (Sid...   \n",
       "\n",
       "                                                Path         playlist_name  \\\n",
       "0  /Volumes/HD_back_UP/ALL_MUSIC/Music_back_up/_1...  10_pastel_BOYZ_dance   \n",
       "1  /Volumes/HD_back_UP/ALL_MUSIC/Music_back_up/_1...  10_pastel_BOYZ_dance   \n",
       "2  /Volumes/HD_back_UP/ALL_MUSIC/Music_back_up/_1...  10_pastel_BOYZ_dance   \n",
       "\n",
       "                source_dir  vol_lufs  \n",
       "0  TIMELESS_dj_TOOLS_purge    -9.071  \n",
       "1  TIMELESS_dj_TOOLS_purge    -8.088  \n",
       "2  TIMELESS_dj_TOOLS_purge    -8.028  "
      ]
     },
     "execution_count": 5,
     "metadata": {},
     "output_type": "execute_result"
    }
   ],
   "source": [
    "#merge\n",
    "df_pl_ALL = df_pl_ALL.merge(df_pl_lufs_unique[['Path', 'vol_lufs']], on='Path', how='left')\n",
    "print(len(df_pl_ALL))\n",
    "df_pl_ALL.head(3)"
   ]
  },
  {
   "cell_type": "code",
   "execution_count": 6,
   "id": "cd6e6880",
   "metadata": {},
   "outputs": [
    {
     "name": "stdout",
     "output_type": "stream",
     "text": [
      "UNIQUE & DUPLICATES based on New name\n",
      "UNIQUE     ::: 1653   \n",
      "DUPLICATES ::: 3506\n",
      "All files paths in all playlists purged _ exist.\n"
     ]
    }
   ],
   "source": [
    "exec(open(f\"_1_ms_check_files_in_m3u8_exist.py\",encoding=\"utf-8\").read()) #paths"
   ]
  },
  {
   "cell_type": "code",
   "execution_count": 7,
   "id": "ffd4fb4d",
   "metadata": {},
   "outputs": [],
   "source": [
    "# EXPORT lufs ALL\n",
    "df_pl_ALL.to_pickle(f'{path_ms_tables}/_4_rkb_m3u8_LUFS_repeated_existing_all.pkl')"
   ]
  },
  {
   "cell_type": "markdown",
   "id": "26d70510",
   "metadata": {},
   "source": [
    "# CLOSED"
   ]
  }
 ],
 "metadata": {
  "kernelspec": {
   "display_name": "Python 3 (ipykernel)",
   "language": "python",
   "name": "python3"
  },
  "language_info": {
   "codemirror_mode": {
    "name": "ipython",
    "version": 3
   },
   "file_extension": ".py",
   "mimetype": "text/x-python",
   "name": "python",
   "nbconvert_exporter": "python",
   "pygments_lexer": "ipython3",
   "version": "3.10.9"
  }
 },
 "nbformat": 4,
 "nbformat_minor": 5
}
