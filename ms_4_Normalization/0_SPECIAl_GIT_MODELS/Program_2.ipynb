{
 "cells": [
  {
   "cell_type": "code",
   "execution_count": 4,
   "id": "10aeb7a5",
   "metadata": {},
   "outputs": [
    {
     "name": "stdout",
     "output_type": "stream",
     "text": [
      "ATTN - > TO start coding in this NOTEBOOK & following FNS :::  run ::: hi_jupy()\n",
      "ATTN at the end RUN > py and cleans py ready to be copied >  runpy()\n",
      "ATTN - > TO get all GLOBAL, libs and functions & ALL_DATA inputs, stats, temp, tables files info > db_paths()\n",
      "ATTN - > TO move files from input to curr_direc > move_files(input_folder_path, curr_direc)\n",
      "ATTN - > TO COPY program > copy_files_and_subdirectories(path_2_copy, dest_direc) --- respects original copied\n",
      "ATTN - > TO get all GAME PLANS TO EXPORT ALPHA and BETA programs  > game_plan()\n",
      "define program_folder_name before running runpy()\n"
     ]
    }
   ],
   "source": [
    "exec(open(f\"/Users/yerik/_apple_source/PY/GLOBAL/_1_paths.py\",encoding=\"utf-8\").read()) #paths\n",
    "#direc= curr_direc ;# hi_jupy() \n",
    "# curr_direc"
   ]
  },
  {
   "cell_type": "code",
   "execution_count": 1,
   "id": "af85d316",
   "metadata": {},
   "outputs": [],
   "source": [
    "# Importing required libraries\n",
    "import torch\n",
    "import soundfile as sf\n",
    "import librosa\n"
   ]
  },
  {
   "cell_type": "code",
   "execution_count": 3,
   "id": "e81d0e34",
   "metadata": {},
   "outputs": [
    {
     "name": "stdout",
     "output_type": "stream",
     "text": [
      "Cloning into 'denoiser'...\n",
      "remote: Enumerating objects: 440, done.\u001b[K\n",
      "remote: Total 440 (delta 0), reused 0 (delta 0), pack-reused 440\u001b[K\n",
      "Receiving objects: 100% (440/440), 74.33 MiB | 3.71 MiB/s, done.\n",
      "Resolving deltas: 100% (195/195), done.\n"
     ]
    }
   ],
   "source": [
    "!git clone https://github.com/facebookresearch/denoiser.git"
   ]
  },
  {
   "cell_type": "code",
   "execution_count": 6,
   "id": "5bc739c0",
   "metadata": {},
   "outputs": [
    {
     "name": "stdout",
     "output_type": "stream",
     "text": [
      "/Users/yerik/_apple_source/PY/JUPY/py2ms/ms_PODCASTS_Business_Plan/DEMOS/denoiser\n",
      "Collecting pesq (from -r requirements.txt (line 6))\n",
      "  Cloning https://github.com/ludlows/python-pesq to /private/var/folders/r1/gtmyxpws2836627xn7_9c5380000gn/T/pip-install-vx21q3br/pesq_f309c178cade477387843487cbf73bf1\n",
      "  Running command git clone --filter=blob:none --quiet https://github.com/ludlows/python-pesq /private/var/folders/r1/gtmyxpws2836627xn7_9c5380000gn/T/pip-install-vx21q3br/pesq_f309c178cade477387843487cbf73bf1\n",
      "  Resolved https://github.com/ludlows/python-pesq to commit 5e230c59a3272fa80d8a6ea0d1e623f3fa560731\n",
      "  Preparing metadata (setup.py) ... \u001b[?25ldone\n",
      "\u001b[?25hCollecting hydra_core==0.11.3 (from -r requirements.txt (line 1))\n",
      "  Downloading hydra_core-0.11.3-py3-none-any.whl (72 kB)\n",
      "\u001b[2K     \u001b[90m━━━━━━━━━━━━━━━━━━━━━━━━━━━━━━━━━━━━━━━\u001b[0m \u001b[32m72.1/72.1 kB\u001b[0m \u001b[31m380.3 kB/s\u001b[0m eta \u001b[36m0:00:00\u001b[0m \u001b[36m0:00:01\u001b[0m\n",
      "\u001b[?25hCollecting hydra_colorlog==0.1.4 (from -r requirements.txt (line 2))\n",
      "  Downloading hydra_colorlog-0.1.4-py3-none-any.whl (4.0 kB)\n",
      "Collecting julius (from -r requirements.txt (line 3))\n",
      "  Using cached julius-0.2.7.tar.gz (59 kB)\n",
      "  Preparing metadata (setup.py) ... \u001b[?25ldone\n",
      "\u001b[?25hRequirement already satisfied: numpy in /Users/yerik/anaconda3/lib/python3.10/site-packages (from -r requirements.txt (line 4)) (1.23.5)\n",
      "Collecting pystoi==0.3.3 (from -r requirements.txt (line 5))\n",
      "  Downloading pystoi-0.3.3.tar.gz (7.0 kB)\n",
      "  Preparing metadata (setup.py) ... \u001b[?25ldone\n",
      "\u001b[?25hRequirement already satisfied: six in /Users/yerik/anaconda3/lib/python3.10/site-packages (from -r requirements.txt (line 7)) (1.16.0)\n",
      "Collecting sounddevice==0.4.0 (from -r requirements.txt (line 8))\n",
      "  Downloading sounddevice-0.4.0-py3.cp32.cp33.cp34.cp35.cp36.cp37.cp38.cp39.pp32.pp33.pp34.pp35.pp36.pp37-none-macosx_10_6_x86_64.whl (78 kB)\n",
      "\u001b[2K     \u001b[90m━━━━━━━━━━━━━━━━━━━━━━━━━━━━━━━━━━━━━━━━\u001b[0m \u001b[32m78.3/78.3 kB\u001b[0m \u001b[31m1.1 MB/s\u001b[0m eta \u001b[36m0:00:00\u001b[0ma \u001b[36m0:00:01\u001b[0m\n",
      "\u001b[?25h\u001b[31mERROR: Could not find a version that satisfies the requirement torchaudio==0.5.1 (from versions: 0.11.0, 0.12.0, 0.12.1, 0.13.0, 0.13.1, 2.0.0, 2.0.1, 2.0.2)\u001b[0m\u001b[31m\n",
      "\u001b[0m\u001b[31mERROR: No matching distribution found for torchaudio==0.5.1\u001b[0m\u001b[31m\n",
      "\u001b[0m"
     ]
    }
   ],
   "source": [
    "%cd denoiser\n",
    "\n",
    "# Step 3: Install any dependencies\n",
    "!pip install -r requirements.txt\n"
   ]
  },
  {
   "cell_type": "code",
   "execution_count": 7,
   "id": "305e7e43",
   "metadata": {},
   "outputs": [
    {
     "name": "stdout",
     "output_type": "stream",
     "text": [
      "Collecting torchaudio\n",
      "  Using cached torchaudio-2.0.2-cp310-cp310-macosx_10_9_x86_64.whl (3.9 MB)\n",
      "Requirement already satisfied: torch==2.0.1 in /Users/yerik/anaconda3/lib/python3.10/site-packages (from torchaudio) (2.0.1)\n",
      "Requirement already satisfied: filelock in /Users/yerik/anaconda3/lib/python3.10/site-packages (from torch==2.0.1->torchaudio) (3.9.0)\n",
      "Requirement already satisfied: typing-extensions in /Users/yerik/anaconda3/lib/python3.10/site-packages (from torch==2.0.1->torchaudio) (4.5.0)\n",
      "Requirement already satisfied: sympy in /Users/yerik/anaconda3/lib/python3.10/site-packages (from torch==2.0.1->torchaudio) (1.12)\n",
      "Requirement already satisfied: networkx in /Users/yerik/anaconda3/lib/python3.10/site-packages (from torch==2.0.1->torchaudio) (3.1)\n",
      "Requirement already satisfied: jinja2 in /Users/yerik/anaconda3/lib/python3.10/site-packages (from torch==2.0.1->torchaudio) (3.1.2)\n",
      "Requirement already satisfied: MarkupSafe>=2.0 in /Users/yerik/anaconda3/lib/python3.10/site-packages (from jinja2->torch==2.0.1->torchaudio) (2.1.1)\n",
      "Requirement already satisfied: mpmath>=0.19 in /Users/yerik/anaconda3/lib/python3.10/site-packages (from sympy->torch==2.0.1->torchaudio) (1.3.0)\n",
      "Installing collected packages: torchaudio\n",
      "Successfully installed torchaudio-2.0.2\n"
     ]
    }
   ],
   "source": [
    "!pip install torchaudio "
   ]
  },
  {
   "cell_type": "code",
   "execution_count": 10,
   "id": "163edebf",
   "metadata": {},
   "outputs": [
    {
     "ename": "ImportError",
     "evalue": "cannot import name 'DemucsStreamer' from 'denoiser' (unknown location)",
     "output_type": "error",
     "traceback": [
      "\u001b[0;31m---------------------------------------------------------------------------\u001b[0m",
      "\u001b[0;31mImportError\u001b[0m                               Traceback (most recent call last)",
      "Cell \u001b[0;32mIn[10], line 2\u001b[0m\n\u001b[1;32m      1\u001b[0m \u001b[38;5;66;03m# Importing the denoiser. Adjust the path according to where the denoiser is located in your system\u001b[39;00m\n\u001b[0;32m----> 2\u001b[0m \u001b[38;5;28;01mfrom\u001b[39;00m \u001b[38;5;21;01mdenoiser\u001b[39;00m \u001b[38;5;28;01mimport\u001b[39;00m DemucsStreamer\n\u001b[1;32m      4\u001b[0m \u001b[38;5;66;03m# Initialize the denoiser\u001b[39;00m\n\u001b[1;32m      5\u001b[0m streamer \u001b[38;5;241m=\u001b[39m DemucsStreamer()\n",
      "\u001b[0;31mImportError\u001b[0m: cannot import name 'DemucsStreamer' from 'denoiser' (unknown location)"
     ]
    }
   ],
   "source": [
    "# Importing the denoiser. Adjust the path according to where the denoiser is located in your system\n",
    "from denoiser.demucs import DemucsStreamer\n",
    "\n",
    "# Initialize the denoiser\n",
    "streamer = DemucsStreamer()\n",
    "\n",
    "# ^^^ path ^^^\n",
    "# Read the noisy audio file. Change 'noisy_audio.wav' to your noisy audio file path.\n",
    "noisy_audio, rate = sf.read(f\"{desk_path}/input/ms_podcast/vr.wav\")\n"
   ]
  },
  {
   "cell_type": "code",
   "execution_count": null,
   "id": "8f8bc3dc",
   "metadata": {},
   "outputs": [],
   "source": []
  },
  {
   "cell_type": "code",
   "execution_count": null,
   "id": "811325b7",
   "metadata": {},
   "outputs": [],
   "source": []
  },
  {
   "cell_type": "code",
   "execution_count": null,
   "id": "ec1edda0",
   "metadata": {},
   "outputs": [],
   "source": []
  },
  {
   "cell_type": "code",
   "execution_count": null,
   "id": "29938e33",
   "metadata": {},
   "outputs": [],
   "source": []
  },
  {
   "cell_type": "code",
   "execution_count": null,
   "id": "2e09a320",
   "metadata": {},
   "outputs": [],
   "source": []
  },
  {
   "cell_type": "code",
   "execution_count": null,
   "id": "7191abaa",
   "metadata": {},
   "outputs": [],
   "source": []
  },
  {
   "cell_type": "code",
   "execution_count": null,
   "id": "3240b690",
   "metadata": {},
   "outputs": [],
   "source": []
  },
  {
   "cell_type": "code",
   "execution_count": null,
   "id": "55f9619e",
   "metadata": {},
   "outputs": [],
   "source": []
  },
  {
   "cell_type": "code",
   "execution_count": null,
   "id": "3eeaa0e9",
   "metadata": {},
   "outputs": [],
   "source": []
  },
  {
   "cell_type": "code",
   "execution_count": null,
   "id": "4aeb31ca",
   "metadata": {},
   "outputs": [],
   "source": []
  },
  {
   "cell_type": "code",
   "execution_count": null,
   "id": "9eccbada",
   "metadata": {},
   "outputs": [],
   "source": []
  },
  {
   "cell_type": "code",
   "execution_count": null,
   "id": "154a4d63",
   "metadata": {},
   "outputs": [],
   "source": []
  }
 ],
 "metadata": {
  "kernelspec": {
   "display_name": "Python 3 (ipykernel)",
   "language": "python",
   "name": "python3"
  },
  "language_info": {
   "codemirror_mode": {
    "name": "ipython",
    "version": 3
   },
   "file_extension": ".py",
   "mimetype": "text/x-python",
   "name": "python",
   "nbconvert_exporter": "python",
   "pygments_lexer": "ipython3",
   "version": "3.10.9"
  }
 },
 "nbformat": 4,
 "nbformat_minor": 5
}
