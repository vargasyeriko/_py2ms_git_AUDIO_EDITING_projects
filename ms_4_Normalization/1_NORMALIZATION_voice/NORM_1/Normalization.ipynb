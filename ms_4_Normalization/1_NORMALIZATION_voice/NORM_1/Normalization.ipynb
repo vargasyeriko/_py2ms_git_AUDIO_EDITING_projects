{
 "cells": [
  {
   "cell_type": "markdown",
   "id": "46ebde2d",
   "metadata": {},
   "source": [
    "# NORMALIZATION"
   ]
  },
  {
   "cell_type": "code",
   "execution_count": null,
   "id": "700d70a4",
   "metadata": {},
   "outputs": [],
   "source": []
  },
  {
   "cell_type": "markdown",
   "id": "8fcfac91",
   "metadata": {},
   "source": [
    "# Applying minimal scaling followed by peak normalization with dynamic range considerations can be a viable approach depending "
   ]
  },
  {
   "cell_type": "code",
   "execution_count": 2,
   "id": "777be796",
   "metadata": {},
   "outputs": [
    {
     "name": "stdout",
     "output_type": "stream",
     "text": [
      "Summary and Conclusions:\n",
      "The audio file was successfully read.\n",
      "A minimal scaling was first applied to the audio data.\n",
      "Following this, a peak normalization with dynamic range was applied.\n",
      "This two-step process allows for nuanced audio processing.\n"
     ]
    }
   ],
   "source": [
    "from scipy.io import wavfile\n",
    "import numpy as np\n",
    "\n",
    "def minimal_scaling(data, factor=0.8):\n",
    "    scaled_data = np.int16(data * factor)\n",
    "    return scaled_data\n",
    "\n",
    "def peak_norm_dynamic(data, dynamic_range=0.95):\n",
    "    peak_value = np.max(np.abs(data))\n",
    "    scaling_factor = dynamic_range * 32767 / peak_value\n",
    "    normalized_data = np.int16(data * scaling_factor)\n",
    "    return normalized_data\n",
    "\n",
    "if __name__ == \"__main__\":\n",
    "    # Read the WAV file\n",
    "    file_path = \"vr.wav\"\n",
    "    # ^^^ path ^^^\n",
    "    sample_rate, data = wavfile.read(file_path)\n",
    "\n",
    "    # Apply minimal scaling\n",
    "    scaled_data = minimal_scaling(data)\n",
    "\n",
    "    # Apply peak normalization with dynamic range\n",
    "    normalized_data = peak_norm_dynamic(scaled_data)\n",
    "\n",
    "    # Save the processed audio to a new WAV file\n",
    "    output_path = \"1_min_scaling_dyn_range_peak.wav\"\n",
    "    # ^^^ path ^^^\n",
    "    wavfile.write(output_path, sample_rate, normalized_data)\n",
    "\n",
    "    print(\"Summary and Conclusions:\")\n",
    "    print(\"The audio file was successfully read.\")\n",
    "    print(\"A minimal scaling was first applied to the audio data.\")\n",
    "    print(\"Following this, a peak normalization with dynamic range was applied.\")\n",
    "    print(\"This two-step process allows for nuanced audio processing.\")\n"
   ]
  },
  {
   "cell_type": "code",
   "execution_count": null,
   "id": "420f0d70",
   "metadata": {},
   "outputs": [],
   "source": []
  },
  {
   "cell_type": "code",
   "execution_count": null,
   "id": "e93938ea",
   "metadata": {},
   "outputs": [],
   "source": []
  },
  {
   "cell_type": "code",
   "execution_count": null,
   "id": "1a21e237",
   "metadata": {},
   "outputs": [],
   "source": []
  },
  {
   "cell_type": "code",
   "execution_count": null,
   "id": "7b12d259",
   "metadata": {},
   "outputs": [],
   "source": []
  },
  {
   "cell_type": "code",
   "execution_count": 4,
   "id": "a6a40aa9",
   "metadata": {},
   "outputs": [
    {
     "name": "stdout",
     "output_type": "stream",
     "text": [
      "Audio variation level: low_variation\n"
     ]
    }
   ],
   "source": [
    "from scipy.io import wavfile\n",
    "import numpy as np\n",
    "\n",
    "def read_and_classify_wav(file_path):\n",
    "    # ^^^ path ^^^\n",
    "    sample_rate, data = wavfile.read(file_path)\n",
    "    \n",
    "    # Calculate the standard deviation of the audio data\n",
    "    std_dev = np.std(data)\n",
    "    \n",
    "    # Classify the variation based on the standard deviation\n",
    "    if std_dev < 2000:\n",
    "        variation = \"low_variation\"\n",
    "    elif std_dev < 4000:\n",
    "        variation = \"medium_variation\"\n",
    "    else:\n",
    "        variation = \"high_variation\"\n",
    "\n",
    "    return sample_rate, data, variation\n",
    "\n",
    "def normalize_audio(data, variation):\n",
    "    if variation == \"low_variation\":\n",
    "        scaling_factor = 0.5\n",
    "    elif variation == \"medium_variation\":\n",
    "        scaling_factor = 0.7\n",
    "    else: # high_variation\n",
    "        scaling_factor = 1.0\n",
    "    \n",
    "    # Normalize the audio data\n",
    "    normalized_data = np.int16(data / np.max(np.abs(data)) * 32767 * scaling_factor)\n",
    "    \n",
    "    return normalized_data\n",
    "\n",
    "if __name__ == \"__main__\":\n",
    "    file_path = \"vr.wav\"\n",
    "    # ^^^ path ^^^\n",
    "    sample_rate, data, variation = read_and_classify_wav(file_path)\n",
    "    print(f\"Audio variation level: {variation}\")\n",
    "\n",
    "    normalized_data = normalize_audio(data, variation)\n",
    "    # Save the normalized audio back to a new WAV file\n",
    "    wavfile.write(\"normalized_audio.wav\", sample_rate, normalized_data)\n",
    "    # ^^^ path ^^^\n"
   ]
  },
  {
   "cell_type": "code",
   "execution_count": null,
   "id": "a3cd616f",
   "metadata": {},
   "outputs": [],
   "source": []
  },
  {
   "cell_type": "code",
   "execution_count": 5,
   "id": "9e9c29f1",
   "metadata": {},
   "outputs": [
    {
     "name": "stdout",
     "output_type": "stream",
     "text": [
      "Summary and Conclusions:\n",
      "The audio file was successfully read.\n",
      "A minimal scaling was first applied to the audio data.\n",
      "Following this, a peak normalization with dynamic range was applied.\n",
      "This two-step process allows for nuanced audio processing.\n"
     ]
    }
   ],
   "source": [
    "from scipy.io import wavfile\n",
    "import numpy as np\n",
    "\n",
    "def minimal_scaling(data, factor=0.8):\n",
    "    scaled_data = np.int16(data * factor)\n",
    "    return scaled_data\n",
    "\n",
    "def peak_norm_dynamic(data, dynamic_range=0.95):\n",
    "    peak_value = np.max(np.abs(data))\n",
    "    scaling_factor = dynamic_range * 32767 / peak_value\n",
    "    normalized_data = np.int16(data * scaling_factor)\n",
    "    return normalized_data\n",
    "\n",
    "if __name__ == \"__main__\":\n",
    "    # Read the WAV file\n",
    "    file_path = \"vr.wav\" \n",
    "    # ^^^ path ^^^\n",
    "    sample_rate, data = wavfile.read(file_path)\n",
    "\n",
    "    # Apply minimal scaling\n",
    "    scaled_data = minimal_scaling(data)\n",
    "\n",
    "    # Apply peak normalization with dynamic range\n",
    "    normalized_data = peak_norm_dynamic(scaled_data)\n",
    "\n",
    "    # Save the processed audio to a new WAV file\n",
    "    output_path = \"processed_audio.wav\"\n",
    "    # ^^^ path ^^^\n",
    "    wavfile.write(output_path, sample_rate, normalized_data)\n",
    "\n",
    "    print(\"Summary and Conclusions:\")\n",
    "    print(\"The audio file was successfully read.\")\n",
    "    print(\"A minimal scaling was first applied to the audio data.\")\n",
    "    print(\"Following this, a peak normalization with dynamic range was applied.\")\n",
    "    print(\"This two-step process allows for nuanced audio processing.\")\n"
   ]
  },
  {
   "cell_type": "code",
   "execution_count": null,
   "id": "ad6e24a8",
   "metadata": {},
   "outputs": [],
   "source": []
  }
 ],
 "metadata": {
  "kernelspec": {
   "display_name": "Python 3 (ipykernel)",
   "language": "python",
   "name": "python3"
  },
  "language_info": {
   "codemirror_mode": {
    "name": "ipython",
    "version": 3
   },
   "file_extension": ".py",
   "mimetype": "text/x-python",
   "name": "python",
   "nbconvert_exporter": "python",
   "pygments_lexer": "ipython3",
   "version": "3.8.18"
  }
 },
 "nbformat": 4,
 "nbformat_minor": 5
}
