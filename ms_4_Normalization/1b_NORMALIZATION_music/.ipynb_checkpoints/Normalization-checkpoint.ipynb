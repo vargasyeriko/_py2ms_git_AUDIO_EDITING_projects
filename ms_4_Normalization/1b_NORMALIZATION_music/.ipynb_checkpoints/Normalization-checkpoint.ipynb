{
 "cells": [
  {
   "cell_type": "markdown",
   "id": "1fad86ae",
   "metadata": {
    "jp-MarkdownHeadingCollapsed": true
   },
   "source": [
    "# NORMALIZATION by Yeriko Vargas"
   ]
  },
  {
   "cell_type": "markdown",
   "id": "80c0b95a",
   "metadata": {},
   "source": [
    "# before Normilizing \n",
    "Dynamic Range Compression\n",
    "Applying dynamic range compression before or after normalization can also help. Dynamic range compression reduces the gap between the loudest and the softest parts of the audio, making it less likely that normalization will introduce noise."
   ]
  },
  {
   "cell_type": "markdown",
   "id": "625490fd",
   "metadata": {},
   "source": [
    "### High Level of Background Noise:\n",
    "Root Mean Square (RMS) Normalization with with Gain Control  *****\n",
    "\n",
    "In cases of high background noise, RMS normalization can be effective. This method balances the audio based on the square root of the mean square of the audio signal, taking both signal and noise into account. This type of normalization doesn't overly amplify the noise but ensures that the voice in the recording is sufficiently loud."
   ]
  },
  {
   "cell_type": "markdown",
   "id": "576cf3e2",
   "metadata": {},
   "source": [
    "### Medium Level of Background Noise:\n",
    "Peak Normalization with Dynamic Range ***\n",
    "\n",
    "Dynamic Range Compression\n",
    "Applying dynamic range compression before or after normalization can also help. Dynamic range compression reduces the gap between the loudest and the softest parts of the audio, making it less likely that normalization will introduce noise.\n",
    "\n",
    "When you have a moderate amount of background noise, peak normalization could be a good option. It adjusts the gain so that the highest amplitude in the audio reaches a specified level. This ensures that you're not losing any information while preparing the audio for further processing."
   ]
  },
  {
   "cell_type": "markdown",
   "id": "bc21fd3d",
   "metadata": {},
   "source": [
    "### Low Level of Background Noise or Clean Audio:\n",
    "Z-Score Normalization with Pre-Filtering *\n",
    "\n",
    "For relatively clean audio, Z-score normalization can be effective. It centers the audio signal around zero and scales it based on its standard deviation. This is particularly useful when the audio is part of a larger dataset with varying quality, as it brings everything to a standard range."
   ]
  },
  {
   "cell_type": "markdown",
   "id": "c00ef711",
   "metadata": {},
   "source": [
    "# 1_ check Variation level - later on do it by pieces of audio and First NORM"
   ]
  },
  {
   "cell_type": "code",
   "execution_count": 1,
   "id": "75645cf7-67a2-4693-ba67-47f08093a167",
   "metadata": {},
   "outputs": [],
   "source": [
    "from _ms_NORM_types import wav_norm_mod_1 ,wav_norm_mod_2#,wav_norm_pick_mod_2"
   ]
  },
  {
   "cell_type": "code",
   "execution_count": 4,
   "id": "4e44046d-ea15-4633-acd1-9f8a18664f52",
   "metadata": {},
   "outputs": [
    {
     "name": "stdout",
     "output_type": "stream",
     "text": [
      "Summary and Conclusions:\n",
      "Sample Rate: 44100\n",
      "Audio variation level: low_variation\n",
      "Scaling Factor Used: 0.5\n",
      "The audio file was successfully processed.\n"
     ]
    }
   ],
   "source": [
    "###################################\n",
    "file_path= '1_raw_.wav'\n",
    "outfile_path_1 = '2_norm_1_.wav'\n",
    "\n",
    "outfile_path_2 = '2_norm_2_.wav'\n",
    "###################################\n",
    "\n",
    "sample_rate, variation, scaling_factor = wav_norm_mod_1(file_path, outfile_path_1)\n",
    "\n",
    "print(\"Summary and Conclusions:\")\n",
    "print(f\"Sample Rate: {sample_rate}\")\n",
    "print(f\"Audio variation level: {variation}\")\n",
    "print(f\"Scaling Factor Used: {scaling_factor}\")\n",
    "print(\"The audio file was successfully processed.\")"
   ]
  },
  {
   "cell_type": "markdown",
   "id": "9014dba7",
   "metadata": {},
   "source": [
    "# 2 _second normalization is dynamic -> try other combinations in the future"
   ]
  },
  {
   "cell_type": "code",
   "execution_count": 5,
   "id": "dd8635c7-80cc-491f-b70a-9d15c1a342ff",
   "metadata": {},
   "outputs": [
    {
     "name": "stdout",
     "output_type": "stream",
     "text": [
      "Choose the type of normalization:\n",
      "1: Z-Score Normalization with Pre-Filtering         _for_  *     LOW Level of Background Noise\n",
      "2: Peak Normalization with Dynamic Range Compression_for_  ***   MID Level of Background Noise\n",
      "3: RMS Normalization with Gain Control              _for_  ***** HIGH Level of Background Noise \n"
     ]
    },
    {
     "name": "stdin",
     "output_type": "stream",
     "text": [
      "Enter the number corresponding to your choice:  3\n"
     ]
    },
    {
     "name": "stdout",
     "output_type": "stream",
     "text": [
      "\n",
      "\n",
      " NORM TYPE rms_norm_gain_control\n"
     ]
    }
   ],
   "source": [
    "\n",
    "wav_norm_mod_2(file_path, outfile_path_2)"
   ]
  },
  {
   "cell_type": "code",
   "execution_count": 9,
   "id": "98b7bf60-20b3-40e4-b7dd-e1969d2f7a70",
   "metadata": {},
   "outputs": [],
   "source": [
    "###############################"
   ]
  },
  {
   "cell_type": "markdown",
   "id": "6eec102d",
   "metadata": {},
   "source": [
    "Conclusions\n",
    "The code successfully reads a WAV audio file and calculates its standard deviation to determine its amplitude variation.\n",
    "Depending on the level of amplitude variation (low, medium, high), the audio data is normalized using a specific scaling factor (0.5, 0.7, 1.0 respectively).\n",
    "This approach allows for a more nuanced normalization process, taking into account the inherent properties of the audio file.\n",
    "By following this process, you're setting the stage for further audio processing, like LUFS limiting or vocal extraction, to operate more effectively on a normalized and classified audio dataset.\n",
    "\n"
   ]
  },
  {
   "cell_type": "markdown",
   "id": "05cb0767-fa5b-4d1f-9850-7bed5d297bcb",
   "metadata": {},
   "source": [
    "# FUNCTIONS"
   ]
  },
  {
   "cell_type": "code",
   "execution_count": 6,
   "id": "10a53fa5",
   "metadata": {},
   "outputs": [
    {
     "name": "stdout",
     "output_type": "stream",
     "text": [
      "Overwriting _ms_NORM_types.py\n"
     ]
    }
   ],
   "source": [
    "%%writefile _ms_NORM_types.py\n",
    "###############################################################\n",
    "\n",
    "from scipy.io import wavfile\n",
    "import numpy as np\n",
    "\n",
    "def wav_norm_mod_1(file_path, output_path):\n",
    "    # Read WAV file\n",
    "    sample_rate, data = wavfile.read(file_path)\n",
    "    \n",
    "    # Classify the variation\n",
    "    std_dev = np.std(data)\n",
    "    if std_dev < 2000:\n",
    "        variation = \"low_variation\"\n",
    "        scaling_factor = 0.5\n",
    "    elif std_dev < 4000:\n",
    "        variation = \"medium_variation\"\n",
    "        scaling_factor = 0.7\n",
    "    else:\n",
    "        variation = \"high_variation\"\n",
    "        scaling_factor = 1.0\n",
    "\n",
    "    # Normalize the audio data\n",
    "    normalized_data = np.int16(data / np.max(np.abs(data)) * 32767 * scaling_factor)\n",
    "\n",
    "    # Save the normalized audio\n",
    "    wavfile.write(output_path, sample_rate, normalized_data)\n",
    "\n",
    "    # Return summary information\n",
    "    return sample_rate, variation, scaling_factor\n",
    "\n",
    "###############################################################\n",
    "import soundfile as sf\n",
    "import numpy as np\n",
    "from scipy.signal import butter, lfilter\n",
    "\n",
    "def wav_norm_mod_2(file_path, outfile_path):\n",
    "    def rms_normalization(audio_signal, gain=0.9):\n",
    "        rms_value = np.sqrt(np.mean(np.square(audio_signal)))\n",
    "        normalized_audio = gain * (audio_signal / rms_value)\n",
    "        return normalized_audio\n",
    "    \n",
    "    def peak_normalization(audio_signal):\n",
    "        peak_value = np.max(np.abs(audio_signal))\n",
    "        return audio_signal / peak_value\n",
    "    \n",
    "    def z_score_normalization(audio_signal):\n",
    "        mean = np.mean(audio_signal)\n",
    "        std = np.std(audio_signal)\n",
    "        return (audio_signal - mean) / std\n",
    "    \n",
    "    def compress_dynamic_range(audio_signal, threshold=0.015, ratio=.002):\n",
    "        compressed_audio = np.where(np.abs(audio_signal) > threshold,\n",
    "                                    threshold + ((np.abs(audio_signal) - threshold) / ratio),\n",
    "                                    audio_signal)\n",
    "        return np.sign(audio_signal) * compressed_audio\n",
    "    \n",
    "    def butter_lowpass_filter(audio_signal, cutoff_freq, sample_rate):\n",
    "        b, a = butter(6, cutoff_freq / (0.5 * sample_rate), btype='low')\n",
    "        return lfilter(b, a, audio_signal)\n",
    "    \n",
    "    #def wav_norm_pick_mod_2(file_path, outfile_path):\n",
    "    # ^^^ path ^^^\n",
    "    audio_data, sample_rate = sf.read(file_path)\n",
    "    \n",
    "    print(\"Choose the type of normalization:\")\n",
    "    print(\"1: Z-Score Normalization with Pre-Filtering         _for_  *     LOW Level of Background Noise\")\n",
    "    print(\"2: Peak Normalization with Dynamic Range Compression_for_  ***   MID Level of Background Noise\")\n",
    "    print(\"3: RMS Normalization with Gain Control              _for_  ***** HIGH Level of Background Noise \")\n",
    "    \n",
    "\n",
    "    \n",
    "    choice = input(\"Enter the number corresponding to your choice: \")\n",
    "\n",
    "    if choice == '1':\n",
    "        filtered_audio = butter_lowpass_filter(audio_data, cutoff_freq=3000, sample_rate=sample_rate)\n",
    "        normalized_audio = z_score_normalization(filtered_audio)\n",
    "        norm_type = 'z_score_pre_filtering'\n",
    "        \n",
    "    elif choice == '2':\n",
    "        compressed_audio = compress_dynamic_range(audio_data)\n",
    "        normalized_audio = peak_normalization(compressed_audio)\n",
    "        norm_type = 'peak_norm_dynamic'\n",
    "\n",
    "    elif choice == '3':\n",
    "        normalized_audio = rms_normalization(audio_data, gain=0.7)\n",
    "        norm_type = 'rms_norm_gain_control'\n",
    "\n",
    "    else:\n",
    "        print(\"Invalid choice. Exiting.\")\n",
    "        exit()\n",
    "\n",
    "    # ^^^ path ^^^\n",
    "    sf.write(outfile_path, normalized_audio, sample_rate)\n",
    "    print(f'\\n\\n NORM TYPE {norm_type}' )\n",
    "    \n",
    "########################################################"
   ]
  },
  {
   "cell_type": "code",
   "execution_count": null,
   "id": "f4eb7e6a-dc37-444a-b899-2e878875303c",
   "metadata": {},
   "outputs": [],
   "source": []
  }
 ],
 "metadata": {
  "kernelspec": {
   "display_name": "Python 3 (ipykernel)",
   "language": "python",
   "name": "python3"
  },
  "language_info": {
   "codemirror_mode": {
    "name": "ipython",
    "version": 3
   },
   "file_extension": ".py",
   "mimetype": "text/x-python",
   "name": "python",
   "nbconvert_exporter": "python",
   "pygments_lexer": "ipython3",
   "version": "3.8.18"
  }
 },
 "nbformat": 4,
 "nbformat_minor": 5
}
