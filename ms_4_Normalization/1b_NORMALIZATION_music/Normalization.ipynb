{
 "cells": [
  {
   "cell_type": "markdown",
   "id": "1fad86ae",
   "metadata": {
    "jp-MarkdownHeadingCollapsed": true
   },
   "source": [
    "# NORMALIZATION by Yeriko Vargas"
   ]
  },
  {
   "cell_type": "markdown",
   "id": "80c0b95a",
   "metadata": {},
   "source": [
    "# before Normilizing \n",
    "Dynamic Range Compression\n",
    "Applying dynamic range compression before or after normalization can also help. Dynamic range compression reduces the gap between the loudest and the softest parts of the audio, making it less likely that normalization will introduce noise."
   ]
  },
  {
   "cell_type": "markdown",
   "id": "625490fd",
   "metadata": {},
   "source": [
    "### High Level of Background Noise:\n",
    "Root Mean Square (RMS) Normalization with with Gain Control  *****\n",
    "\n",
    "In cases of high background noise, RMS normalization can be effective. This method balances the audio based on the square root of the mean square of the audio signal, taking both signal and noise into account. This type of normalization doesn't overly amplify the noise but ensures that the voice in the recording is sufficiently loud."
   ]
  },
  {
   "cell_type": "markdown",
   "id": "576cf3e2",
   "metadata": {},
   "source": [
    "### Medium Level of Background Noise:\n",
    "Peak Normalization with Dynamic Range ***\n",
    "\n",
    "Dynamic Range Compression\n",
    "Applying dynamic range compression before or after normalization can also help. Dynamic range compression reduces the gap between the loudest and the softest parts of the audio, making it less likely that normalization will introduce noise.\n",
    "\n",
    "When you have a moderate amount of background noise, peak normalization could be a good option. It adjusts the gain so that the highest amplitude in the audio reaches a specified level. This ensures that you're not losing any information while preparing the audio for further processing."
   ]
  },
  {
   "cell_type": "markdown",
   "id": "bc21fd3d",
   "metadata": {},
   "source": [
    "### Low Level of Background Noise or Clean Audio:\n",
    "Z-Score Normalization with Pre-Filtering *\n",
    "\n",
    "For relatively clean audio, Z-score normalization can be effective. It centers the audio signal around zero and scales it based on its standard deviation. This is particularly useful when the audio is part of a larger dataset with varying quality, as it brings everything to a standard range."
   ]
  },
  {
   "cell_type": "markdown",
   "id": "c00ef711",
   "metadata": {},
   "source": [
    "# 1_ check Variation level - later on do it by pieces of audio and First NORM"
   ]
  },
  {
   "cell_type": "code",
   "execution_count": 1,
   "id": "75645cf7-67a2-4693-ba67-47f08093a167",
   "metadata": {},
   "outputs": [],
   "source": [
    "from _ms_NORM_types import wav_norm_mod_1 ,wav_norm_mod_2#,wav_norm_pick_mod_2"
   ]
  },
  {
   "cell_type": "code",
   "execution_count": 2,
   "id": "4e44046d-ea15-4633-acd1-9f8a18664f52",
   "metadata": {},
   "outputs": [
    {
     "name": "stdout",
     "output_type": "stream",
     "text": [
      "Summary and Conclusions:\n",
      "Sample Rate: 44100\n",
      "Audio variation level: low_variation\n",
      "Scaling Factor Used: 0.5\n",
      "The audio file was successfully processed.\n"
     ]
    }
   ],
   "source": [
    "###################################\n",
    "file_path= '1_raw_.wav'\n",
    "outfile_path_1 = '2_norm_1_.wav'\n",
    "\n",
    "outfile_path_2 = '2_norm_2_.wav'\n",
    "###################################\n",
    "\n",
    "sample_rate, variation, scaling_factor = wav_norm_mod_1(file_path, outfile_path_1)\n",
    "\n",
    "print(\"Summary and Conclusions:\")\n",
    "print(f\"Sample Rate: {sample_rate}\")\n",
    "print(f\"Audio variation level: {variation}\")\n",
    "print(f\"Scaling Factor Used: {scaling_factor}\")\n",
    "print(\"The audio file was successfully processed.\")"
   ]
  },
  {
   "cell_type": "markdown",
   "id": "9014dba7",
   "metadata": {},
   "source": [
    "# 2 _second normalization is dynamic -> try other combinations in the future"
   ]
  },
  {
   "cell_type": "code",
   "execution_count": 7,
   "id": "dd8635c7-80cc-491f-b70a-9d15c1a342ff",
   "metadata": {},
   "outputs": [
    {
     "name": "stdout",
     "output_type": "stream",
     "text": [
      "Choose the type of normalization:\n",
      "1: Z-Score Normalization with Pre-Filtering         _for_  *     LOW Level of Background Noise\n",
      "2: Peak Normalization with Dynamic Range Compression_for_  ***   MID Level of Background Noise\n",
      "3: RMS Normalization with Gain Control              _for_  ***** HIGH Level of Background Noise \n"
     ]
    },
    {
     "name": "stdin",
     "output_type": "stream",
     "text": [
      "Enter the number corresponding to your choice:  3\n"
     ]
    },
    {
     "name": "stdout",
     "output_type": "stream",
     "text": [
      "\n",
      "\n",
      " NORM TYPE rms_norm_gain_control\n"
     ]
    }
   ],
   "source": [
    "\n",
    "wav_norm_mod_2(file_path, outfile_path_2)"
   ]
  },
  {
   "cell_type": "code",
   "execution_count": 9,
   "id": "98b7bf60-20b3-40e4-b7dd-e1969d2f7a70",
   "metadata": {},
   "outputs": [],
   "source": [
    "###############################"
   ]
  },
  {
   "cell_type": "markdown",
   "id": "6eec102d",
   "metadata": {},
   "source": [
    "Conclusions\n",
    "The code successfully reads a WAV audio file and calculates its standard deviation to determine its amplitude variation.\n",
    "Depending on the level of amplitude variation (low, medium, high), the audio data is normalized using a specific scaling factor (0.5, 0.7, 1.0 respectively).\n",
    "This approach allows for a more nuanced normalization process, taking into account the inherent properties of the audio file.\n",
    "By following this process, you're setting the stage for further audio processing, like LUFS limiting or vocal extraction, to operate more effectively on a normalized and classified audio dataset.\n",
    "\n"
   ]
  },
  {
   "cell_type": "markdown",
   "id": "05cb0767-fa5b-4d1f-9850-7bed5d297bcb",
   "metadata": {},
   "source": [
    "# FUNCTIONS"
   ]
  },
  {
   "cell_type": "code",
   "execution_count": null,
   "id": "f4eb7e6a-dc37-444a-b899-2e878875303c",
   "metadata": {},
   "outputs": [],
   "source": []
  }
 ],
 "metadata": {
  "kernelspec": {
   "display_name": "Python 3 (ipykernel)",
   "language": "python",
   "name": "python3"
  },
  "language_info": {
   "codemirror_mode": {
    "name": "ipython",
    "version": 3
   },
   "file_extension": ".py",
   "mimetype": "text/x-python",
   "name": "python",
   "nbconvert_exporter": "python",
   "pygments_lexer": "ipython3",
   "version": "3.8.18"
  }
 },
 "nbformat": 4,
 "nbformat_minor": 5
}
