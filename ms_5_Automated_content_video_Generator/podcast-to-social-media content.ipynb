{
 "cells": [
  {
   "cell_type": "code",
   "execution_count": 1,
   "id": "4998de93",
   "metadata": {},
   "outputs": [
    {
     "name": "stdout",
     "output_type": "stream",
     "text": [
      "ATTN - > TO start coding in this NOTEBOOK & following FNS :::  run ::: hi_jupy()\n",
      "ATTN at the end RUN > py and cleans py ready to be copied >  runpy()\n",
      "ATTN - > TO get all GLOBAL, libs and functions & ALL_DATA inputs, stats, temp, tables files info > db_paths()\n",
      "ATTN - > TO move files from input to curr_direc > move_files(input_folder_path, curr_direc)\n",
      "ATTN - > TO COPY program > copy_files_and_subdirectories(path_2_copy, dest_direc) --- respects original copied\n",
      "ATTN - > TO get all GAME PLANS TO EXPORT ALPHA and BETA programs  > game_plan()\n",
      "define program_folder_name before running runpy()\n"
     ]
    }
   ],
   "source": [
    "exec(open(f\"/Users/yerik/_apple_source/PY/GLOBAL/_1_paths.py\",encoding=\"utf-8\").read()) #paths\n",
    "exec(open(f\"fn.py\",encoding=\"utf-8\").read())"
   ]
  },
  {
   "cell_type": "markdown",
   "id": "cdaca5fe",
   "metadata": {},
   "source": [
    "# CUTS AUDIO INTO N PIECES"
   ]
  },
  {
   "cell_type": "code",
   "execution_count": 2,
   "id": "d3e41713",
   "metadata": {},
   "outputs": [
    {
     "name": "stdout",
     "output_type": "stream",
     "text": [
      "Number of pieces :::20\n"
     ]
    }
   ],
   "source": [
    "\n",
    "# Set parameters\n",
    "input_file = f\"ready_vr.wav\"   # Input .wav file\n",
    "num_pieces = int(input('Number of pieces :::')) \n",
    "output_folder = f\"output_audio\"  # Folder to store the cut pieces\n",
    "\n",
    "# Execute function\n",
    "cut_and_export_audio(input_file, num_pieces, output_folder) #----------------------------\n",
    "\n"
   ]
  },
  {
   "cell_type": "markdown",
   "id": "24e3a16b",
   "metadata": {},
   "source": [
    "### FN: makes video of graphs from audio data"
   ]
  },
  {
   "cell_type": "code",
   "execution_count": 3,
   "id": "9ce33bce",
   "metadata": {},
   "outputs": [],
   "source": [
    "# MANUAL\n",
    "# piece_num = \"6\"\n",
    "# #Do a for loop to thsi following so it takes all the aaudio files from 1 to the one we decided to chop\n",
    "# input_audio_path = f\"output_audio/piece_{piece_num}.wav\"  #choose what is what\n",
    "# output_video_path = f\"output_vids/video_{piece_num}.mp4\"\n",
    "\n",
    "# ^^^ path ^^^\n",
    "#background_image_path =  f\"yodj_2.jpg\"\n",
    "\n",
    "#plot_color ='white'\n",
    "#make_vid_freq_graph() #MANUAL\n",
    "\n",
    "\n",
    "#working with fire set hype now"
   ]
  },
  {
   "cell_type": "code",
   "execution_count": null,
   "id": "b21eea9d",
   "metadata": {},
   "outputs": [
    {
     "name": "stdout",
     "output_type": "stream",
     "text": [
      "Moviepy - Building video output_vids/video_1_white.mp4.\n",
      "Moviepy - Writing video output_vids/video_1_white.mp4\n",
      "\n"
     ]
    },
    {
     "name": "stderr",
     "output_type": "stream",
     "text": [
      "                                                                                \r"
     ]
    },
    {
     "name": "stdout",
     "output_type": "stream",
     "text": [
      "Moviepy - Done !\n",
      "Moviepy - video ready output_vids/video_1_white.mp4\n",
      "VIDEO --> 1 with color white and background back_pic_4.png ---> 1 ::: DONE :)\n",
      "Moviepy - Building video output_vids/video_2_blue.mp4.\n",
      "Moviepy - Writing video output_vids/video_2_blue.mp4\n",
      "\n"
     ]
    },
    {
     "name": "stderr",
     "output_type": "stream",
     "text": [
      "                                                                                \r"
     ]
    },
    {
     "name": "stdout",
     "output_type": "stream",
     "text": [
      "Moviepy - Done !\n",
      "Moviepy - video ready output_vids/video_2_blue.mp4\n",
      "VIDEO --> 2 with color blue and background back_pic_4.png ---> 2 ::: DONE :)\n",
      "Moviepy - Building video output_vids/video_3_green.mp4.\n",
      "Moviepy - Writing video output_vids/video_3_green.mp4\n",
      "\n"
     ]
    },
    {
     "name": "stderr",
     "output_type": "stream",
     "text": [
      "                                                                                \r"
     ]
    },
    {
     "name": "stdout",
     "output_type": "stream",
     "text": [
      "Moviepy - Done !\n",
      "Moviepy - video ready output_vids/video_3_green.mp4\n",
      "VIDEO --> 3 with color green and background back_pic_4.png ---> 3 ::: DONE :)\n",
      "Moviepy - Building video output_vids/video_4_yellow.mp4.\n",
      "Moviepy - Writing video output_vids/video_4_yellow.mp4\n",
      "\n"
     ]
    },
    {
     "name": "stderr",
     "output_type": "stream",
     "text": [
      "                                                                                \r"
     ]
    },
    {
     "name": "stdout",
     "output_type": "stream",
     "text": [
      "Moviepy - Done !\n",
      "Moviepy - video ready output_vids/video_4_yellow.mp4\n",
      "VIDEO --> 4 with color yellow and background back_pic_4.png ---> 4 ::: DONE :)\n",
      "Moviepy - Building video output_vids/video_5_purple.mp4.\n",
      "Moviepy - Writing video output_vids/video_5_purple.mp4\n",
      "\n"
     ]
    },
    {
     "name": "stderr",
     "output_type": "stream",
     "text": [
      "                                                                                \r"
     ]
    },
    {
     "name": "stdout",
     "output_type": "stream",
     "text": [
      "Moviepy - Done !\n",
      "Moviepy - video ready output_vids/video_5_purple.mp4\n",
      "VIDEO --> 5 with color purple and background back_pic_4.png ---> 5 ::: DONE :)\n",
      "Moviepy - Building video output_vids/video_6_white.mp4.\n",
      "Moviepy - Writing video output_vids/video_6_white.mp4\n",
      "\n"
     ]
    },
    {
     "name": "stderr",
     "output_type": "stream",
     "text": [
      "                                                                                \r"
     ]
    },
    {
     "name": "stdout",
     "output_type": "stream",
     "text": [
      "Moviepy - Done !\n",
      "Moviepy - video ready output_vids/video_6_white.mp4\n",
      "VIDEO --> 6 with color white and background back_pic_4.png ---> 6 ::: DONE :)\n",
      "Moviepy - Building video output_vids/video_7_blue.mp4.\n",
      "Moviepy - Writing video output_vids/video_7_blue.mp4\n",
      "\n"
     ]
    },
    {
     "name": "stderr",
     "output_type": "stream",
     "text": [
      "                                                                                \r"
     ]
    },
    {
     "name": "stdout",
     "output_type": "stream",
     "text": [
      "Moviepy - Done !\n",
      "Moviepy - video ready output_vids/video_7_blue.mp4\n",
      "VIDEO --> 7 with color blue and background back_pic_4.png ---> 7 ::: DONE :)\n",
      "Moviepy - Building video output_vids/video_8_green.mp4.\n",
      "Moviepy - Writing video output_vids/video_8_green.mp4\n",
      "\n"
     ]
    },
    {
     "name": "stderr",
     "output_type": "stream",
     "text": [
      "                                                                                \r"
     ]
    },
    {
     "name": "stdout",
     "output_type": "stream",
     "text": [
      "Moviepy - Done !\n",
      "Moviepy - video ready output_vids/video_8_green.mp4\n",
      "VIDEO --> 8 with color green and background back_pic_4.png ---> 8 ::: DONE :)\n",
      "Moviepy - Building video output_vids/video_9_yellow.mp4.\n",
      "Moviepy - Writing video output_vids/video_9_yellow.mp4\n",
      "\n"
     ]
    },
    {
     "name": "stderr",
     "output_type": "stream",
     "text": [
      "                                                                                \r"
     ]
    },
    {
     "name": "stdout",
     "output_type": "stream",
     "text": [
      "Moviepy - Done !\n",
      "Moviepy - video ready output_vids/video_9_yellow.mp4\n",
      "VIDEO --> 9 with color yellow and background back_pic_4.png ---> 9 ::: DONE :)\n",
      "Moviepy - Building video output_vids/video_10_purple.mp4.\n",
      "Moviepy - Writing video output_vids/video_10_purple.mp4\n",
      "\n"
     ]
    },
    {
     "name": "stderr",
     "output_type": "stream",
     "text": [
      "                                                                                \r"
     ]
    },
    {
     "name": "stdout",
     "output_type": "stream",
     "text": [
      "Moviepy - Done !\n",
      "Moviepy - video ready output_vids/video_10_purple.mp4\n",
      "VIDEO --> 10 with color purple and background back_pic_4.png ---> 10 ::: DONE :)\n",
      "Moviepy - Building video output_vids/video_11_white.mp4.\n",
      "Moviepy - Writing video output_vids/video_11_white.mp4\n",
      "\n"
     ]
    },
    {
     "name": "stderr",
     "output_type": "stream",
     "text": [
      "                                                                                \r"
     ]
    },
    {
     "name": "stdout",
     "output_type": "stream",
     "text": [
      "Moviepy - Done !\n",
      "Moviepy - video ready output_vids/video_11_white.mp4\n",
      "VIDEO --> 11 with color white and background back_pic_4.png ---> 11 ::: DONE :)\n",
      "Moviepy - Building video output_vids/video_12_blue.mp4.\n",
      "Moviepy - Writing video output_vids/video_12_blue.mp4\n",
      "\n"
     ]
    },
    {
     "name": "stderr",
     "output_type": "stream",
     "text": [
      "                                                                                \r"
     ]
    },
    {
     "name": "stdout",
     "output_type": "stream",
     "text": [
      "Moviepy - Done !\n",
      "Moviepy - video ready output_vids/video_12_blue.mp4\n",
      "VIDEO --> 12 with color blue and background back_pic_4.png ---> 12 ::: DONE :)\n",
      "Moviepy - Building video output_vids/video_13_green.mp4.\n",
      "Moviepy - Writing video output_vids/video_13_green.mp4\n",
      "\n"
     ]
    },
    {
     "name": "stderr",
     "output_type": "stream",
     "text": [
      "                                                                                \r"
     ]
    },
    {
     "name": "stdout",
     "output_type": "stream",
     "text": [
      "Moviepy - Done !\n",
      "Moviepy - video ready output_vids/video_13_green.mp4\n",
      "VIDEO --> 13 with color green and background back_pic_4.png ---> 13 ::: DONE :)\n",
      "Moviepy - Building video output_vids/video_14_yellow.mp4.\n",
      "Moviepy - Writing video output_vids/video_14_yellow.mp4\n",
      "\n"
     ]
    },
    {
     "name": "stderr",
     "output_type": "stream",
     "text": [
      "                                                                                \r"
     ]
    },
    {
     "name": "stdout",
     "output_type": "stream",
     "text": [
      "Moviepy - Done !\n",
      "Moviepy - video ready output_vids/video_14_yellow.mp4\n",
      "VIDEO --> 14 with color yellow and background back_pic_4.png ---> 14 ::: DONE :)\n",
      "Moviepy - Building video output_vids/video_15_purple.mp4.\n",
      "Moviepy - Writing video output_vids/video_15_purple.mp4\n",
      "\n"
     ]
    },
    {
     "name": "stderr",
     "output_type": "stream",
     "text": [
      "t:   2%|▊                              | 2/82 [00:00<00:06, 12.47it/s, now=None]"
     ]
    }
   ],
   "source": [
    "# Defining a list of colors to iterate through\n",
    "colors = ['white', 'blue', 'green', 'yellow', 'purple']\n",
    "\n",
    "# Defining a list of background images to iterate through\n",
    "background_images = ['back_pic_4.png']\n",
    "\n",
    "# Setting the start and end points\n",
    "start = 1\n",
    "end = 20\n",
    "\n",
    "try:\n",
    "    for i in range(start, end + 1):\n",
    "        color_index = i % len(colors)\n",
    "        image_index = i % len(background_images)\n",
    "        \n",
    "        # Assign the current color to plot_color\n",
    "        plot_color = colors[color_index-1]\n",
    "        \n",
    "        # Assign the current background image\n",
    "        background_image_path = background_images[image_index-1]\n",
    "        \n",
    "        # ^^^ path ^^^\n",
    "        input_audio_path = f\"output_audio/piece_{i}.wav\"\n",
    "        \n",
    "        # ^^^ path ^^^\n",
    "        output_video_path = f\"output_vids/video_{i}_{plot_color}.mp4\"\n",
    "        \n",
    "        # Assuming your make_vid_freq_graph() function accepts color and background_image as parameters\n",
    "        make_vid_freq_graph()\n",
    "        \n",
    "        print(f'VIDEO --> {i} with color {plot_color} and background {background_image_path} ---> {i} ::: DONE :)')\n",
    "\n",
    "except Exception as e:\n",
    "    print(f\"An error occurred at number {i}. Error: {e}\")\n"
   ]
  },
  {
   "cell_type": "markdown",
   "id": "6d4661ec",
   "metadata": {},
   "source": [
    "# BIND ALL VIDEOS together "
   ]
  },
  {
   "cell_type": "code",
   "execution_count": 3,
   "id": "ba7beafc",
   "metadata": {},
   "outputs": [
    {
     "name": "stdout",
     "output_type": "stream",
     "text": [
      "Moviepy - Building video output_vids/complete_video.mp4.\n",
      "MoviePy - Writing audio in complete_videoTEMP_MPY_wvf_snd.mp4\n"
     ]
    },
    {
     "name": "stderr",
     "output_type": "stream",
     "text": [
      "                                                                                \r"
     ]
    },
    {
     "name": "stdout",
     "output_type": "stream",
     "text": [
      "MoviePy - Done.\n",
      "Moviepy - Writing video output_vids/complete_video.mp4\n",
      "\n"
     ]
    },
    {
     "name": "stderr",
     "output_type": "stream",
     "text": [
      "                                                                                \r"
     ]
    },
    {
     "name": "stdout",
     "output_type": "stream",
     "text": [
      "Moviepy - Done !\n",
      "Moviepy - video ready output_vids/complete_video.mp4\n"
     ]
    }
   ],
   "source": [
    "# %%\n",
    "# Importing the necessary libraries\n",
    "from moviepy.editor import VideoFileClip, concatenate_videoclips, AudioFileClip\n",
    "import os\n",
    "import re\n",
    "\n",
    "# %%\n",
    "# Function to sort filenames based on their numbers\n",
    "def sort_key(file_name):\n",
    "    num = re.search(r'\\d+', file_name)\n",
    "    if num:\n",
    "        return int(num.group(0))\n",
    "    return file_name\n",
    "\n",
    "# %%\n",
    "# Initialize variables\n",
    "input_folder = \"output_vids\"  # ^^^ path ^^^\n",
    "output_file = \"complete_video.mp4\"  # ^^^ path ^^^\n",
    "audio_file = \"ready_4_video.wav\"  # ^^^ path ^^^\n",
    "\n",
    "# %%\n",
    "# Fetch all the mp4 files from the input folder\n",
    "mp4_files = [f for f in os.listdir(input_folder) if f.endswith('.mp4')]\n",
    "\n",
    "# Sort the list based on the numbers in the filenames\n",
    "mp4_files.sort(key=sort_key)\n",
    "\n",
    "# %%\n",
    "# Read the video clips and store them in a list\n",
    "video_clips = [VideoFileClip(os.path.join(input_folder, mp4)) for mp4 in mp4_files]\n",
    "\n",
    "# %%\n",
    "# Concatenate video clips\n",
    "final_clip = concatenate_videoclips(video_clips)\n",
    "\n",
    "# %%\n",
    "# Import audio\n",
    "audio = AudioFileClip(audio_file)\n",
    "\n",
    "# %%\n",
    "# Attach audio to video\n",
    "final_video_with_audio = final_clip.set_audio(audio)\n",
    "\n",
    "# %%\n",
    "# Write the result to a file\n",
    "final_video_with_audio.write_videofile(os.path.join(input_folder, output_file), audio_codec='aac')\n"
   ]
  },
  {
   "cell_type": "code",
   "execution_count": null,
   "id": "919edd2e",
   "metadata": {},
   "outputs": [],
   "source": [
    "# CUT with SOCIAL_MEDIA meassurements"
   ]
  },
  {
   "cell_type": "code",
   "execution_count": null,
   "id": "abcbf762",
   "metadata": {},
   "outputs": [],
   "source": [
    "# %%\n",
    "# Importing the necessary libraries\n",
    "from moviepy.editor import VideoFileClip, concatenate_videoclips, AudioFileClip\n",
    "import os\n",
    "import re\n",
    "\n",
    "# %%\n",
    "# Function to sort filenames based on their numbers\n",
    "def sort_key(file_name):\n",
    "    num = re.search(r'\\d+', file_name)\n",
    "    if num:\n",
    "        return int(num.group(0))\n",
    "    return file_name\n",
    "\n",
    "# %%\n",
    "# Initialize variables\n",
    "input_folder = \"output_vids\"  # ^^^ path ^^^\n",
    "output_file = \"complete_video.mp4\"  # ^^^ path ^^^\n",
    "audio_file = \"ready_4_video.wav\"  # ^^^ path ^^^\n",
    "\n",
    "# %%\n",
    "# Fetch all the mp4 files from the input folder\n",
    "mp4_files = [f for f in os.listdir(input_folder) if f.endswith('.mp4')]\n",
    "\n",
    "# Sort the list based on the numbers in the filenames\n",
    "mp4_files.sort(key=sort_key)\n",
    "\n",
    "# %%\n",
    "# Read the video clips and store them in a list\n",
    "video_clips = [VideoFileClip(os.path.join(input_folder, mp4)) for mp4 in mp4_files]\n",
    "\n",
    "# %%\n",
    "# Concatenate video clips\n",
    "final_clip = concatenate_videoclips(video_clips)\n",
    "\n",
    "# %%\n",
    "# Import audio\n",
    "audio = AudioFileClip(audio_file)\n",
    "\n",
    "# %%\n",
    "# Attach audio to video\n",
    "final_video_with_audio = final_clip.set_audio(audio)\n",
    "\n",
    "# %%\n",
    "# Write the result to a file\n",
    "final_video_with_audio.write_videofile(os.path.join(input_folder, output_file), audio_codec='aac')\n",
    "\n",
    "# %%\n",
    "# Generate first 30 seconds for test samples\n",
    "short_test_clip = final_video_with_audio.subclip(0, 30)\n",
    "\n",
    "# %%\n",
    "# Resize and save videos for different platforms\n",
    "short_test_clip.resize(newsize=(1080, 1080)).write_videofile(os.path.join(input_folder, \"sample_insta_square.mp4\"))  # ^^^ path ^^^\n",
    "short_test_clip.resize(newsize=(1080, 1920)).write_videofile(os.path.join(input_folder, \"sample_yt_shorts.mp4\"))  # ^^^ path ^^^\n",
    "short_test_clip.resize(newsize=(1080, 1920)).write_videofile(os.path.join(input_folder, \"sample_insta_reels.mp4\"))  # ^^^ path ^^^\n"
   ]
  },
  {
   "cell_type": "code",
   "execution_count": null,
   "id": "0c407350",
   "metadata": {},
   "outputs": [],
   "source": []
  },
  {
   "cell_type": "code",
   "execution_count": null,
   "id": "2af7babe",
   "metadata": {},
   "outputs": [],
   "source": []
  },
  {
   "cell_type": "code",
   "execution_count": null,
   "id": "c3669423",
   "metadata": {},
   "outputs": [],
   "source": []
  },
  {
   "cell_type": "code",
   "execution_count": null,
   "id": "97ae4ab0",
   "metadata": {},
   "outputs": [],
   "source": []
  },
  {
   "cell_type": "code",
   "execution_count": null,
   "id": "454ecb27",
   "metadata": {},
   "outputs": [],
   "source": []
  },
  {
   "cell_type": "code",
   "execution_count": null,
   "id": "d2a878be",
   "metadata": {},
   "outputs": [],
   "source": []
  },
  {
   "cell_type": "code",
   "execution_count": null,
   "id": "1b30ff2c",
   "metadata": {},
   "outputs": [],
   "source": []
  },
  {
   "cell_type": "code",
   "execution_count": null,
   "id": "45b41d81",
   "metadata": {},
   "outputs": [],
   "source": []
  },
  {
   "cell_type": "code",
   "execution_count": null,
   "id": "1e252545",
   "metadata": {},
   "outputs": [],
   "source": []
  },
  {
   "cell_type": "code",
   "execution_count": null,
   "id": "5a766e7c",
   "metadata": {},
   "outputs": [],
   "source": []
  },
  {
   "cell_type": "code",
   "execution_count": null,
   "id": "4c2412d5",
   "metadata": {},
   "outputs": [],
   "source": []
  },
  {
   "cell_type": "code",
   "execution_count": null,
   "id": "63a9115b",
   "metadata": {},
   "outputs": [],
   "source": []
  }
 ],
 "metadata": {
  "kernelspec": {
   "display_name": "Python 3 (ipykernel)",
   "language": "python",
   "name": "python3"
  },
  "language_info": {
   "codemirror_mode": {
    "name": "ipython",
    "version": 3
   },
   "file_extension": ".py",
   "mimetype": "text/x-python",
   "name": "python",
   "nbconvert_exporter": "python",
   "pygments_lexer": "ipython3",
   "version": "3.10.9"
  }
 },
 "nbformat": 4,
 "nbformat_minor": 5
}
